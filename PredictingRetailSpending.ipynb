{
  "nbformat": 4,
  "nbformat_minor": 0,
  "metadata": {
    "colab": {
      "provenance": [],
      "authorship_tag": "ABX9TyOceT59u2bStVXdgXrtE2Ya",
      "include_colab_link": true
    },
    "kernelspec": {
      "name": "python3",
      "display_name": "Python 3"
    },
    "language_info": {
      "name": "python"
    }
  },
  "cells": [
    {
      "cell_type": "markdown",
      "metadata": {
        "id": "view-in-github",
        "colab_type": "text"
      },
      "source": [
        "<a href=\"https://colab.research.google.com/github/KOdunga/MITIDSS/blob/main/PredictingRetailSpending.ipynb\" target=\"_parent\"><img src=\"https://colab.research.google.com/assets/colab-badge.svg\" alt=\"Open In Colab\"/></a>"
      ]
    },
    {
      "cell_type": "markdown",
      "source": [
        "## **Predicting Retail Spending with Automated Feature Engineering in Feature tools**"
      ],
      "metadata": {
        "id": "IIRifkxlN30e"
      }
    },
    {
      "cell_type": "markdown",
      "source": [
        "- Time and feature creation capabilities of feature tools function."
      ],
      "metadata": {
        "id": "No4l8A1RhCQK"
      }
    },
    {
      "cell_type": "code",
      "source": [
        "!pip install featuretools==0.27.0"
      ],
      "metadata": {
        "colab": {
          "base_uri": "https://localhost:8080/",
          "height": 834
        },
        "id": "1H_SP1DDhwR9",
        "outputId": "e8a6b875-a020-4109-dc28-e3e4001ac436"
      },
      "execution_count": 1,
      "outputs": [
        {
          "output_type": "stream",
          "name": "stdout",
          "text": [
            "Looking in indexes: https://pypi.org/simple, https://us-python.pkg.dev/colab-wheels/public/simple/\n",
            "Collecting featuretools==0.27.0\n",
            "  Downloading featuretools-0.27.0-py3-none-any.whl (327 kB)\n",
            "\u001b[K     |████████████████████████████████| 327 kB 8.5 MB/s \n",
            "\u001b[?25hRequirement already satisfied: tqdm>=4.32.0 in /usr/local/lib/python3.7/dist-packages (from featuretools==0.27.0) (4.64.1)\n",
            "Collecting psutil>=5.6.6\n",
            "  Downloading psutil-5.9.3-cp37-cp37m-manylinux_2_12_x86_64.manylinux2010_x86_64.manylinux_2_17_x86_64.manylinux2014_x86_64.whl (291 kB)\n",
            "\u001b[K     |████████████████████████████████| 291 kB 45.7 MB/s \n",
            "\u001b[?25hRequirement already satisfied: pandas<2.0.0,>=1.2.0 in /usr/local/lib/python3.7/dist-packages (from featuretools==0.27.0) (1.3.5)\n",
            "Requirement already satisfied: cloudpickle>=0.4.0 in /usr/local/lib/python3.7/dist-packages (from featuretools==0.27.0) (1.5.0)\n",
            "Requirement already satisfied: distributed>=2.12.0 in /usr/local/lib/python3.7/dist-packages (from featuretools==0.27.0) (2022.2.0)\n",
            "Requirement already satisfied: dask[dataframe]>=2.12.0 in /usr/local/lib/python3.7/dist-packages (from featuretools==0.27.0) (2022.2.0)\n",
            "Requirement already satisfied: numpy>=1.16.6 in /usr/local/lib/python3.7/dist-packages (from featuretools==0.27.0) (1.21.6)\n",
            "Requirement already satisfied: scipy>=1.3.2 in /usr/local/lib/python3.7/dist-packages (from featuretools==0.27.0) (1.7.3)\n",
            "Requirement already satisfied: pyyaml>=5.4 in /usr/local/lib/python3.7/dist-packages (from featuretools==0.27.0) (6.0)\n",
            "Requirement already satisfied: click>=7.0.0 in /usr/local/lib/python3.7/dist-packages (from featuretools==0.27.0) (7.1.2)\n",
            "Requirement already satisfied: packaging>=20.0 in /usr/local/lib/python3.7/dist-packages (from dask[dataframe]>=2.12.0->featuretools==0.27.0) (21.3)\n",
            "Requirement already satisfied: partd>=0.3.10 in /usr/local/lib/python3.7/dist-packages (from dask[dataframe]>=2.12.0->featuretools==0.27.0) (1.3.0)\n",
            "Requirement already satisfied: fsspec>=0.6.0 in /usr/local/lib/python3.7/dist-packages (from dask[dataframe]>=2.12.0->featuretools==0.27.0) (2022.8.2)\n",
            "Requirement already satisfied: toolz>=0.8.2 in /usr/local/lib/python3.7/dist-packages (from dask[dataframe]>=2.12.0->featuretools==0.27.0) (0.12.0)\n",
            "Requirement already satisfied: jinja2 in /usr/local/lib/python3.7/dist-packages (from distributed>=2.12.0->featuretools==0.27.0) (2.11.3)\n",
            "Requirement already satisfied: sortedcontainers!=2.0.0,!=2.0.1 in /usr/local/lib/python3.7/dist-packages (from distributed>=2.12.0->featuretools==0.27.0) (2.4.0)\n",
            "Requirement already satisfied: msgpack>=0.6.0 in /usr/local/lib/python3.7/dist-packages (from distributed>=2.12.0->featuretools==0.27.0) (1.0.4)\n",
            "Requirement already satisfied: tblib>=1.6.0 in /usr/local/lib/python3.7/dist-packages (from distributed>=2.12.0->featuretools==0.27.0) (1.7.0)\n",
            "Requirement already satisfied: setuptools in /usr/local/lib/python3.7/dist-packages (from distributed>=2.12.0->featuretools==0.27.0) (57.4.0)\n",
            "Requirement already satisfied: zict>=0.1.3 in /usr/local/lib/python3.7/dist-packages (from distributed>=2.12.0->featuretools==0.27.0) (2.2.0)\n",
            "Requirement already satisfied: tornado>=5 in /usr/local/lib/python3.7/dist-packages (from distributed>=2.12.0->featuretools==0.27.0) (5.1.1)\n",
            "Requirement already satisfied: pyparsing!=3.0.5,>=2.0.2 in /usr/local/lib/python3.7/dist-packages (from packaging>=20.0->dask[dataframe]>=2.12.0->featuretools==0.27.0) (3.0.9)\n",
            "Requirement already satisfied: pytz>=2017.3 in /usr/local/lib/python3.7/dist-packages (from pandas<2.0.0,>=1.2.0->featuretools==0.27.0) (2022.4)\n",
            "Requirement already satisfied: python-dateutil>=2.7.3 in /usr/local/lib/python3.7/dist-packages (from pandas<2.0.0,>=1.2.0->featuretools==0.27.0) (2.8.2)\n",
            "Requirement already satisfied: locket in /usr/local/lib/python3.7/dist-packages (from partd>=0.3.10->dask[dataframe]>=2.12.0->featuretools==0.27.0) (1.0.0)\n",
            "Requirement already satisfied: six>=1.5 in /usr/local/lib/python3.7/dist-packages (from python-dateutil>=2.7.3->pandas<2.0.0,>=1.2.0->featuretools==0.27.0) (1.15.0)\n",
            "Requirement already satisfied: heapdict in /usr/local/lib/python3.7/dist-packages (from zict>=0.1.3->distributed>=2.12.0->featuretools==0.27.0) (1.0.1)\n",
            "Requirement already satisfied: MarkupSafe>=0.23 in /usr/local/lib/python3.7/dist-packages (from jinja2->distributed>=2.12.0->featuretools==0.27.0) (2.0.1)\n",
            "Installing collected packages: psutil, featuretools\n",
            "  Attempting uninstall: psutil\n",
            "    Found existing installation: psutil 5.4.8\n",
            "    Uninstalling psutil-5.4.8:\n",
            "      Successfully uninstalled psutil-5.4.8\n",
            "Successfully installed featuretools-0.27.0 psutil-5.9.3\n"
          ]
        },
        {
          "output_type": "display_data",
          "data": {
            "application/vnd.colab-display-data+json": {
              "pip_warning": {
                "packages": [
                  "psutil"
                ]
              }
            }
          },
          "metadata": {}
        }
      ]
    },
    {
      "cell_type": "code",
      "execution_count": 2,
      "metadata": {
        "id": "OivR5-P8N2RT"
      },
      "outputs": [],
      "source": [
        "import pandas as pd\n",
        "import numpy as np\n",
        "import matplotlib.pyplot as plt\n",
        "import seaborn as sns\n",
        "\n",
        "plt.style.use('fivethirtyeight')\n",
        "%matplotlib inline\n",
        "\n",
        "import featuretools as ft\n",
        "\n",
        "from sklearn.impute import SimpleImputer\n",
        "from sklearn.preprocessing import MinMaxScaler\n",
        "from sklearn.metrics import precision_score, recall_score, f1_score, roc_auc_score, precision_recall_curve, roc_curve\n",
        "from sklearn.model_selection import train_test_split, cross_val_score\n",
        "from sklearn.ensemble import RandomForestClassifier\n",
        "\n",
        "import warnings\n",
        "warnings.filterwarnings('ignore')"
      ]
    },
    {
      "cell_type": "code",
      "source": [
        "from google.colab import drive\n",
        "drive.mount('/content/drive')"
      ],
      "metadata": {
        "colab": {
          "base_uri": "https://localhost:8080/"
        },
        "id": "FkyjVQ1rioMi",
        "outputId": "e4a6c454-e635-458e-ccc5-78bbeb510390"
      },
      "execution_count": 3,
      "outputs": [
        {
          "output_type": "stream",
          "name": "stdout",
          "text": [
            "Mounted at /content/drive\n"
          ]
        }
      ]
    },
    {
      "cell_type": "code",
      "source": [
        "data = pd.read_excel('/content/drive/MyDrive/DSML/Online Retail.xlsx')"
      ],
      "metadata": {
        "id": "Hs0jYXhMiyqr"
      },
      "execution_count": 4,
      "outputs": []
    },
    {
      "cell_type": "code",
      "source": [
        "data.head()"
      ],
      "metadata": {
        "colab": {
          "base_uri": "https://localhost:8080/",
          "height": 206
        },
        "id": "nzi3d1xhjK_p",
        "outputId": "ec63d9a0-7902-4513-d6d4-d6183bc47f9f"
      },
      "execution_count": 5,
      "outputs": [
        {
          "output_type": "execute_result",
          "data": {
            "text/plain": [
              "  InvoiceNo StockCode                          Description  Quantity  \\\n",
              "0    536365    85123A   WHITE HANGING HEART T-LIGHT HOLDER         6   \n",
              "1    536365     71053                  WHITE METAL LANTERN         6   \n",
              "2    536365    84406B       CREAM CUPID HEARTS COAT HANGER         8   \n",
              "3    536365    84029G  KNITTED UNION FLAG HOT WATER BOTTLE         6   \n",
              "4    536365    84029E       RED WOOLLY HOTTIE WHITE HEART.         6   \n",
              "\n",
              "          InvoiceDate  UnitPrice  CustomerID         Country  \n",
              "0 2010-12-01 08:26:00       2.55     17850.0  United Kingdom  \n",
              "1 2010-12-01 08:26:00       3.39     17850.0  United Kingdom  \n",
              "2 2010-12-01 08:26:00       2.75     17850.0  United Kingdom  \n",
              "3 2010-12-01 08:26:00       3.39     17850.0  United Kingdom  \n",
              "4 2010-12-01 08:26:00       3.39     17850.0  United Kingdom  "
            ],
            "text/html": [
              "\n",
              "  <div id=\"df-f35cdae0-43e8-4f8e-997e-702a60a618c4\">\n",
              "    <div class=\"colab-df-container\">\n",
              "      <div>\n",
              "<style scoped>\n",
              "    .dataframe tbody tr th:only-of-type {\n",
              "        vertical-align: middle;\n",
              "    }\n",
              "\n",
              "    .dataframe tbody tr th {\n",
              "        vertical-align: top;\n",
              "    }\n",
              "\n",
              "    .dataframe thead th {\n",
              "        text-align: right;\n",
              "    }\n",
              "</style>\n",
              "<table border=\"1\" class=\"dataframe\">\n",
              "  <thead>\n",
              "    <tr style=\"text-align: right;\">\n",
              "      <th></th>\n",
              "      <th>InvoiceNo</th>\n",
              "      <th>StockCode</th>\n",
              "      <th>Description</th>\n",
              "      <th>Quantity</th>\n",
              "      <th>InvoiceDate</th>\n",
              "      <th>UnitPrice</th>\n",
              "      <th>CustomerID</th>\n",
              "      <th>Country</th>\n",
              "    </tr>\n",
              "  </thead>\n",
              "  <tbody>\n",
              "    <tr>\n",
              "      <th>0</th>\n",
              "      <td>536365</td>\n",
              "      <td>85123A</td>\n",
              "      <td>WHITE HANGING HEART T-LIGHT HOLDER</td>\n",
              "      <td>6</td>\n",
              "      <td>2010-12-01 08:26:00</td>\n",
              "      <td>2.55</td>\n",
              "      <td>17850.0</td>\n",
              "      <td>United Kingdom</td>\n",
              "    </tr>\n",
              "    <tr>\n",
              "      <th>1</th>\n",
              "      <td>536365</td>\n",
              "      <td>71053</td>\n",
              "      <td>WHITE METAL LANTERN</td>\n",
              "      <td>6</td>\n",
              "      <td>2010-12-01 08:26:00</td>\n",
              "      <td>3.39</td>\n",
              "      <td>17850.0</td>\n",
              "      <td>United Kingdom</td>\n",
              "    </tr>\n",
              "    <tr>\n",
              "      <th>2</th>\n",
              "      <td>536365</td>\n",
              "      <td>84406B</td>\n",
              "      <td>CREAM CUPID HEARTS COAT HANGER</td>\n",
              "      <td>8</td>\n",
              "      <td>2010-12-01 08:26:00</td>\n",
              "      <td>2.75</td>\n",
              "      <td>17850.0</td>\n",
              "      <td>United Kingdom</td>\n",
              "    </tr>\n",
              "    <tr>\n",
              "      <th>3</th>\n",
              "      <td>536365</td>\n",
              "      <td>84029G</td>\n",
              "      <td>KNITTED UNION FLAG HOT WATER BOTTLE</td>\n",
              "      <td>6</td>\n",
              "      <td>2010-12-01 08:26:00</td>\n",
              "      <td>3.39</td>\n",
              "      <td>17850.0</td>\n",
              "      <td>United Kingdom</td>\n",
              "    </tr>\n",
              "    <tr>\n",
              "      <th>4</th>\n",
              "      <td>536365</td>\n",
              "      <td>84029E</td>\n",
              "      <td>RED WOOLLY HOTTIE WHITE HEART.</td>\n",
              "      <td>6</td>\n",
              "      <td>2010-12-01 08:26:00</td>\n",
              "      <td>3.39</td>\n",
              "      <td>17850.0</td>\n",
              "      <td>United Kingdom</td>\n",
              "    </tr>\n",
              "  </tbody>\n",
              "</table>\n",
              "</div>\n",
              "      <button class=\"colab-df-convert\" onclick=\"convertToInteractive('df-f35cdae0-43e8-4f8e-997e-702a60a618c4')\"\n",
              "              title=\"Convert this dataframe to an interactive table.\"\n",
              "              style=\"display:none;\">\n",
              "        \n",
              "  <svg xmlns=\"http://www.w3.org/2000/svg\" height=\"24px\"viewBox=\"0 0 24 24\"\n",
              "       width=\"24px\">\n",
              "    <path d=\"M0 0h24v24H0V0z\" fill=\"none\"/>\n",
              "    <path d=\"M18.56 5.44l.94 2.06.94-2.06 2.06-.94-2.06-.94-.94-2.06-.94 2.06-2.06.94zm-11 1L8.5 8.5l.94-2.06 2.06-.94-2.06-.94L8.5 2.5l-.94 2.06-2.06.94zm10 10l.94 2.06.94-2.06 2.06-.94-2.06-.94-.94-2.06-.94 2.06-2.06.94z\"/><path d=\"M17.41 7.96l-1.37-1.37c-.4-.4-.92-.59-1.43-.59-.52 0-1.04.2-1.43.59L10.3 9.45l-7.72 7.72c-.78.78-.78 2.05 0 2.83L4 21.41c.39.39.9.59 1.41.59.51 0 1.02-.2 1.41-.59l7.78-7.78 2.81-2.81c.8-.78.8-2.07 0-2.86zM5.41 20L4 18.59l7.72-7.72 1.47 1.35L5.41 20z\"/>\n",
              "  </svg>\n",
              "      </button>\n",
              "      \n",
              "  <style>\n",
              "    .colab-df-container {\n",
              "      display:flex;\n",
              "      flex-wrap:wrap;\n",
              "      gap: 12px;\n",
              "    }\n",
              "\n",
              "    .colab-df-convert {\n",
              "      background-color: #E8F0FE;\n",
              "      border: none;\n",
              "      border-radius: 50%;\n",
              "      cursor: pointer;\n",
              "      display: none;\n",
              "      fill: #1967D2;\n",
              "      height: 32px;\n",
              "      padding: 0 0 0 0;\n",
              "      width: 32px;\n",
              "    }\n",
              "\n",
              "    .colab-df-convert:hover {\n",
              "      background-color: #E2EBFA;\n",
              "      box-shadow: 0px 1px 2px rgba(60, 64, 67, 0.3), 0px 1px 3px 1px rgba(60, 64, 67, 0.15);\n",
              "      fill: #174EA6;\n",
              "    }\n",
              "\n",
              "    [theme=dark] .colab-df-convert {\n",
              "      background-color: #3B4455;\n",
              "      fill: #D2E3FC;\n",
              "    }\n",
              "\n",
              "    [theme=dark] .colab-df-convert:hover {\n",
              "      background-color: #434B5C;\n",
              "      box-shadow: 0px 1px 3px 1px rgba(0, 0, 0, 0.15);\n",
              "      filter: drop-shadow(0px 1px 2px rgba(0, 0, 0, 0.3));\n",
              "      fill: #FFFFFF;\n",
              "    }\n",
              "  </style>\n",
              "\n",
              "      <script>\n",
              "        const buttonEl =\n",
              "          document.querySelector('#df-f35cdae0-43e8-4f8e-997e-702a60a618c4 button.colab-df-convert');\n",
              "        buttonEl.style.display =\n",
              "          google.colab.kernel.accessAllowed ? 'block' : 'none';\n",
              "\n",
              "        async function convertToInteractive(key) {\n",
              "          const element = document.querySelector('#df-f35cdae0-43e8-4f8e-997e-702a60a618c4');\n",
              "          const dataTable =\n",
              "            await google.colab.kernel.invokeFunction('convertToInteractive',\n",
              "                                                     [key], {});\n",
              "          if (!dataTable) return;\n",
              "\n",
              "          const docLinkHtml = 'Like what you see? Visit the ' +\n",
              "            '<a target=\"_blank\" href=https://colab.research.google.com/notebooks/data_table.ipynb>data table notebook</a>'\n",
              "            + ' to learn more about interactive tables.';\n",
              "          element.innerHTML = '';\n",
              "          dataTable['output_type'] = 'display_data';\n",
              "          await google.colab.output.renderOutput(dataTable, element);\n",
              "          const docLink = document.createElement('div');\n",
              "          docLink.innerHTML = docLinkHtml;\n",
              "          element.appendChild(docLink);\n",
              "        }\n",
              "      </script>\n",
              "    </div>\n",
              "  </div>\n",
              "  "
            ]
          },
          "metadata": {},
          "execution_count": 5
        }
      ]
    },
    {
      "cell_type": "code",
      "source": [
        "data.shape"
      ],
      "metadata": {
        "colab": {
          "base_uri": "https://localhost:8080/"
        },
        "id": "HlVkgeM-jMI3",
        "outputId": "d9533585-a873-4265-8c14-8e1707f0bb02"
      },
      "execution_count": 6,
      "outputs": [
        {
          "output_type": "execute_result",
          "data": {
            "text/plain": [
              "(541909, 8)"
            ]
          },
          "metadata": {},
          "execution_count": 6
        }
      ]
    },
    {
      "cell_type": "code",
      "source": [
        "#Convert pounds to dollars\n",
        "data['UnitPrice']=data['UnitPrice']*1.65\n",
        "data['total'] = data['UnitPrice'] * data['Quantity']"
      ],
      "metadata": {
        "id": "uZRikoRHjQZS"
      },
      "execution_count": 7,
      "outputs": []
    },
    {
      "cell_type": "code",
      "source": [
        "#Restrict to only 2011 data\n",
        "data_2011 = data[data['InvoiceDate'].dt.year== 2011]"
      ],
      "metadata": {
        "id": "-JMD3qP7j5pj"
      },
      "execution_count": 8,
      "outputs": []
    },
    {
      "cell_type": "code",
      "source": [
        "data_2011.head()"
      ],
      "metadata": {
        "colab": {
          "base_uri": "https://localhost:8080/",
          "height": 206
        },
        "id": "_Ukf4t2lkGH7",
        "outputId": "759e0a02-60d4-4dd6-b45c-6f85b3899979"
      },
      "execution_count": 9,
      "outputs": [
        {
          "output_type": "execute_result",
          "data": {
            "text/plain": [
              "      InvoiceNo StockCode                Description  Quantity  \\\n",
              "42481    539993     22386    JUMBO BAG PINK POLKADOT        10   \n",
              "42482    539993     21499         BLUE POLKADOT WRAP        25   \n",
              "42483    539993     21498        RED RETROSPOT WRAP         25   \n",
              "42484    539993     22379   RECYCLING BAG RETROSPOT          5   \n",
              "42485    539993     20718  RED RETROSPOT SHOPPER BAG        10   \n",
              "\n",
              "              InvoiceDate  UnitPrice  CustomerID         Country   total  \n",
              "42481 2011-01-04 10:00:00     3.2175     13313.0  United Kingdom  32.175  \n",
              "42482 2011-01-04 10:00:00     0.6930     13313.0  United Kingdom  17.325  \n",
              "42483 2011-01-04 10:00:00     0.6930     13313.0  United Kingdom  17.325  \n",
              "42484 2011-01-04 10:00:00     3.4650     13313.0  United Kingdom  17.325  \n",
              "42485 2011-01-04 10:00:00     2.0625     13313.0  United Kingdom  20.625  "
            ],
            "text/html": [
              "\n",
              "  <div id=\"df-891deaa1-55b8-4aaa-ae5f-44159561ff92\">\n",
              "    <div class=\"colab-df-container\">\n",
              "      <div>\n",
              "<style scoped>\n",
              "    .dataframe tbody tr th:only-of-type {\n",
              "        vertical-align: middle;\n",
              "    }\n",
              "\n",
              "    .dataframe tbody tr th {\n",
              "        vertical-align: top;\n",
              "    }\n",
              "\n",
              "    .dataframe thead th {\n",
              "        text-align: right;\n",
              "    }\n",
              "</style>\n",
              "<table border=\"1\" class=\"dataframe\">\n",
              "  <thead>\n",
              "    <tr style=\"text-align: right;\">\n",
              "      <th></th>\n",
              "      <th>InvoiceNo</th>\n",
              "      <th>StockCode</th>\n",
              "      <th>Description</th>\n",
              "      <th>Quantity</th>\n",
              "      <th>InvoiceDate</th>\n",
              "      <th>UnitPrice</th>\n",
              "      <th>CustomerID</th>\n",
              "      <th>Country</th>\n",
              "      <th>total</th>\n",
              "    </tr>\n",
              "  </thead>\n",
              "  <tbody>\n",
              "    <tr>\n",
              "      <th>42481</th>\n",
              "      <td>539993</td>\n",
              "      <td>22386</td>\n",
              "      <td>JUMBO BAG PINK POLKADOT</td>\n",
              "      <td>10</td>\n",
              "      <td>2011-01-04 10:00:00</td>\n",
              "      <td>3.2175</td>\n",
              "      <td>13313.0</td>\n",
              "      <td>United Kingdom</td>\n",
              "      <td>32.175</td>\n",
              "    </tr>\n",
              "    <tr>\n",
              "      <th>42482</th>\n",
              "      <td>539993</td>\n",
              "      <td>21499</td>\n",
              "      <td>BLUE POLKADOT WRAP</td>\n",
              "      <td>25</td>\n",
              "      <td>2011-01-04 10:00:00</td>\n",
              "      <td>0.6930</td>\n",
              "      <td>13313.0</td>\n",
              "      <td>United Kingdom</td>\n",
              "      <td>17.325</td>\n",
              "    </tr>\n",
              "    <tr>\n",
              "      <th>42483</th>\n",
              "      <td>539993</td>\n",
              "      <td>21498</td>\n",
              "      <td>RED RETROSPOT WRAP</td>\n",
              "      <td>25</td>\n",
              "      <td>2011-01-04 10:00:00</td>\n",
              "      <td>0.6930</td>\n",
              "      <td>13313.0</td>\n",
              "      <td>United Kingdom</td>\n",
              "      <td>17.325</td>\n",
              "    </tr>\n",
              "    <tr>\n",
              "      <th>42484</th>\n",
              "      <td>539993</td>\n",
              "      <td>22379</td>\n",
              "      <td>RECYCLING BAG RETROSPOT</td>\n",
              "      <td>5</td>\n",
              "      <td>2011-01-04 10:00:00</td>\n",
              "      <td>3.4650</td>\n",
              "      <td>13313.0</td>\n",
              "      <td>United Kingdom</td>\n",
              "      <td>17.325</td>\n",
              "    </tr>\n",
              "    <tr>\n",
              "      <th>42485</th>\n",
              "      <td>539993</td>\n",
              "      <td>20718</td>\n",
              "      <td>RED RETROSPOT SHOPPER BAG</td>\n",
              "      <td>10</td>\n",
              "      <td>2011-01-04 10:00:00</td>\n",
              "      <td>2.0625</td>\n",
              "      <td>13313.0</td>\n",
              "      <td>United Kingdom</td>\n",
              "      <td>20.625</td>\n",
              "    </tr>\n",
              "  </tbody>\n",
              "</table>\n",
              "</div>\n",
              "      <button class=\"colab-df-convert\" onclick=\"convertToInteractive('df-891deaa1-55b8-4aaa-ae5f-44159561ff92')\"\n",
              "              title=\"Convert this dataframe to an interactive table.\"\n",
              "              style=\"display:none;\">\n",
              "        \n",
              "  <svg xmlns=\"http://www.w3.org/2000/svg\" height=\"24px\"viewBox=\"0 0 24 24\"\n",
              "       width=\"24px\">\n",
              "    <path d=\"M0 0h24v24H0V0z\" fill=\"none\"/>\n",
              "    <path d=\"M18.56 5.44l.94 2.06.94-2.06 2.06-.94-2.06-.94-.94-2.06-.94 2.06-2.06.94zm-11 1L8.5 8.5l.94-2.06 2.06-.94-2.06-.94L8.5 2.5l-.94 2.06-2.06.94zm10 10l.94 2.06.94-2.06 2.06-.94-2.06-.94-.94-2.06-.94 2.06-2.06.94z\"/><path d=\"M17.41 7.96l-1.37-1.37c-.4-.4-.92-.59-1.43-.59-.52 0-1.04.2-1.43.59L10.3 9.45l-7.72 7.72c-.78.78-.78 2.05 0 2.83L4 21.41c.39.39.9.59 1.41.59.51 0 1.02-.2 1.41-.59l7.78-7.78 2.81-2.81c.8-.78.8-2.07 0-2.86zM5.41 20L4 18.59l7.72-7.72 1.47 1.35L5.41 20z\"/>\n",
              "  </svg>\n",
              "      </button>\n",
              "      \n",
              "  <style>\n",
              "    .colab-df-container {\n",
              "      display:flex;\n",
              "      flex-wrap:wrap;\n",
              "      gap: 12px;\n",
              "    }\n",
              "\n",
              "    .colab-df-convert {\n",
              "      background-color: #E8F0FE;\n",
              "      border: none;\n",
              "      border-radius: 50%;\n",
              "      cursor: pointer;\n",
              "      display: none;\n",
              "      fill: #1967D2;\n",
              "      height: 32px;\n",
              "      padding: 0 0 0 0;\n",
              "      width: 32px;\n",
              "    }\n",
              "\n",
              "    .colab-df-convert:hover {\n",
              "      background-color: #E2EBFA;\n",
              "      box-shadow: 0px 1px 2px rgba(60, 64, 67, 0.3), 0px 1px 3px 1px rgba(60, 64, 67, 0.15);\n",
              "      fill: #174EA6;\n",
              "    }\n",
              "\n",
              "    [theme=dark] .colab-df-convert {\n",
              "      background-color: #3B4455;\n",
              "      fill: #D2E3FC;\n",
              "    }\n",
              "\n",
              "    [theme=dark] .colab-df-convert:hover {\n",
              "      background-color: #434B5C;\n",
              "      box-shadow: 0px 1px 3px 1px rgba(0, 0, 0, 0.15);\n",
              "      filter: drop-shadow(0px 1px 2px rgba(0, 0, 0, 0.3));\n",
              "      fill: #FFFFFF;\n",
              "    }\n",
              "  </style>\n",
              "\n",
              "      <script>\n",
              "        const buttonEl =\n",
              "          document.querySelector('#df-891deaa1-55b8-4aaa-ae5f-44159561ff92 button.colab-df-convert');\n",
              "        buttonEl.style.display =\n",
              "          google.colab.kernel.accessAllowed ? 'block' : 'none';\n",
              "\n",
              "        async function convertToInteractive(key) {\n",
              "          const element = document.querySelector('#df-891deaa1-55b8-4aaa-ae5f-44159561ff92');\n",
              "          const dataTable =\n",
              "            await google.colab.kernel.invokeFunction('convertToInteractive',\n",
              "                                                     [key], {});\n",
              "          if (!dataTable) return;\n",
              "\n",
              "          const docLinkHtml = 'Like what you see? Visit the ' +\n",
              "            '<a target=\"_blank\" href=https://colab.research.google.com/notebooks/data_table.ipynb>data table notebook</a>'\n",
              "            + ' to learn more about interactive tables.';\n",
              "          element.innerHTML = '';\n",
              "          dataTable['output_type'] = 'display_data';\n",
              "          await google.colab.output.renderOutput(dataTable, element);\n",
              "          const docLink = document.createElement('div');\n",
              "          docLink.innerHTML = docLinkHtml;\n",
              "          element.appendChild(docLink);\n",
              "        }\n",
              "      </script>\n",
              "    </div>\n",
              "  </div>\n",
              "  "
            ]
          },
          "metadata": {},
          "execution_count": 9
        }
      ]
    },
    {
      "cell_type": "code",
      "source": [
        "data_2011.shape"
      ],
      "metadata": {
        "colab": {
          "base_uri": "https://localhost:8080/"
        },
        "id": "M3ArzZ8GkKYa",
        "outputId": "1c9ff36b-1a6e-40e9-86a6-42d21a132e86"
      },
      "execution_count": 10,
      "outputs": [
        {
          "output_type": "execute_result",
          "data": {
            "text/plain": [
              "(499428, 9)"
            ]
          },
          "metadata": {},
          "execution_count": 10
        }
      ]
    },
    {
      "cell_type": "code",
      "source": [
        "data_2011.info()"
      ],
      "metadata": {
        "colab": {
          "base_uri": "https://localhost:8080/"
        },
        "id": "LThciNwjkOvZ",
        "outputId": "6b6869c1-36ae-4d3e-806e-191c316d30d1"
      },
      "execution_count": 11,
      "outputs": [
        {
          "output_type": "stream",
          "name": "stdout",
          "text": [
            "<class 'pandas.core.frame.DataFrame'>\n",
            "Int64Index: 499428 entries, 42481 to 541908\n",
            "Data columns (total 9 columns):\n",
            " #   Column       Non-Null Count   Dtype         \n",
            "---  ------       --------------   -----         \n",
            " 0   InvoiceNo    499428 non-null  object        \n",
            " 1   StockCode    499428 non-null  object        \n",
            " 2   Description  498099 non-null  object        \n",
            " 3   Quantity     499428 non-null  int64         \n",
            " 4   InvoiceDate  499428 non-null  datetime64[ns]\n",
            " 5   UnitPrice    499428 non-null  float64       \n",
            " 6   CustomerID   379979 non-null  float64       \n",
            " 7   Country      499428 non-null  object        \n",
            " 8   total        499428 non-null  float64       \n",
            "dtypes: datetime64[ns](1), float64(3), int64(1), object(4)\n",
            "memory usage: 38.1+ MB\n"
          ]
        }
      ]
    },
    {
      "cell_type": "code",
      "source": [
        "#Drop duplicated rows\n",
        "data_2011.duplicated().sum()"
      ],
      "metadata": {
        "colab": {
          "base_uri": "https://localhost:8080/"
        },
        "id": "XpCxSSKlkSgH",
        "outputId": "3a8319ab-3ec1-4bb5-d2e0-0f2947f5e5db"
      },
      "execution_count": 12,
      "outputs": [
        {
          "output_type": "execute_result",
          "data": {
            "text/plain": [
              "4768"
            ]
          },
          "metadata": {},
          "execution_count": 12
        }
      ]
    },
    {
      "cell_type": "markdown",
      "source": [
        "- There as 4,768 rows that are of duplicate values. We drop these as they will add bias in the dataset."
      ],
      "metadata": {
        "id": "VjVz3cjTkf7A"
      }
    },
    {
      "cell_type": "code",
      "source": [
        "data_2011.isnull().sum()"
      ],
      "metadata": {
        "colab": {
          "base_uri": "https://localhost:8080/"
        },
        "id": "3_BqwbvUkb9j",
        "outputId": "ad8bbf9e-2843-473c-bebd-d1ff318ff555"
      },
      "execution_count": 13,
      "outputs": [
        {
          "output_type": "execute_result",
          "data": {
            "text/plain": [
              "InvoiceNo           0\n",
              "StockCode           0\n",
              "Description      1329\n",
              "Quantity            0\n",
              "InvoiceDate         0\n",
              "UnitPrice           0\n",
              "CustomerID     119449\n",
              "Country             0\n",
              "total               0\n",
              "dtype: int64"
            ]
          },
          "metadata": {},
          "execution_count": 13
        }
      ]
    },
    {
      "cell_type": "markdown",
      "source": [
        "- We can fill the null customer id values by matching the invoice numbers, but for this exercise, we will opt to drop these."
      ],
      "metadata": {
        "id": "8mtpQTJdkvcZ"
      }
    },
    {
      "cell_type": "code",
      "source": [
        "#Drop the duplicates\n",
        "data_2011 = data_2011.drop_duplicates()\n",
        "\n",
        "#Drop rows with null customer id values\n",
        "data_2011 = data_2011.dropna(axis = 0)\n",
        "\n",
        "data_2011['cancelled'] = data_2011['InvoiceNo'].str.startswith('C', na = False)"
      ],
      "metadata": {
        "id": "oNXiE3yDkrvJ"
      },
      "execution_count": 14,
      "outputs": []
    },
    {
      "cell_type": "code",
      "source": [
        "data_2011.shape"
      ],
      "metadata": {
        "colab": {
          "base_uri": "https://localhost:8080/"
        },
        "id": "BIiJBl7ElZxJ",
        "outputId": "9c1d19eb-2e8d-4d6d-93ee-626c368745d8"
      },
      "execution_count": 15,
      "outputs": [
        {
          "output_type": "execute_result",
          "data": {
            "text/plain": [
              "(375250, 10)"
            ]
          },
          "metadata": {},
          "execution_count": 15
        }
      ]
    },
    {
      "cell_type": "code",
      "source": [
        "data_2011[data_2011.cancelled == True].head()"
      ],
      "metadata": {
        "colab": {
          "base_uri": "https://localhost:8080/",
          "height": 206
        },
        "id": "Fg7lTJ-flclp",
        "outputId": "18d1a84f-1a99-4471-d5c4-f189cb445129"
      },
      "execution_count": 16,
      "outputs": [
        {
          "output_type": "execute_result",
          "data": {
            "text/plain": [
              "      InvoiceNo StockCode                          Description  Quantity  \\\n",
              "42557   C540006     21306           SET/4 DAISY MIRROR MAGNETS        -1   \n",
              "42558   C540006     84352  SILVER CHRISTMAS TREE BAUBLE STAND         -1   \n",
              "42559   C540006     22423             REGENCY CAKESTAND 3 TIER        -1   \n",
              "42560   C540007     21055                   TOOL BOX SOFT TOY         -6   \n",
              "42561   C540007     22274                 FELTCRAFT DOLL EMILY        -6   \n",
              "\n",
              "              InvoiceDate  UnitPrice  CustomerID         Country    total  \\\n",
              "42557 2011-01-04 10:48:00     3.4650     14606.0  United Kingdom  -3.4650   \n",
              "42558 2011-01-04 10:48:00    27.9675     14606.0  United Kingdom -27.9675   \n",
              "42559 2011-01-04 10:48:00    21.0375     14606.0  United Kingdom -21.0375   \n",
              "42560 2011-01-04 11:08:00    14.7675     15379.0  United Kingdom -88.6050   \n",
              "42561 2011-01-04 11:08:00     4.8675     15379.0  United Kingdom -29.2050   \n",
              "\n",
              "       cancelled  \n",
              "42557       True  \n",
              "42558       True  \n",
              "42559       True  \n",
              "42560       True  \n",
              "42561       True  "
            ],
            "text/html": [
              "\n",
              "  <div id=\"df-4e2d57e0-3f22-4fcb-9b40-25aa7da9d4b8\">\n",
              "    <div class=\"colab-df-container\">\n",
              "      <div>\n",
              "<style scoped>\n",
              "    .dataframe tbody tr th:only-of-type {\n",
              "        vertical-align: middle;\n",
              "    }\n",
              "\n",
              "    .dataframe tbody tr th {\n",
              "        vertical-align: top;\n",
              "    }\n",
              "\n",
              "    .dataframe thead th {\n",
              "        text-align: right;\n",
              "    }\n",
              "</style>\n",
              "<table border=\"1\" class=\"dataframe\">\n",
              "  <thead>\n",
              "    <tr style=\"text-align: right;\">\n",
              "      <th></th>\n",
              "      <th>InvoiceNo</th>\n",
              "      <th>StockCode</th>\n",
              "      <th>Description</th>\n",
              "      <th>Quantity</th>\n",
              "      <th>InvoiceDate</th>\n",
              "      <th>UnitPrice</th>\n",
              "      <th>CustomerID</th>\n",
              "      <th>Country</th>\n",
              "      <th>total</th>\n",
              "      <th>cancelled</th>\n",
              "    </tr>\n",
              "  </thead>\n",
              "  <tbody>\n",
              "    <tr>\n",
              "      <th>42557</th>\n",
              "      <td>C540006</td>\n",
              "      <td>21306</td>\n",
              "      <td>SET/4 DAISY MIRROR MAGNETS</td>\n",
              "      <td>-1</td>\n",
              "      <td>2011-01-04 10:48:00</td>\n",
              "      <td>3.4650</td>\n",
              "      <td>14606.0</td>\n",
              "      <td>United Kingdom</td>\n",
              "      <td>-3.4650</td>\n",
              "      <td>True</td>\n",
              "    </tr>\n",
              "    <tr>\n",
              "      <th>42558</th>\n",
              "      <td>C540006</td>\n",
              "      <td>84352</td>\n",
              "      <td>SILVER CHRISTMAS TREE BAUBLE STAND</td>\n",
              "      <td>-1</td>\n",
              "      <td>2011-01-04 10:48:00</td>\n",
              "      <td>27.9675</td>\n",
              "      <td>14606.0</td>\n",
              "      <td>United Kingdom</td>\n",
              "      <td>-27.9675</td>\n",
              "      <td>True</td>\n",
              "    </tr>\n",
              "    <tr>\n",
              "      <th>42559</th>\n",
              "      <td>C540006</td>\n",
              "      <td>22423</td>\n",
              "      <td>REGENCY CAKESTAND 3 TIER</td>\n",
              "      <td>-1</td>\n",
              "      <td>2011-01-04 10:48:00</td>\n",
              "      <td>21.0375</td>\n",
              "      <td>14606.0</td>\n",
              "      <td>United Kingdom</td>\n",
              "      <td>-21.0375</td>\n",
              "      <td>True</td>\n",
              "    </tr>\n",
              "    <tr>\n",
              "      <th>42560</th>\n",
              "      <td>C540007</td>\n",
              "      <td>21055</td>\n",
              "      <td>TOOL BOX SOFT TOY</td>\n",
              "      <td>-6</td>\n",
              "      <td>2011-01-04 11:08:00</td>\n",
              "      <td>14.7675</td>\n",
              "      <td>15379.0</td>\n",
              "      <td>United Kingdom</td>\n",
              "      <td>-88.6050</td>\n",
              "      <td>True</td>\n",
              "    </tr>\n",
              "    <tr>\n",
              "      <th>42561</th>\n",
              "      <td>C540007</td>\n",
              "      <td>22274</td>\n",
              "      <td>FELTCRAFT DOLL EMILY</td>\n",
              "      <td>-6</td>\n",
              "      <td>2011-01-04 11:08:00</td>\n",
              "      <td>4.8675</td>\n",
              "      <td>15379.0</td>\n",
              "      <td>United Kingdom</td>\n",
              "      <td>-29.2050</td>\n",
              "      <td>True</td>\n",
              "    </tr>\n",
              "  </tbody>\n",
              "</table>\n",
              "</div>\n",
              "      <button class=\"colab-df-convert\" onclick=\"convertToInteractive('df-4e2d57e0-3f22-4fcb-9b40-25aa7da9d4b8')\"\n",
              "              title=\"Convert this dataframe to an interactive table.\"\n",
              "              style=\"display:none;\">\n",
              "        \n",
              "  <svg xmlns=\"http://www.w3.org/2000/svg\" height=\"24px\"viewBox=\"0 0 24 24\"\n",
              "       width=\"24px\">\n",
              "    <path d=\"M0 0h24v24H0V0z\" fill=\"none\"/>\n",
              "    <path d=\"M18.56 5.44l.94 2.06.94-2.06 2.06-.94-2.06-.94-.94-2.06-.94 2.06-2.06.94zm-11 1L8.5 8.5l.94-2.06 2.06-.94-2.06-.94L8.5 2.5l-.94 2.06-2.06.94zm10 10l.94 2.06.94-2.06 2.06-.94-2.06-.94-.94-2.06-.94 2.06-2.06.94z\"/><path d=\"M17.41 7.96l-1.37-1.37c-.4-.4-.92-.59-1.43-.59-.52 0-1.04.2-1.43.59L10.3 9.45l-7.72 7.72c-.78.78-.78 2.05 0 2.83L4 21.41c.39.39.9.59 1.41.59.51 0 1.02-.2 1.41-.59l7.78-7.78 2.81-2.81c.8-.78.8-2.07 0-2.86zM5.41 20L4 18.59l7.72-7.72 1.47 1.35L5.41 20z\"/>\n",
              "  </svg>\n",
              "      </button>\n",
              "      \n",
              "  <style>\n",
              "    .colab-df-container {\n",
              "      display:flex;\n",
              "      flex-wrap:wrap;\n",
              "      gap: 12px;\n",
              "    }\n",
              "\n",
              "    .colab-df-convert {\n",
              "      background-color: #E8F0FE;\n",
              "      border: none;\n",
              "      border-radius: 50%;\n",
              "      cursor: pointer;\n",
              "      display: none;\n",
              "      fill: #1967D2;\n",
              "      height: 32px;\n",
              "      padding: 0 0 0 0;\n",
              "      width: 32px;\n",
              "    }\n",
              "\n",
              "    .colab-df-convert:hover {\n",
              "      background-color: #E2EBFA;\n",
              "      box-shadow: 0px 1px 2px rgba(60, 64, 67, 0.3), 0px 1px 3px 1px rgba(60, 64, 67, 0.15);\n",
              "      fill: #174EA6;\n",
              "    }\n",
              "\n",
              "    [theme=dark] .colab-df-convert {\n",
              "      background-color: #3B4455;\n",
              "      fill: #D2E3FC;\n",
              "    }\n",
              "\n",
              "    [theme=dark] .colab-df-convert:hover {\n",
              "      background-color: #434B5C;\n",
              "      box-shadow: 0px 1px 3px 1px rgba(0, 0, 0, 0.15);\n",
              "      filter: drop-shadow(0px 1px 2px rgba(0, 0, 0, 0.3));\n",
              "      fill: #FFFFFF;\n",
              "    }\n",
              "  </style>\n",
              "\n",
              "      <script>\n",
              "        const buttonEl =\n",
              "          document.querySelector('#df-4e2d57e0-3f22-4fcb-9b40-25aa7da9d4b8 button.colab-df-convert');\n",
              "        buttonEl.style.display =\n",
              "          google.colab.kernel.accessAllowed ? 'block' : 'none';\n",
              "\n",
              "        async function convertToInteractive(key) {\n",
              "          const element = document.querySelector('#df-4e2d57e0-3f22-4fcb-9b40-25aa7da9d4b8');\n",
              "          const dataTable =\n",
              "            await google.colab.kernel.invokeFunction('convertToInteractive',\n",
              "                                                     [key], {});\n",
              "          if (!dataTable) return;\n",
              "\n",
              "          const docLinkHtml = 'Like what you see? Visit the ' +\n",
              "            '<a target=\"_blank\" href=https://colab.research.google.com/notebooks/data_table.ipynb>data table notebook</a>'\n",
              "            + ' to learn more about interactive tables.';\n",
              "          element.innerHTML = '';\n",
              "          dataTable['output_type'] = 'display_data';\n",
              "          await google.colab.output.renderOutput(dataTable, element);\n",
              "          const docLink = document.createElement('div');\n",
              "          docLink.innerHTML = docLinkHtml;\n",
              "          element.appendChild(docLink);\n",
              "        }\n",
              "      </script>\n",
              "    </div>\n",
              "  </div>\n",
              "  "
            ]
          },
          "metadata": {},
          "execution_count": 16
        }
      ]
    },
    {
      "cell_type": "code",
      "source": [
        "data_2011['cancelled'].value_counts(normalize = True)"
      ],
      "metadata": {
        "colab": {
          "base_uri": "https://localhost:8080/"
        },
        "id": "F-Pe1NYvlkX_",
        "outputId": "73a21f19-cd7e-4524-cc78-59fd78188272"
      },
      "execution_count": 17,
      "outputs": [
        {
          "output_type": "execute_result",
          "data": {
            "text/plain": [
              "False    0.978172\n",
              "True     0.021828\n",
              "Name: cancelled, dtype: float64"
            ]
          },
          "metadata": {},
          "execution_count": 17
        }
      ]
    },
    {
      "cell_type": "markdown",
      "source": [
        "-There are about 2% invoices that were cancelled"
      ],
      "metadata": {
        "id": "DjLEX62NmDjm"
      }
    },
    {
      "cell_type": "code",
      "source": [
        "data_2011.describe().T"
      ],
      "metadata": {
        "colab": {
          "base_uri": "https://localhost:8080/",
          "height": 175
        },
        "id": "1qUTUlaglqSE",
        "outputId": "782d14f7-9618-4c6b-a773-866243de1212"
      },
      "execution_count": 18,
      "outputs": [
        {
          "output_type": "execute_result",
          "data": {
            "text/plain": [
              "               count          mean          std        min         25%  \\\n",
              "Quantity    375250.0     12.252296   258.180877  -80995.00      2.0000   \n",
              "UnitPrice   375250.0      5.762031   119.054102       0.00      2.0625   \n",
              "CustomerID  375250.0  15265.136168  1710.927381   12346.00  13901.0000   \n",
              "total       375250.0     33.972397   733.803756 -277974.84      7.0125   \n",
              "\n",
              "                   50%         75%        max  \n",
              "Quantity        5.0000     12.0000   80995.00  \n",
              "UnitPrice       3.2175      6.1875   64300.50  \n",
              "CustomerID  15108.0000  16767.0000   18287.00  \n",
              "total          19.3050     32.6700  277974.84  "
            ],
            "text/html": [
              "\n",
              "  <div id=\"df-973a9a17-d90f-4624-89ea-5d95db64ebb0\">\n",
              "    <div class=\"colab-df-container\">\n",
              "      <div>\n",
              "<style scoped>\n",
              "    .dataframe tbody tr th:only-of-type {\n",
              "        vertical-align: middle;\n",
              "    }\n",
              "\n",
              "    .dataframe tbody tr th {\n",
              "        vertical-align: top;\n",
              "    }\n",
              "\n",
              "    .dataframe thead th {\n",
              "        text-align: right;\n",
              "    }\n",
              "</style>\n",
              "<table border=\"1\" class=\"dataframe\">\n",
              "  <thead>\n",
              "    <tr style=\"text-align: right;\">\n",
              "      <th></th>\n",
              "      <th>count</th>\n",
              "      <th>mean</th>\n",
              "      <th>std</th>\n",
              "      <th>min</th>\n",
              "      <th>25%</th>\n",
              "      <th>50%</th>\n",
              "      <th>75%</th>\n",
              "      <th>max</th>\n",
              "    </tr>\n",
              "  </thead>\n",
              "  <tbody>\n",
              "    <tr>\n",
              "      <th>Quantity</th>\n",
              "      <td>375250.0</td>\n",
              "      <td>12.252296</td>\n",
              "      <td>258.180877</td>\n",
              "      <td>-80995.00</td>\n",
              "      <td>2.0000</td>\n",
              "      <td>5.0000</td>\n",
              "      <td>12.0000</td>\n",
              "      <td>80995.00</td>\n",
              "    </tr>\n",
              "    <tr>\n",
              "      <th>UnitPrice</th>\n",
              "      <td>375250.0</td>\n",
              "      <td>5.762031</td>\n",
              "      <td>119.054102</td>\n",
              "      <td>0.00</td>\n",
              "      <td>2.0625</td>\n",
              "      <td>3.2175</td>\n",
              "      <td>6.1875</td>\n",
              "      <td>64300.50</td>\n",
              "    </tr>\n",
              "    <tr>\n",
              "      <th>CustomerID</th>\n",
              "      <td>375250.0</td>\n",
              "      <td>15265.136168</td>\n",
              "      <td>1710.927381</td>\n",
              "      <td>12346.00</td>\n",
              "      <td>13901.0000</td>\n",
              "      <td>15108.0000</td>\n",
              "      <td>16767.0000</td>\n",
              "      <td>18287.00</td>\n",
              "    </tr>\n",
              "    <tr>\n",
              "      <th>total</th>\n",
              "      <td>375250.0</td>\n",
              "      <td>33.972397</td>\n",
              "      <td>733.803756</td>\n",
              "      <td>-277974.84</td>\n",
              "      <td>7.0125</td>\n",
              "      <td>19.3050</td>\n",
              "      <td>32.6700</td>\n",
              "      <td>277974.84</td>\n",
              "    </tr>\n",
              "  </tbody>\n",
              "</table>\n",
              "</div>\n",
              "      <button class=\"colab-df-convert\" onclick=\"convertToInteractive('df-973a9a17-d90f-4624-89ea-5d95db64ebb0')\"\n",
              "              title=\"Convert this dataframe to an interactive table.\"\n",
              "              style=\"display:none;\">\n",
              "        \n",
              "  <svg xmlns=\"http://www.w3.org/2000/svg\" height=\"24px\"viewBox=\"0 0 24 24\"\n",
              "       width=\"24px\">\n",
              "    <path d=\"M0 0h24v24H0V0z\" fill=\"none\"/>\n",
              "    <path d=\"M18.56 5.44l.94 2.06.94-2.06 2.06-.94-2.06-.94-.94-2.06-.94 2.06-2.06.94zm-11 1L8.5 8.5l.94-2.06 2.06-.94-2.06-.94L8.5 2.5l-.94 2.06-2.06.94zm10 10l.94 2.06.94-2.06 2.06-.94-2.06-.94-.94-2.06-.94 2.06-2.06.94z\"/><path d=\"M17.41 7.96l-1.37-1.37c-.4-.4-.92-.59-1.43-.59-.52 0-1.04.2-1.43.59L10.3 9.45l-7.72 7.72c-.78.78-.78 2.05 0 2.83L4 21.41c.39.39.9.59 1.41.59.51 0 1.02-.2 1.41-.59l7.78-7.78 2.81-2.81c.8-.78.8-2.07 0-2.86zM5.41 20L4 18.59l7.72-7.72 1.47 1.35L5.41 20z\"/>\n",
              "  </svg>\n",
              "      </button>\n",
              "      \n",
              "  <style>\n",
              "    .colab-df-container {\n",
              "      display:flex;\n",
              "      flex-wrap:wrap;\n",
              "      gap: 12px;\n",
              "    }\n",
              "\n",
              "    .colab-df-convert {\n",
              "      background-color: #E8F0FE;\n",
              "      border: none;\n",
              "      border-radius: 50%;\n",
              "      cursor: pointer;\n",
              "      display: none;\n",
              "      fill: #1967D2;\n",
              "      height: 32px;\n",
              "      padding: 0 0 0 0;\n",
              "      width: 32px;\n",
              "    }\n",
              "\n",
              "    .colab-df-convert:hover {\n",
              "      background-color: #E2EBFA;\n",
              "      box-shadow: 0px 1px 2px rgba(60, 64, 67, 0.3), 0px 1px 3px 1px rgba(60, 64, 67, 0.15);\n",
              "      fill: #174EA6;\n",
              "    }\n",
              "\n",
              "    [theme=dark] .colab-df-convert {\n",
              "      background-color: #3B4455;\n",
              "      fill: #D2E3FC;\n",
              "    }\n",
              "\n",
              "    [theme=dark] .colab-df-convert:hover {\n",
              "      background-color: #434B5C;\n",
              "      box-shadow: 0px 1px 3px 1px rgba(0, 0, 0, 0.15);\n",
              "      filter: drop-shadow(0px 1px 2px rgba(0, 0, 0, 0.3));\n",
              "      fill: #FFFFFF;\n",
              "    }\n",
              "  </style>\n",
              "\n",
              "      <script>\n",
              "        const buttonEl =\n",
              "          document.querySelector('#df-973a9a17-d90f-4624-89ea-5d95db64ebb0 button.colab-df-convert');\n",
              "        buttonEl.style.display =\n",
              "          google.colab.kernel.accessAllowed ? 'block' : 'none';\n",
              "\n",
              "        async function convertToInteractive(key) {\n",
              "          const element = document.querySelector('#df-973a9a17-d90f-4624-89ea-5d95db64ebb0');\n",
              "          const dataTable =\n",
              "            await google.colab.kernel.invokeFunction('convertToInteractive',\n",
              "                                                     [key], {});\n",
              "          if (!dataTable) return;\n",
              "\n",
              "          const docLinkHtml = 'Like what you see? Visit the ' +\n",
              "            '<a target=\"_blank\" href=https://colab.research.google.com/notebooks/data_table.ipynb>data table notebook</a>'\n",
              "            + ' to learn more about interactive tables.';\n",
              "          element.innerHTML = '';\n",
              "          dataTable['output_type'] = 'display_data';\n",
              "          await google.colab.output.renderOutput(dataTable, element);\n",
              "          const docLink = document.createElement('div');\n",
              "          docLink.innerHTML = docLinkHtml;\n",
              "          element.appendChild(docLink);\n",
              "        }\n",
              "      </script>\n",
              "    </div>\n",
              "  </div>\n",
              "  "
            ]
          },
          "metadata": {},
          "execution_count": 18
        }
      ]
    },
    {
      "cell_type": "code",
      "source": [
        "#Plot boxplot to see distribution of purchases per country\n",
        "plt.figure(figsize = (20,6))\n",
        "sns.boxplot(x = 'Country', y = 'total', data = data_2011[(data_2011['total']>0)&(data_2011['total']<1000)])\n",
        "plt.title('Total Purchase Amount by Country')\n",
        "plt.xticks(rotation = 90)\n",
        "plt.show()"
      ],
      "metadata": {
        "colab": {
          "base_uri": "https://localhost:8080/",
          "height": 503
        },
        "id": "F59Nwt_YmJqW",
        "outputId": "0eba48c2-f6f2-475c-bdc3-a785233eb4f7"
      },
      "execution_count": 19,
      "outputs": [
        {
          "output_type": "display_data",
          "data": {
            "text/plain": [
              "<Figure size 1440x432 with 1 Axes>"
            ],
            "image/png": "[encoded data removed]"
          },
          "metadata": {
            "needs_background": "light"
          }
        }
      ]
    },
    {
      "cell_type": "code",
      "source": [
        "#Plot boxplot to see distribution of purchases per country\n",
        "plt.figure(figsize = (20,6))\n",
        "sns.boxplot(x = 'Country', y = 'Quantity', data = data_2011[(data_2011['total']>0)&(data_2011['total']<1000)])\n",
        "plt.title('Total Quantity Amount by Country')\n",
        "plt.xticks(rotation = 90)\n",
        "plt.show()"
      ],
      "metadata": {
        "colab": {
          "base_uri": "https://localhost:8080/",
          "height": 503
        },
        "id": "w1k3ZP4wnab1",
        "outputId": "2fa333ad-efed-44f1-8d79-7246d395141f"
      },
      "execution_count": 20,
      "outputs": [
        {
          "output_type": "display_data",
          "data": {
            "text/plain": [
              "<Figure size 1440x432 with 1 Axes>"
            ],
            "image/png": "[encoded data removed]"
          },
          "metadata": {
            "needs_background": "light"
          }
        }
      ]
    },
    {
      "cell_type": "markdown",
      "source": [
        "- Both purchase price and quantity are heavily skewed due to extreme outliers. This means it might be difficult to perfoam a regression problem on the dataset.\n",
        "- We therefore might want to frame the problem as classificationbecause the large purchase totals could throw off a machine learning algorithm. Our other option would be to remove the outliers but since these are market legitimate outliers, we cannot just remove them."
      ],
      "metadata": {
        "id": "NhRUnw2AnuKx"
      }
    },
    {
      "cell_type": "code",
      "source": [
        "#We use an empirical cummulative distribtuin function(ecdf) plot to see the skewness of the data\n",
        "\n",
        "def ecdf(data_2011):\n",
        "  x = np.sort(data_2011)\n",
        "  y = np.arange(1,len(x) + 1)/len(x)\n",
        "  return x,y"
      ],
      "metadata": {
        "id": "iT_BsmbinjY-"
      },
      "execution_count": 21,
      "outputs": []
    },
    {
      "cell_type": "code",
      "source": [
        "plt.figure(figsize = (14,4))\n",
        "\n",
        "#Total\n",
        "plt.subplot(121)\n",
        "x,y = ecdf(data_2011.loc[data_2011['total']>0,'total'])\n",
        "plt.plot(x,y,marker = '.')\n",
        "plt.xlabel('Total'); plt.ylabel('Percentile');plt.title('ECDF of Purchase Total')\n",
        "\n",
        "#Quantity\n",
        "plt.subplot(122)\n",
        "x,y = ecdf(data_2011.loc[data_2011['total']>0,'Quantity'])\n",
        "plt.plot(x,y,marker = '.')\n",
        "plt.xlabel('Quantity'); plt.ylabel('Percentile');plt.title('ECDF of Purchase Quantity')"
      ],
      "metadata": {
        "colab": {
          "base_uri": "https://localhost:8080/",
          "height": 314
        },
        "id": "aDz4N4hcoxhZ",
        "outputId": "76320210-c7e8-4590-a7e0-5d9ce6fb0092"
      },
      "execution_count": 22,
      "outputs": [
        {
          "output_type": "execute_result",
          "data": {
            "text/plain": [
              "Text(0.5, 1.0, 'ECDF of Purchase Quantity')"
            ]
          },
          "metadata": {},
          "execution_count": 22
        },
        {
          "output_type": "display_data",
          "data": {
            "text/plain": [
              "<Figure size 1008x288 with 2 Axes>"
            ],
            "image/png": "[encoded data removed]"
          },
          "metadata": {
            "needs_background": "light"
          }
        }
      ]
    },
    {
      "cell_type": "markdown",
      "source": [
        "- A majority of purchases are below $20 but there are a number of outliers. \n",
        "- Rather than using a regression problem, we therefore moght want to try classifying customers based on their spending per month."
      ],
      "metadata": {
        "id": "maKQaSb9pxao"
      }
    },
    {
      "cell_type": "markdown",
      "source": [
        "## **Prediction Problem**"
      ],
      "metadata": {
        "id": "05wFHOs_qHkM"
      }
    },
    {
      "cell_type": "markdown",
      "source": [
        "**Predict whether or not a customer will spend more than $500 in the next month.** This can help a business market more effectively targeting clients who are likely to spend more."
      ],
      "metadata": {
        "id": "oWdZAb0jqaJV"
      }
    },
    {
      "cell_type": "code",
      "source": [
        "#Generating Labels that are dependent on customer spend > $500 within the 30 days monthly period\n",
        "\n",
        "data_2011.columns"
      ],
      "metadata": {
        "colab": {
          "base_uri": "https://localhost:8080/"
        },
        "id": "JS1J9d7-pp3T",
        "outputId": "cbce094b-fe77-4a57-acd6-d29d820b77aa"
      },
      "execution_count": 23,
      "outputs": [
        {
          "output_type": "execute_result",
          "data": {
            "text/plain": [
              "Index(['InvoiceNo', 'StockCode', 'Description', 'Quantity', 'InvoiceDate',\n",
              "       'UnitPrice', 'CustomerID', 'Country', 'total', 'cancelled'],\n",
              "      dtype='object')"
            ]
          },
          "metadata": {},
          "execution_count": 23
        }
      ]
    },
    {
      "cell_type": "code",
      "source": [
        "def make_retail_cutoffs_total(start_date, end_date, threshold = 500):\n",
        "  \n",
        "  #find customers who exist before start date\n",
        "  customer_pool = data_2011[data_2011['InvoiceDate']< start_date]['CustomerID'].unique()\n",
        "  tmp = pd.DataFrame({'CustomerID': customer_pool})\n",
        "\n",
        "  #For customers in the customer pool, find their sum between the start and end dates\n",
        "  totals = data_2011[data_2011['CustomerID'].isin(customer_pool)&\n",
        "                     (data_2011['InvoiceDate']> start_date)&\n",
        "                     (data_2011['InvoiceDate']<end_date)\n",
        "                     ].groupby('CustomerID')['total'].sum().reset_index()\n",
        "  \n",
        "  #Merge with all the customer ids to record all customers who existed before start date\n",
        "  totals = totals.merge(tmp, on = 'CustomerID', how = 'right')\n",
        "\n",
        "  #Set the total for any customer who didnot have a purchase in the timeframe equal to 0\n",
        "  totals['total'] = totals['total'].fillna(0)\n",
        "\n",
        "  #label is based on the threshold\n",
        "  totals['label'] = (totals['total']>threshold).astype(int)\n",
        "\n",
        "  #The cutoff time is the start date\n",
        "  totals['cutoff_time'] = pd.to_datetime(start_date)\n",
        "  totals = totals[['CustomerID', 'cutoff_time','total','label']]\n",
        "\n",
        "  return totals\n",
        "          "
      ],
      "metadata": {
        "id": "L6ecsz9PsJCD"
      },
      "execution_count": 24,
      "outputs": []
    },
    {
      "cell_type": "code",
      "source": [
        "may_spending = make_retail_cutoffs_total(pd.datetime(2011,5,1), pd.datetime(2011,6,1))\n",
        "may_spending.head(10)"
      ],
      "metadata": {
        "colab": {
          "base_uri": "https://localhost:8080/",
          "height": 363
        },
        "id": "ZwszMs-rv9zH",
        "outputId": "065cb828-97b4-4918-85e8-ebeddef27eb0"
      },
      "execution_count": 25,
      "outputs": [
        {
          "output_type": "execute_result",
          "data": {
            "text/plain": [
              "   CustomerID cutoff_time      total  label\n",
              "0     13313.0  2011-05-01   499.0260      0\n",
              "1     18097.0  2011-05-01  1318.9770      1\n",
              "2     16656.0  2011-05-01  1804.1760      1\n",
              "3     16875.0  2011-05-01     0.0000      0\n",
              "4     13094.0  2011-05-01   678.9420      1\n",
              "5     17315.0  2011-05-01   873.2955      1\n",
              "6     14606.0  2011-05-01  1095.7485      1\n",
              "7     15379.0  2011-05-01   345.1470      0\n",
              "8     16255.0  2011-05-01     0.0000      0\n",
              "9     13319.0  2011-05-01  1187.1255      1"
            ],
            "text/html": [
              "\n",
              "  <div id=\"df-b6bb195a-43e4-464c-b0e7-16fa6a5096e2\">\n",
              "    <div class=\"colab-df-container\">\n",
              "      <div>\n",
              "<style scoped>\n",
              "    .dataframe tbody tr th:only-of-type {\n",
              "        vertical-align: middle;\n",
              "    }\n",
              "\n",
              "    .dataframe tbody tr th {\n",
              "        vertical-align: top;\n",
              "    }\n",
              "\n",
              "    .dataframe thead th {\n",
              "        text-align: right;\n",
              "    }\n",
              "</style>\n",
              "<table border=\"1\" class=\"dataframe\">\n",
              "  <thead>\n",
              "    <tr style=\"text-align: right;\">\n",
              "      <th></th>\n",
              "      <th>CustomerID</th>\n",
              "      <th>cutoff_time</th>\n",
              "      <th>total</th>\n",
              "      <th>label</th>\n",
              "    </tr>\n",
              "  </thead>\n",
              "  <tbody>\n",
              "    <tr>\n",
              "      <th>0</th>\n",
              "      <td>13313.0</td>\n",
              "      <td>2011-05-01</td>\n",
              "      <td>499.0260</td>\n",
              "      <td>0</td>\n",
              "    </tr>\n",
              "    <tr>\n",
              "      <th>1</th>\n",
              "      <td>18097.0</td>\n",
              "      <td>2011-05-01</td>\n",
              "      <td>1318.9770</td>\n",
              "      <td>1</td>\n",
              "    </tr>\n",
              "    <tr>\n",
              "      <th>2</th>\n",
              "      <td>16656.0</td>\n",
              "      <td>2011-05-01</td>\n",
              "      <td>1804.1760</td>\n",
              "      <td>1</td>\n",
              "    </tr>\n",
              "    <tr>\n",
              "      <th>3</th>\n",
              "      <td>16875.0</td>\n",
              "      <td>2011-05-01</td>\n",
              "      <td>0.0000</td>\n",
              "      <td>0</td>\n",
              "    </tr>\n",
              "    <tr>\n",
              "      <th>4</th>\n",
              "      <td>13094.0</td>\n",
              "      <td>2011-05-01</td>\n",
              "      <td>678.9420</td>\n",
              "      <td>1</td>\n",
              "    </tr>\n",
              "    <tr>\n",
              "      <th>5</th>\n",
              "      <td>17315.0</td>\n",
              "      <td>2011-05-01</td>\n",
              "      <td>873.2955</td>\n",
              "      <td>1</td>\n",
              "    </tr>\n",
              "    <tr>\n",
              "      <th>6</th>\n",
              "      <td>14606.0</td>\n",
              "      <td>2011-05-01</td>\n",
              "      <td>1095.7485</td>\n",
              "      <td>1</td>\n",
              "    </tr>\n",
              "    <tr>\n",
              "      <th>7</th>\n",
              "      <td>15379.0</td>\n",
              "      <td>2011-05-01</td>\n",
              "      <td>345.1470</td>\n",
              "      <td>0</td>\n",
              "    </tr>\n",
              "    <tr>\n",
              "      <th>8</th>\n",
              "      <td>16255.0</td>\n",
              "      <td>2011-05-01</td>\n",
              "      <td>0.0000</td>\n",
              "      <td>0</td>\n",
              "    </tr>\n",
              "    <tr>\n",
              "      <th>9</th>\n",
              "      <td>13319.0</td>\n",
              "      <td>2011-05-01</td>\n",
              "      <td>1187.1255</td>\n",
              "      <td>1</td>\n",
              "    </tr>\n",
              "  </tbody>\n",
              "</table>\n",
              "</div>\n",
              "      <button class=\"colab-df-convert\" onclick=\"convertToInteractive('df-b6bb195a-43e4-464c-b0e7-16fa6a5096e2')\"\n",
              "              title=\"Convert this dataframe to an interactive table.\"\n",
              "              style=\"display:none;\">\n",
              "        \n",
              "  <svg xmlns=\"http://www.w3.org/2000/svg\" height=\"24px\"viewBox=\"0 0 24 24\"\n",
              "       width=\"24px\">\n",
              "    <path d=\"M0 0h24v24H0V0z\" fill=\"none\"/>\n",
              "    <path d=\"M18.56 5.44l.94 2.06.94-2.06 2.06-.94-2.06-.94-.94-2.06-.94 2.06-2.06.94zm-11 1L8.5 8.5l.94-2.06 2.06-.94-2.06-.94L8.5 2.5l-.94 2.06-2.06.94zm10 10l.94 2.06.94-2.06 2.06-.94-2.06-.94-.94-2.06-.94 2.06-2.06.94z\"/><path d=\"M17.41 7.96l-1.37-1.37c-.4-.4-.92-.59-1.43-.59-.52 0-1.04.2-1.43.59L10.3 9.45l-7.72 7.72c-.78.78-.78 2.05 0 2.83L4 21.41c.39.39.9.59 1.41.59.51 0 1.02-.2 1.41-.59l7.78-7.78 2.81-2.81c.8-.78.8-2.07 0-2.86zM5.41 20L4 18.59l7.72-7.72 1.47 1.35L5.41 20z\"/>\n",
              "  </svg>\n",
              "      </button>\n",
              "      \n",
              "  <style>\n",
              "    .colab-df-container {\n",
              "      display:flex;\n",
              "      flex-wrap:wrap;\n",
              "      gap: 12px;\n",
              "    }\n",
              "\n",
              "    .colab-df-convert {\n",
              "      background-color: #E8F0FE;\n",
              "      border: none;\n",
              "      border-radius: 50%;\n",
              "      cursor: pointer;\n",
              "      display: none;\n",
              "      fill: #1967D2;\n",
              "      height: 32px;\n",
              "      padding: 0 0 0 0;\n",
              "      width: 32px;\n",
              "    }\n",
              "\n",
              "    .colab-df-convert:hover {\n",
              "      background-color: #E2EBFA;\n",
              "      box-shadow: 0px 1px 2px rgba(60, 64, 67, 0.3), 0px 1px 3px 1px rgba(60, 64, 67, 0.15);\n",
              "      fill: #174EA6;\n",
              "    }\n",
              "\n",
              "    [theme=dark] .colab-df-convert {\n",
              "      background-color: #3B4455;\n",
              "      fill: #D2E3FC;\n",
              "    }\n",
              "\n",
              "    [theme=dark] .colab-df-convert:hover {\n",
              "      background-color: #434B5C;\n",
              "      box-shadow: 0px 1px 3px 1px rgba(0, 0, 0, 0.15);\n",
              "      filter: drop-shadow(0px 1px 2px rgba(0, 0, 0, 0.3));\n",
              "      fill: #FFFFFF;\n",
              "    }\n",
              "  </style>\n",
              "\n",
              "      <script>\n",
              "        const buttonEl =\n",
              "          document.querySelector('#df-b6bb195a-43e4-464c-b0e7-16fa6a5096e2 button.colab-df-convert');\n",
              "        buttonEl.style.display =\n",
              "          google.colab.kernel.accessAllowed ? 'block' : 'none';\n",
              "\n",
              "        async function convertToInteractive(key) {\n",
              "          const element = document.querySelector('#df-b6bb195a-43e4-464c-b0e7-16fa6a5096e2');\n",
              "          const dataTable =\n",
              "            await google.colab.kernel.invokeFunction('convertToInteractive',\n",
              "                                                     [key], {});\n",
              "          if (!dataTable) return;\n",
              "\n",
              "          const docLinkHtml = 'Like what you see? Visit the ' +\n",
              "            '<a target=\"_blank\" href=https://colab.research.google.com/notebooks/data_table.ipynb>data table notebook</a>'\n",
              "            + ' to learn more about interactive tables.';\n",
              "          element.innerHTML = '';\n",
              "          dataTable['output_type'] = 'display_data';\n",
              "          await google.colab.output.renderOutput(dataTable, element);\n",
              "          const docLink = document.createElement('div');\n",
              "          docLink.innerHTML = docLinkHtml;\n",
              "          element.appendChild(docLink);\n",
              "        }\n",
              "      </script>\n",
              "    </div>\n",
              "  </div>\n",
              "  "
            ]
          },
          "metadata": {},
          "execution_count": 25
        }
      ]
    },
    {
      "cell_type": "markdown",
      "source": [
        "- The label is based on our threshold of $500 and the cutoff time represents the point at which any date we use must lie before to avoid data leakage.\n",
        "- For each customer in the data before May we have created a lable for the month of May which is the sum of their spending in May converted to a binary label.\n",
        "- When we make features for these labels, we can only use data from before May."
      ],
      "metadata": {
        "id": "2aDEytnmwmdH"
      }
    },
    {
      "cell_type": "code",
      "source": [
        "may_spending['label'].value_counts().plot.bar()\n",
        "plt.title('Label distribution for May'); plt.show()"
      ],
      "metadata": {
        "colab": {
          "base_uri": "https://localhost:8080/",
          "height": 275
        },
        "id": "2Wrf_2UQwURO",
        "outputId": "1c409e9f-4bfe-47b7-b4be-abc49f8d2d9d"
      },
      "execution_count": 26,
      "outputs": [
        {
          "output_type": "display_data",
          "data": {
            "text/plain": [
              "<Figure size 432x288 with 1 Axes>"
            ],
            "image/png": "[encoded data removed]"
          },
          "metadata": {
            "needs_background": "light"
          }
        }
      ]
    },
    {
      "cell_type": "code",
      "source": [
        "may_spending['label'].value_counts()"
      ],
      "metadata": {
        "colab": {
          "base_uri": "https://localhost:8080/"
        },
        "id": "FJkxMbbgxWfo",
        "outputId": "1e49018e-3834-4438-ea8f-7bdd3a454629"
      },
      "execution_count": 27,
      "outputs": [
        {
          "output_type": "execute_result",
          "data": {
            "text/plain": [
              "0    1689\n",
              "1     483\n",
              "Name: label, dtype: int64"
            ]
          },
          "metadata": {},
          "execution_count": 27
        }
      ]
    },
    {
      "cell_type": "markdown",
      "source": [
        "- This is an **imbalanced** classification problem which means that we probably dont want to useaccuracy as our metric."
      ],
      "metadata": {
        "id": "pSqtjxBUxlt_"
      }
    },
    {
      "cell_type": "markdown",
      "source": [
        "##Metrics\n",
        "1. Precision - Percentage of customers predicted to spend more than $500 that actually did\n",
        "2. Recall - Percentage of customers that actually sepnt more than 500 that were correctly identified\n",
        "3. F1 Score - Harmonic mean of precision and recall\n",
        "4. ROC AUC - Receiver Operating Characteristics Area Under the Curve. a 0 to 1 measure, with 1 being optimal that measures the perfomance of a model across a range of thresholds "
      ],
      "metadata": {
        "id": "K5uns5yAxzQr"
      }
    },
    {
      "cell_type": "code",
      "source": [
        "#We now make labels for each month\n",
        "march_spending = make_retail_cutoffs_total('2011-03-01','2011-04-01',500)\n",
        "april_spending = make_retail_cutoffs_total('2011-04-01','2011-05-01',500)\n",
        "june_spending = make_retail_cutoffs_total('2011-06-01','2011-07-01',500)\n",
        "july_spending = make_retail_cutoffs_total('2011-07-01','2011-08-01',500)\n",
        "august_spending = make_retail_cutoffs_total('2011-08-01','2011-09-01',500)\n",
        "september_spending = make_retail_cutoffs_total('2011-09-01','2011-10-01',500)\n",
        "october_spending = make_retail_cutoffs_total('2011-10-01','2011-11-01',500)\n",
        "november_spending = make_retail_cutoffs_total('2011-11-01','2011-12-01',500)\n",
        "december_spending = make_retail_cutoffs_total('2011-12-01','2012-01-01',500)"
      ],
      "metadata": {
        "id": "IMsH9d_nxfkW"
      },
      "execution_count": 28,
      "outputs": []
    },
    {
      "cell_type": "code",
      "source": [
        "labels = pd.concat([march_spending,april_spending,may_spending,june_spending,july_spending,august_spending,september_spending,october_spending,november_spending,december_spending], axis = 0)\n",
        "\n",
        "print(labels.shape)\n",
        "labels.label.value_counts(normalize = True)"
      ],
      "metadata": {
        "colab": {
          "base_uri": "https://localhost:8080/"
        },
        "id": "ixA8Sixk5VzR",
        "outputId": "3e091f81-118a-4b33-9a3c-bf8bd4635135"
      },
      "execution_count": 29,
      "outputs": [
        {
          "output_type": "stream",
          "name": "stdout",
          "text": [
            "(28133, 4)\n"
          ]
        },
        {
          "output_type": "execute_result",
          "data": {
            "text/plain": [
              "0    0.829453\n",
              "1    0.170547\n",
              "Name: label, dtype: float64"
            ]
          },
          "metadata": {},
          "execution_count": 29
        }
      ]
    },
    {
      "cell_type": "markdown",
      "source": [
        "- We have roughly 28K labels with 17% of them being positive."
      ],
      "metadata": {
        "id": "U-jQu5o96Lao"
      }
    },
    {
      "cell_type": "code",
      "source": [
        "#Examine the data by plotting the total spending distribution by month (with negative totals removed)\n",
        "plot_labels = labels.copy()\n",
        "plot_labels['month'] = plot_labels['cutoff_time'].dt.month\n",
        "\n",
        "plt.figure(figsize=(12,6))\n",
        "sns.boxplot(x = 'month', y = 'total', data = plot_labels[(plot_labels['total']>0) & (plot_labels['total']<1000)])\n",
        "plt.title('Customer Spending Distribution by Month')\n",
        "plt.show()"
      ],
      "metadata": {
        "colab": {
          "base_uri": "https://localhost:8080/",
          "height": 405
        },
        "id": "qSVUYE-A6BHh",
        "outputId": "808c79b0-3eff-4b21-8219-3d9952ed3fa5"
      },
      "execution_count": 30,
      "outputs": [
        {
          "output_type": "display_data",
          "data": {
            "text/plain": [
              "<Figure size 864x432 with 1 Axes>"
            ],
            "image/png": "[encoded data removed]"
          },
          "metadata": {
            "needs_background": "light"
          }
        }
      ]
    },
    {
      "cell_type": "code",
      "source": [
        "labels.loc[labels['CustomerID'] == 12347]"
      ],
      "metadata": {
        "colab": {
          "base_uri": "https://localhost:8080/",
          "height": 363
        },
        "id": "AMzN4IPA6HWj",
        "outputId": "2b2e6a2f-7b4d-4c51-93cd-f30620c52dd7"
      },
      "execution_count": 31,
      "outputs": [
        {
          "output_type": "execute_result",
          "data": {
            "text/plain": [
              "     CustomerID cutoff_time      total  label\n",
              "666     12347.0  2011-03-01     0.0000      0\n",
              "666     12347.0  2011-04-01  1049.8125      1\n",
              "666     12347.0  2011-05-01     0.0000      0\n",
              "666     12347.0  2011-06-01   631.1580      1\n",
              "666     12347.0  2011-07-01     0.0000      0\n",
              "666     12347.0  2011-08-01   965.1015      1\n",
              "666     12347.0  2011-09-01     0.0000      0\n",
              "666     12347.0  2011-10-01  2135.6280      1\n",
              "666     12347.0  2011-11-01     0.0000      0\n",
              "666     12347.0  2011-12-01   370.9530      0"
            ],
            "text/html": [
              "\n",
              "  <div id=\"df-d304a615-4f06-4669-84c8-285ab84e71e2\">\n",
              "    <div class=\"colab-df-container\">\n",
              "      <div>\n",
              "<style scoped>\n",
              "    .dataframe tbody tr th:only-of-type {\n",
              "        vertical-align: middle;\n",
              "    }\n",
              "\n",
              "    .dataframe tbody tr th {\n",
              "        vertical-align: top;\n",
              "    }\n",
              "\n",
              "    .dataframe thead th {\n",
              "        text-align: right;\n",
              "    }\n",
              "</style>\n",
              "<table border=\"1\" class=\"dataframe\">\n",
              "  <thead>\n",
              "    <tr style=\"text-align: right;\">\n",
              "      <th></th>\n",
              "      <th>CustomerID</th>\n",
              "      <th>cutoff_time</th>\n",
              "      <th>total</th>\n",
              "      <th>label</th>\n",
              "    </tr>\n",
              "  </thead>\n",
              "  <tbody>\n",
              "    <tr>\n",
              "      <th>666</th>\n",
              "      <td>12347.0</td>\n",
              "      <td>2011-03-01</td>\n",
              "      <td>0.0000</td>\n",
              "      <td>0</td>\n",
              "    </tr>\n",
              "    <tr>\n",
              "      <th>666</th>\n",
              "      <td>12347.0</td>\n",
              "      <td>2011-04-01</td>\n",
              "      <td>1049.8125</td>\n",
              "      <td>1</td>\n",
              "    </tr>\n",
              "    <tr>\n",
              "      <th>666</th>\n",
              "      <td>12347.0</td>\n",
              "      <td>2011-05-01</td>\n",
              "      <td>0.0000</td>\n",
              "      <td>0</td>\n",
              "    </tr>\n",
              "    <tr>\n",
              "      <th>666</th>\n",
              "      <td>12347.0</td>\n",
              "      <td>2011-06-01</td>\n",
              "      <td>631.1580</td>\n",
              "      <td>1</td>\n",
              "    </tr>\n",
              "    <tr>\n",
              "      <th>666</th>\n",
              "      <td>12347.0</td>\n",
              "      <td>2011-07-01</td>\n",
              "      <td>0.0000</td>\n",
              "      <td>0</td>\n",
              "    </tr>\n",
              "    <tr>\n",
              "      <th>666</th>\n",
              "      <td>12347.0</td>\n",
              "      <td>2011-08-01</td>\n",
              "      <td>965.1015</td>\n",
              "      <td>1</td>\n",
              "    </tr>\n",
              "    <tr>\n",
              "      <th>666</th>\n",
              "      <td>12347.0</td>\n",
              "      <td>2011-09-01</td>\n",
              "      <td>0.0000</td>\n",
              "      <td>0</td>\n",
              "    </tr>\n",
              "    <tr>\n",
              "      <th>666</th>\n",
              "      <td>12347.0</td>\n",
              "      <td>2011-10-01</td>\n",
              "      <td>2135.6280</td>\n",
              "      <td>1</td>\n",
              "    </tr>\n",
              "    <tr>\n",
              "      <th>666</th>\n",
              "      <td>12347.0</td>\n",
              "      <td>2011-11-01</td>\n",
              "      <td>0.0000</td>\n",
              "      <td>0</td>\n",
              "    </tr>\n",
              "    <tr>\n",
              "      <th>666</th>\n",
              "      <td>12347.0</td>\n",
              "      <td>2011-12-01</td>\n",
              "      <td>370.9530</td>\n",
              "      <td>0</td>\n",
              "    </tr>\n",
              "  </tbody>\n",
              "</table>\n",
              "</div>\n",
              "      <button class=\"colab-df-convert\" onclick=\"convertToInteractive('df-d304a615-4f06-4669-84c8-285ab84e71e2')\"\n",
              "              title=\"Convert this dataframe to an interactive table.\"\n",
              "              style=\"display:none;\">\n",
              "        \n",
              "  <svg xmlns=\"http://www.w3.org/2000/svg\" height=\"24px\"viewBox=\"0 0 24 24\"\n",
              "       width=\"24px\">\n",
              "    <path d=\"M0 0h24v24H0V0z\" fill=\"none\"/>\n",
              "    <path d=\"M18.56 5.44l.94 2.06.94-2.06 2.06-.94-2.06-.94-.94-2.06-.94 2.06-2.06.94zm-11 1L8.5 8.5l.94-2.06 2.06-.94-2.06-.94L8.5 2.5l-.94 2.06-2.06.94zm10 10l.94 2.06.94-2.06 2.06-.94-2.06-.94-.94-2.06-.94 2.06-2.06.94z\"/><path d=\"M17.41 7.96l-1.37-1.37c-.4-.4-.92-.59-1.43-.59-.52 0-1.04.2-1.43.59L10.3 9.45l-7.72 7.72c-.78.78-.78 2.05 0 2.83L4 21.41c.39.39.9.59 1.41.59.51 0 1.02-.2 1.41-.59l7.78-7.78 2.81-2.81c.8-.78.8-2.07 0-2.86zM5.41 20L4 18.59l7.72-7.72 1.47 1.35L5.41 20z\"/>\n",
              "  </svg>\n",
              "      </button>\n",
              "      \n",
              "  <style>\n",
              "    .colab-df-container {\n",
              "      display:flex;\n",
              "      flex-wrap:wrap;\n",
              "      gap: 12px;\n",
              "    }\n",
              "\n",
              "    .colab-df-convert {\n",
              "      background-color: #E8F0FE;\n",
              "      border: none;\n",
              "      border-radius: 50%;\n",
              "      cursor: pointer;\n",
              "      display: none;\n",
              "      fill: #1967D2;\n",
              "      height: 32px;\n",
              "      padding: 0 0 0 0;\n",
              "      width: 32px;\n",
              "    }\n",
              "\n",
              "    .colab-df-convert:hover {\n",
              "      background-color: #E2EBFA;\n",
              "      box-shadow: 0px 1px 2px rgba(60, 64, 67, 0.3), 0px 1px 3px 1px rgba(60, 64, 67, 0.15);\n",
              "      fill: #174EA6;\n",
              "    }\n",
              "\n",
              "    [theme=dark] .colab-df-convert {\n",
              "      background-color: #3B4455;\n",
              "      fill: #D2E3FC;\n",
              "    }\n",
              "\n",
              "    [theme=dark] .colab-df-convert:hover {\n",
              "      background-color: #434B5C;\n",
              "      box-shadow: 0px 1px 3px 1px rgba(0, 0, 0, 0.15);\n",
              "      filter: drop-shadow(0px 1px 2px rgba(0, 0, 0, 0.3));\n",
              "      fill: #FFFFFF;\n",
              "    }\n",
              "  </style>\n",
              "\n",
              "      <script>\n",
              "        const buttonEl =\n",
              "          document.querySelector('#df-d304a615-4f06-4669-84c8-285ab84e71e2 button.colab-df-convert');\n",
              "        buttonEl.style.display =\n",
              "          google.colab.kernel.accessAllowed ? 'block' : 'none';\n",
              "\n",
              "        async function convertToInteractive(key) {\n",
              "          const element = document.querySelector('#df-d304a615-4f06-4669-84c8-285ab84e71e2');\n",
              "          const dataTable =\n",
              "            await google.colab.kernel.invokeFunction('convertToInteractive',\n",
              "                                                     [key], {});\n",
              "          if (!dataTable) return;\n",
              "\n",
              "          const docLinkHtml = 'Like what you see? Visit the ' +\n",
              "            '<a target=\"_blank\" href=https://colab.research.google.com/notebooks/data_table.ipynb>data table notebook</a>'\n",
              "            + ' to learn more about interactive tables.';\n",
              "          element.innerHTML = '';\n",
              "          dataTable['output_type'] = 'display_data';\n",
              "          await google.colab.output.renderOutput(dataTable, element);\n",
              "          const docLink = document.createElement('div');\n",
              "          docLink.innerHTML = docLinkHtml;\n",
              "          element.appendChild(docLink);\n",
              "        }\n",
              "      </script>\n",
              "    </div>\n",
              "  </div>\n",
              "  "
            ]
          },
          "metadata": {},
          "execution_count": 31
        }
      ]
    },
    {
      "cell_type": "code",
      "source": [
        "labels.loc[labels['CustomerID'] == 12347].set_index('cutoff_time')['total'].plot(figsize = (6,4), linewidth = 3)\n",
        "plt.xlabel('Date', size = 16)\n",
        "plt.ylabel('Spending', size = 16)\n",
        "plt.title('Monthly Spending for Customer', size =20)\n",
        "plt.xticks(size=16)\n",
        "plt.yticks(size=16)\n",
        "plt.show()"
      ],
      "metadata": {
        "colab": {
          "base_uri": "https://localhost:8080/",
          "height": 313
        },
        "id": "LWrN5Oc49EPP",
        "outputId": "d865d732-8993-4ce5-baef-17756a72793d"
      },
      "execution_count": 32,
      "outputs": [
        {
          "output_type": "display_data",
          "data": {
            "text/plain": [
              "<Figure size 432x288 with 1 Axes>"
            ],
            "image/png": "[encoded data removed]"
          },
          "metadata": {
            "needs_background": "light"
          }
        }
      ]
    },
    {
      "cell_type": "markdown",
      "source": [
        "## Feature Tools Implementation"
      ],
      "metadata": {
        "id": "O83DPt1_-Y7_"
      }
    },
    {
      "cell_type": "code",
      "source": [
        "#Create an entityset that will hold all the data and the relationships between the multiple tables\n",
        "data_2011.head()"
      ],
      "metadata": {
        "colab": {
          "base_uri": "https://localhost:8080/",
          "height": 206
        },
        "id": "rlnapHL497Mn",
        "outputId": "4daf99de-ef61-4abe-afba-e020cf328233"
      },
      "execution_count": 33,
      "outputs": [
        {
          "output_type": "execute_result",
          "data": {
            "text/plain": [
              "      InvoiceNo StockCode                Description  Quantity  \\\n",
              "42481    539993     22386    JUMBO BAG PINK POLKADOT        10   \n",
              "42482    539993     21499         BLUE POLKADOT WRAP        25   \n",
              "42483    539993     21498        RED RETROSPOT WRAP         25   \n",
              "42484    539993     22379   RECYCLING BAG RETROSPOT          5   \n",
              "42485    539993     20718  RED RETROSPOT SHOPPER BAG        10   \n",
              "\n",
              "              InvoiceDate  UnitPrice  CustomerID         Country   total  \\\n",
              "42481 2011-01-04 10:00:00     3.2175     13313.0  United Kingdom  32.175   \n",
              "42482 2011-01-04 10:00:00     0.6930     13313.0  United Kingdom  17.325   \n",
              "42483 2011-01-04 10:00:00     0.6930     13313.0  United Kingdom  17.325   \n",
              "42484 2011-01-04 10:00:00     3.4650     13313.0  United Kingdom  17.325   \n",
              "42485 2011-01-04 10:00:00     2.0625     13313.0  United Kingdom  20.625   \n",
              "\n",
              "       cancelled  \n",
              "42481      False  \n",
              "42482      False  \n",
              "42483      False  \n",
              "42484      False  \n",
              "42485      False  "
            ],
            "text/html": [
              "\n",
              "  <div id=\"df-1d6b7b8b-0d42-49e6-b761-4ebbb95f4f85\">\n",
              "    <div class=\"colab-df-container\">\n",
              "      <div>\n",
              "<style scoped>\n",
              "    .dataframe tbody tr th:only-of-type {\n",
              "        vertical-align: middle;\n",
              "    }\n",
              "\n",
              "    .dataframe tbody tr th {\n",
              "        vertical-align: top;\n",
              "    }\n",
              "\n",
              "    .dataframe thead th {\n",
              "        text-align: right;\n",
              "    }\n",
              "</style>\n",
              "<table border=\"1\" class=\"dataframe\">\n",
              "  <thead>\n",
              "    <tr style=\"text-align: right;\">\n",
              "      <th></th>\n",
              "      <th>InvoiceNo</th>\n",
              "      <th>StockCode</th>\n",
              "      <th>Description</th>\n",
              "      <th>Quantity</th>\n",
              "      <th>InvoiceDate</th>\n",
              "      <th>UnitPrice</th>\n",
              "      <th>CustomerID</th>\n",
              "      <th>Country</th>\n",
              "      <th>total</th>\n",
              "      <th>cancelled</th>\n",
              "    </tr>\n",
              "  </thead>\n",
              "  <tbody>\n",
              "    <tr>\n",
              "      <th>42481</th>\n",
              "      <td>539993</td>\n",
              "      <td>22386</td>\n",
              "      <td>JUMBO BAG PINK POLKADOT</td>\n",
              "      <td>10</td>\n",
              "      <td>2011-01-04 10:00:00</td>\n",
              "      <td>3.2175</td>\n",
              "      <td>13313.0</td>\n",
              "      <td>United Kingdom</td>\n",
              "      <td>32.175</td>\n",
              "      <td>False</td>\n",
              "    </tr>\n",
              "    <tr>\n",
              "      <th>42482</th>\n",
              "      <td>539993</td>\n",
              "      <td>21499</td>\n",
              "      <td>BLUE POLKADOT WRAP</td>\n",
              "      <td>25</td>\n",
              "      <td>2011-01-04 10:00:00</td>\n",
              "      <td>0.6930</td>\n",
              "      <td>13313.0</td>\n",
              "      <td>United Kingdom</td>\n",
              "      <td>17.325</td>\n",
              "      <td>False</td>\n",
              "    </tr>\n",
              "    <tr>\n",
              "      <th>42483</th>\n",
              "      <td>539993</td>\n",
              "      <td>21498</td>\n",
              "      <td>RED RETROSPOT WRAP</td>\n",
              "      <td>25</td>\n",
              "      <td>2011-01-04 10:00:00</td>\n",
              "      <td>0.6930</td>\n",
              "      <td>13313.0</td>\n",
              "      <td>United Kingdom</td>\n",
              "      <td>17.325</td>\n",
              "      <td>False</td>\n",
              "    </tr>\n",
              "    <tr>\n",
              "      <th>42484</th>\n",
              "      <td>539993</td>\n",
              "      <td>22379</td>\n",
              "      <td>RECYCLING BAG RETROSPOT</td>\n",
              "      <td>5</td>\n",
              "      <td>2011-01-04 10:00:00</td>\n",
              "      <td>3.4650</td>\n",
              "      <td>13313.0</td>\n",
              "      <td>United Kingdom</td>\n",
              "      <td>17.325</td>\n",
              "      <td>False</td>\n",
              "    </tr>\n",
              "    <tr>\n",
              "      <th>42485</th>\n",
              "      <td>539993</td>\n",
              "      <td>20718</td>\n",
              "      <td>RED RETROSPOT SHOPPER BAG</td>\n",
              "      <td>10</td>\n",
              "      <td>2011-01-04 10:00:00</td>\n",
              "      <td>2.0625</td>\n",
              "      <td>13313.0</td>\n",
              "      <td>United Kingdom</td>\n",
              "      <td>20.625</td>\n",
              "      <td>False</td>\n",
              "    </tr>\n",
              "  </tbody>\n",
              "</table>\n",
              "</div>\n",
              "      <button class=\"colab-df-convert\" onclick=\"convertToInteractive('df-1d6b7b8b-0d42-49e6-b761-4ebbb95f4f85')\"\n",
              "              title=\"Convert this dataframe to an interactive table.\"\n",
              "              style=\"display:none;\">\n",
              "        \n",
              "  <svg xmlns=\"http://www.w3.org/2000/svg\" height=\"24px\"viewBox=\"0 0 24 24\"\n",
              "       width=\"24px\">\n",
              "    <path d=\"M0 0h24v24H0V0z\" fill=\"none\"/>\n",
              "    <path d=\"M18.56 5.44l.94 2.06.94-2.06 2.06-.94-2.06-.94-.94-2.06-.94 2.06-2.06.94zm-11 1L8.5 8.5l.94-2.06 2.06-.94-2.06-.94L8.5 2.5l-.94 2.06-2.06.94zm10 10l.94 2.06.94-2.06 2.06-.94-2.06-.94-.94-2.06-.94 2.06-2.06.94z\"/><path d=\"M17.41 7.96l-1.37-1.37c-.4-.4-.92-.59-1.43-.59-.52 0-1.04.2-1.43.59L10.3 9.45l-7.72 7.72c-.78.78-.78 2.05 0 2.83L4 21.41c.39.39.9.59 1.41.59.51 0 1.02-.2 1.41-.59l7.78-7.78 2.81-2.81c.8-.78.8-2.07 0-2.86zM5.41 20L4 18.59l7.72-7.72 1.47 1.35L5.41 20z\"/>\n",
              "  </svg>\n",
              "      </button>\n",
              "      \n",
              "  <style>\n",
              "    .colab-df-container {\n",
              "      display:flex;\n",
              "      flex-wrap:wrap;\n",
              "      gap: 12px;\n",
              "    }\n",
              "\n",
              "    .colab-df-convert {\n",
              "      background-color: #E8F0FE;\n",
              "      border: none;\n",
              "      border-radius: 50%;\n",
              "      cursor: pointer;\n",
              "      display: none;\n",
              "      fill: #1967D2;\n",
              "      height: 32px;\n",
              "      padding: 0 0 0 0;\n",
              "      width: 32px;\n",
              "    }\n",
              "\n",
              "    .colab-df-convert:hover {\n",
              "      background-color: #E2EBFA;\n",
              "      box-shadow: 0px 1px 2px rgba(60, 64, 67, 0.3), 0px 1px 3px 1px rgba(60, 64, 67, 0.15);\n",
              "      fill: #174EA6;\n",
              "    }\n",
              "\n",
              "    [theme=dark] .colab-df-convert {\n",
              "      background-color: #3B4455;\n",
              "      fill: #D2E3FC;\n",
              "    }\n",
              "\n",
              "    [theme=dark] .colab-df-convert:hover {\n",
              "      background-color: #434B5C;\n",
              "      box-shadow: 0px 1px 3px 1px rgba(0, 0, 0, 0.15);\n",
              "      filter: drop-shadow(0px 1px 2px rgba(0, 0, 0, 0.3));\n",
              "      fill: #FFFFFF;\n",
              "    }\n",
              "  </style>\n",
              "\n",
              "      <script>\n",
              "        const buttonEl =\n",
              "          document.querySelector('#df-1d6b7b8b-0d42-49e6-b761-4ebbb95f4f85 button.colab-df-convert');\n",
              "        buttonEl.style.display =\n",
              "          google.colab.kernel.accessAllowed ? 'block' : 'none';\n",
              "\n",
              "        async function convertToInteractive(key) {\n",
              "          const element = document.querySelector('#df-1d6b7b8b-0d42-49e6-b761-4ebbb95f4f85');\n",
              "          const dataTable =\n",
              "            await google.colab.kernel.invokeFunction('convertToInteractive',\n",
              "                                                     [key], {});\n",
              "          if (!dataTable) return;\n",
              "\n",
              "          const docLinkHtml = 'Like what you see? Visit the ' +\n",
              "            '<a target=\"_blank\" href=https://colab.research.google.com/notebooks/data_table.ipynb>data table notebook</a>'\n",
              "            + ' to learn more about interactive tables.';\n",
              "          element.innerHTML = '';\n",
              "          dataTable['output_type'] = 'display_data';\n",
              "          await google.colab.output.renderOutput(dataTable, element);\n",
              "          const docLink = document.createElement('div');\n",
              "          docLink.innerHTML = docLinkHtml;\n",
              "          element.appendChild(docLink);\n",
              "        }\n",
              "      </script>\n",
              "    </div>\n",
              "  </div>\n",
              "  "
            ]
          },
          "metadata": {},
          "execution_count": 33
        }
      ]
    },
    {
      "cell_type": "code",
      "source": [
        "es = ft.EntitySet(id = 'Online Retail Logs')\n",
        "\n",
        "#Add the entire data table as an entity\n",
        "es.entity_from_dataframe('purchases',\n",
        "                         dataframe = data_2011,\n",
        "                         index = 'purchases_index',\n",
        "                         time_index = 'InvoiceDate',\n",
        "                         variable_types = {'Description':ft.variable_types.Text})\n",
        "\n",
        "es['purchases']"
      ],
      "metadata": {
        "colab": {
          "base_uri": "https://localhost:8080/"
        },
        "id": "zybiBmGl-5Vk",
        "outputId": "72938b5f-923a-4ee0-cdb3-135dd663a9c7"
      },
      "execution_count": 34,
      "outputs": [
        {
          "output_type": "execute_result",
          "data": {
            "text/plain": [
              "Entity: purchases\n",
              "  Variables:\n",
              "    purchases_index (dtype: index)\n",
              "    InvoiceNo (dtype: categorical)\n",
              "    StockCode (dtype: categorical)\n",
              "    Quantity (dtype: numeric)\n",
              "    InvoiceDate (dtype: datetime_time_index)\n",
              "    UnitPrice (dtype: numeric)\n",
              "    CustomerID (dtype: numeric)\n",
              "    Country (dtype: categorical)\n",
              "    total (dtype: numeric)\n",
              "    cancelled (dtype: boolean)\n",
              "    Description (dtype: text)\n",
              "  Shape:\n",
              "    (Rows: 375250, Columns: 11)"
            ]
          },
          "metadata": {},
          "execution_count": 34
        }
      ]
    },
    {
      "cell_type": "markdown",
      "source": [
        "**Normalizing Entities** \n",
        "- In order to create new tables out of the original table, we can normalize this entity. This creates new tables by creating a uniquerow for every variable that we pass in, such as the customer or the product."
      ],
      "metadata": {
        "id": "YMGUakmSACmm"
      }
    },
    {
      "cell_type": "code",
      "source": [
        "#create a new 'products' entity\n",
        "es.normalize_entity(new_entity_id='products',\n",
        "                    base_entity_id = 'purchases',\n",
        "                    index = 'StockCode',\n",
        "                    additional_variables = ['Description'])\n",
        "es['products'].df.head()"
      ],
      "metadata": {
        "colab": {
          "base_uri": "https://localhost:8080/",
          "height": 206
        },
        "id": "rD9iUuRj_qw3",
        "outputId": "54984936-9358-4c1c-bf66-af0ab366949b"
      },
      "execution_count": 35,
      "outputs": [
        {
          "output_type": "execute_result",
          "data": {
            "text/plain": [
              "      StockCode                Description first_purchases_time\n",
              "22386     22386    JUMBO BAG PINK POLKADOT  2011-01-04 10:00:00\n",
              "21499     21499         BLUE POLKADOT WRAP  2011-01-04 10:00:00\n",
              "21498     21498        RED RETROSPOT WRAP   2011-01-04 10:00:00\n",
              "22379     22379   RECYCLING BAG RETROSPOT   2011-01-04 10:00:00\n",
              "20718     20718  RED RETROSPOT SHOPPER BAG  2011-01-04 10:00:00"
            ],
            "text/html": [
              "\n",
              "  <div id=\"df-2d0c2e46-1d6b-490e-8821-c49601414fb0\">\n",
              "    <div class=\"colab-df-container\">\n",
              "      <div>\n",
              "<style scoped>\n",
              "    .dataframe tbody tr th:only-of-type {\n",
              "        vertical-align: middle;\n",
              "    }\n",
              "\n",
              "    .dataframe tbody tr th {\n",
              "        vertical-align: top;\n",
              "    }\n",
              "\n",
              "    .dataframe thead th {\n",
              "        text-align: right;\n",
              "    }\n",
              "</style>\n",
              "<table border=\"1\" class=\"dataframe\">\n",
              "  <thead>\n",
              "    <tr style=\"text-align: right;\">\n",
              "      <th></th>\n",
              "      <th>StockCode</th>\n",
              "      <th>Description</th>\n",
              "      <th>first_purchases_time</th>\n",
              "    </tr>\n",
              "  </thead>\n",
              "  <tbody>\n",
              "    <tr>\n",
              "      <th>22386</th>\n",
              "      <td>22386</td>\n",
              "      <td>JUMBO BAG PINK POLKADOT</td>\n",
              "      <td>2011-01-04 10:00:00</td>\n",
              "    </tr>\n",
              "    <tr>\n",
              "      <th>21499</th>\n",
              "      <td>21499</td>\n",
              "      <td>BLUE POLKADOT WRAP</td>\n",
              "      <td>2011-01-04 10:00:00</td>\n",
              "    </tr>\n",
              "    <tr>\n",
              "      <th>21498</th>\n",
              "      <td>21498</td>\n",
              "      <td>RED RETROSPOT WRAP</td>\n",
              "      <td>2011-01-04 10:00:00</td>\n",
              "    </tr>\n",
              "    <tr>\n",
              "      <th>22379</th>\n",
              "      <td>22379</td>\n",
              "      <td>RECYCLING BAG RETROSPOT</td>\n",
              "      <td>2011-01-04 10:00:00</td>\n",
              "    </tr>\n",
              "    <tr>\n",
              "      <th>20718</th>\n",
              "      <td>20718</td>\n",
              "      <td>RED RETROSPOT SHOPPER BAG</td>\n",
              "      <td>2011-01-04 10:00:00</td>\n",
              "    </tr>\n",
              "  </tbody>\n",
              "</table>\n",
              "</div>\n",
              "      <button class=\"colab-df-convert\" onclick=\"convertToInteractive('df-2d0c2e46-1d6b-490e-8821-c49601414fb0')\"\n",
              "              title=\"Convert this dataframe to an interactive table.\"\n",
              "              style=\"display:none;\">\n",
              "        \n",
              "  <svg xmlns=\"http://www.w3.org/2000/svg\" height=\"24px\"viewBox=\"0 0 24 24\"\n",
              "       width=\"24px\">\n",
              "    <path d=\"M0 0h24v24H0V0z\" fill=\"none\"/>\n",
              "    <path d=\"M18.56 5.44l.94 2.06.94-2.06 2.06-.94-2.06-.94-.94-2.06-.94 2.06-2.06.94zm-11 1L8.5 8.5l.94-2.06 2.06-.94-2.06-.94L8.5 2.5l-.94 2.06-2.06.94zm10 10l.94 2.06.94-2.06 2.06-.94-2.06-.94-.94-2.06-.94 2.06-2.06.94z\"/><path d=\"M17.41 7.96l-1.37-1.37c-.4-.4-.92-.59-1.43-.59-.52 0-1.04.2-1.43.59L10.3 9.45l-7.72 7.72c-.78.78-.78 2.05 0 2.83L4 21.41c.39.39.9.59 1.41.59.51 0 1.02-.2 1.41-.59l7.78-7.78 2.81-2.81c.8-.78.8-2.07 0-2.86zM5.41 20L4 18.59l7.72-7.72 1.47 1.35L5.41 20z\"/>\n",
              "  </svg>\n",
              "      </button>\n",
              "      \n",
              "  <style>\n",
              "    .colab-df-container {\n",
              "      display:flex;\n",
              "      flex-wrap:wrap;\n",
              "      gap: 12px;\n",
              "    }\n",
              "\n",
              "    .colab-df-convert {\n",
              "      background-color: #E8F0FE;\n",
              "      border: none;\n",
              "      border-radius: 50%;\n",
              "      cursor: pointer;\n",
              "      display: none;\n",
              "      fill: #1967D2;\n",
              "      height: 32px;\n",
              "      padding: 0 0 0 0;\n",
              "      width: 32px;\n",
              "    }\n",
              "\n",
              "    .colab-df-convert:hover {\n",
              "      background-color: #E2EBFA;\n",
              "      box-shadow: 0px 1px 2px rgba(60, 64, 67, 0.3), 0px 1px 3px 1px rgba(60, 64, 67, 0.15);\n",
              "      fill: #174EA6;\n",
              "    }\n",
              "\n",
              "    [theme=dark] .colab-df-convert {\n",
              "      background-color: #3B4455;\n",
              "      fill: #D2E3FC;\n",
              "    }\n",
              "\n",
              "    [theme=dark] .colab-df-convert:hover {\n",
              "      background-color: #434B5C;\n",
              "      box-shadow: 0px 1px 3px 1px rgba(0, 0, 0, 0.15);\n",
              "      filter: drop-shadow(0px 1px 2px rgba(0, 0, 0, 0.3));\n",
              "      fill: #FFFFFF;\n",
              "    }\n",
              "  </style>\n",
              "\n",
              "      <script>\n",
              "        const buttonEl =\n",
              "          document.querySelector('#df-2d0c2e46-1d6b-490e-8821-c49601414fb0 button.colab-df-convert');\n",
              "        buttonEl.style.display =\n",
              "          google.colab.kernel.accessAllowed ? 'block' : 'none';\n",
              "\n",
              "        async function convertToInteractive(key) {\n",
              "          const element = document.querySelector('#df-2d0c2e46-1d6b-490e-8821-c49601414fb0');\n",
              "          const dataTable =\n",
              "            await google.colab.kernel.invokeFunction('convertToInteractive',\n",
              "                                                     [key], {});\n",
              "          if (!dataTable) return;\n",
              "\n",
              "          const docLinkHtml = 'Like what you see? Visit the ' +\n",
              "            '<a target=\"_blank\" href=https://colab.research.google.com/notebooks/data_table.ipynb>data table notebook</a>'\n",
              "            + ' to learn more about interactive tables.';\n",
              "          element.innerHTML = '';\n",
              "          dataTable['output_type'] = 'display_data';\n",
              "          await google.colab.output.renderOutput(dataTable, element);\n",
              "          const docLink = document.createElement('div');\n",
              "          docLink.innerHTML = docLinkHtml;\n",
              "          element.appendChild(docLink);\n",
              "        }\n",
              "      </script>\n",
              "    </div>\n",
              "  </div>\n",
              "  "
            ]
          },
          "metadata": {},
          "execution_count": 35
        }
      ]
    },
    {
      "cell_type": "code",
      "source": [
        "es['purchases']"
      ],
      "metadata": {
        "colab": {
          "base_uri": "https://localhost:8080/"
        },
        "id": "4-hJgBisA9Yq",
        "outputId": "8b4d7966-0bc7-415d-a448-cae215bb8337"
      },
      "execution_count": 36,
      "outputs": [
        {
          "output_type": "execute_result",
          "data": {
            "text/plain": [
              "Entity: purchases\n",
              "  Variables:\n",
              "    purchases_index (dtype: index)\n",
              "    InvoiceNo (dtype: categorical)\n",
              "    StockCode (dtype: id)\n",
              "    Quantity (dtype: numeric)\n",
              "    InvoiceDate (dtype: datetime_time_index)\n",
              "    UnitPrice (dtype: numeric)\n",
              "    CustomerID (dtype: numeric)\n",
              "    Country (dtype: categorical)\n",
              "    total (dtype: numeric)\n",
              "    cancelled (dtype: boolean)\n",
              "  Shape:\n",
              "    (Rows: 375250, Columns: 10)"
            ]
          },
          "metadata": {},
          "execution_count": 36
        }
      ]
    },
    {
      "cell_type": "code",
      "source": [
        "#create a new 'customers' entity based on the orders entity\n",
        "es.normalize_entity(new_entity_id='customers',\n",
        "                    base_entity_id = 'purchases',\n",
        "                    index = 'CustomerID')\n",
        "\n",
        "#create a new 'orders' entity\n",
        "es.normalize_entity(new_entity_id='orders',\n",
        "                    base_entity_id = 'purchases',\n",
        "                    index = 'InvoiceNo',\n",
        "                    additional_variables = ['Country','cancelled'])\n",
        "\n",
        "es"
      ],
      "metadata": {
        "colab": {
          "base_uri": "https://localhost:8080/"
        },
        "id": "po1sBT9IB2Mr",
        "outputId": "f33317bd-1af9-4133-e839-e39e1e371651"
      },
      "execution_count": 37,
      "outputs": [
        {
          "output_type": "execute_result",
          "data": {
            "text/plain": [
              "Entityset: Online Retail Logs\n",
              "  Entities:\n",
              "    purchases [Rows: 375250, Columns: 8]\n",
              "    products [Rows: 3612, Columns: 3]\n",
              "    customers [Rows: 4244, Columns: 2]\n",
              "    orders [Rows: 20482, Columns: 4]\n",
              "  Relationships:\n",
              "    purchases.StockCode -> products.StockCode\n",
              "    purchases.CustomerID -> customers.CustomerID\n",
              "    purchases.InvoiceNo -> orders.InvoiceNo"
            ]
          },
          "metadata": {},
          "execution_count": 37
        }
      ]
    },
    {
      "cell_type": "markdown",
      "source": [
        "## **Deep Feature Synthesis**"
      ],
      "metadata": {
        "id": "ciVeSmmMCreW"
      }
    },
    {
      "cell_type": "markdown",
      "source": [
        "- Having defined our entity and created the proper relationships, we can perform deep feature synthesis to generate 100 or 1000s of features. \n",
        "- Since our objective is to classify customer spending, we'll make features for\n",
        " each customer for each month."
      ],
      "metadata": {
        "id": "I3M9-i0LC5hv"
      }
    },
    {
      "cell_type": "code",
      "source": [
        "labels.head()"
      ],
      "metadata": {
        "colab": {
          "base_uri": "https://localhost:8080/",
          "height": 206
        },
        "id": "t-ZYg1SOCaEL",
        "outputId": "acbe08ab-7810-4785-dd69-48b026194ebf"
      },
      "execution_count": 38,
      "outputs": [
        {
          "output_type": "execute_result",
          "data": {
            "text/plain": [
              "   CustomerID cutoff_time    total  label\n",
              "0     13313.0  2011-03-01    0.000      0\n",
              "1     18097.0  2011-03-01    0.000      0\n",
              "2     16656.0  2011-03-01  589.248      1\n",
              "3     16875.0  2011-03-01    0.000      0\n",
              "4     13094.0  2011-03-01  115.434      0"
            ],
            "text/html": [
              "\n",
              "  <div id=\"df-29d2675d-570d-49c8-9b79-ae3642f35919\">\n",
              "    <div class=\"colab-df-container\">\n",
              "      <div>\n",
              "<style scoped>\n",
              "    .dataframe tbody tr th:only-of-type {\n",
              "        vertical-align: middle;\n",
              "    }\n",
              "\n",
              "    .dataframe tbody tr th {\n",
              "        vertical-align: top;\n",
              "    }\n",
              "\n",
              "    .dataframe thead th {\n",
              "        text-align: right;\n",
              "    }\n",
              "</style>\n",
              "<table border=\"1\" class=\"dataframe\">\n",
              "  <thead>\n",
              "    <tr style=\"text-align: right;\">\n",
              "      <th></th>\n",
              "      <th>CustomerID</th>\n",
              "      <th>cutoff_time</th>\n",
              "      <th>total</th>\n",
              "      <th>label</th>\n",
              "    </tr>\n",
              "  </thead>\n",
              "  <tbody>\n",
              "    <tr>\n",
              "      <th>0</th>\n",
              "      <td>13313.0</td>\n",
              "      <td>2011-03-01</td>\n",
              "      <td>0.000</td>\n",
              "      <td>0</td>\n",
              "    </tr>\n",
              "    <tr>\n",
              "      <th>1</th>\n",
              "      <td>18097.0</td>\n",
              "      <td>2011-03-01</td>\n",
              "      <td>0.000</td>\n",
              "      <td>0</td>\n",
              "    </tr>\n",
              "    <tr>\n",
              "      <th>2</th>\n",
              "      <td>16656.0</td>\n",
              "      <td>2011-03-01</td>\n",
              "      <td>589.248</td>\n",
              "      <td>1</td>\n",
              "    </tr>\n",
              "    <tr>\n",
              "      <th>3</th>\n",
              "      <td>16875.0</td>\n",
              "      <td>2011-03-01</td>\n",
              "      <td>0.000</td>\n",
              "      <td>0</td>\n",
              "    </tr>\n",
              "    <tr>\n",
              "      <th>4</th>\n",
              "      <td>13094.0</td>\n",
              "      <td>2011-03-01</td>\n",
              "      <td>115.434</td>\n",
              "      <td>0</td>\n",
              "    </tr>\n",
              "  </tbody>\n",
              "</table>\n",
              "</div>\n",
              "      <button class=\"colab-df-convert\" onclick=\"convertToInteractive('df-29d2675d-570d-49c8-9b79-ae3642f35919')\"\n",
              "              title=\"Convert this dataframe to an interactive table.\"\n",
              "              style=\"display:none;\">\n",
              "        \n",
              "  <svg xmlns=\"http://www.w3.org/2000/svg\" height=\"24px\"viewBox=\"0 0 24 24\"\n",
              "       width=\"24px\">\n",
              "    <path d=\"M0 0h24v24H0V0z\" fill=\"none\"/>\n",
              "    <path d=\"M18.56 5.44l.94 2.06.94-2.06 2.06-.94-2.06-.94-.94-2.06-.94 2.06-2.06.94zm-11 1L8.5 8.5l.94-2.06 2.06-.94-2.06-.94L8.5 2.5l-.94 2.06-2.06.94zm10 10l.94 2.06.94-2.06 2.06-.94-2.06-.94-.94-2.06-.94 2.06-2.06.94z\"/><path d=\"M17.41 7.96l-1.37-1.37c-.4-.4-.92-.59-1.43-.59-.52 0-1.04.2-1.43.59L10.3 9.45l-7.72 7.72c-.78.78-.78 2.05 0 2.83L4 21.41c.39.39.9.59 1.41.59.51 0 1.02-.2 1.41-.59l7.78-7.78 2.81-2.81c.8-.78.8-2.07 0-2.86zM5.41 20L4 18.59l7.72-7.72 1.47 1.35L5.41 20z\"/>\n",
              "  </svg>\n",
              "      </button>\n",
              "      \n",
              "  <style>\n",
              "    .colab-df-container {\n",
              "      display:flex;\n",
              "      flex-wrap:wrap;\n",
              "      gap: 12px;\n",
              "    }\n",
              "\n",
              "    .colab-df-convert {\n",
              "      background-color: #E8F0FE;\n",
              "      border: none;\n",
              "      border-radius: 50%;\n",
              "      cursor: pointer;\n",
              "      display: none;\n",
              "      fill: #1967D2;\n",
              "      height: 32px;\n",
              "      padding: 0 0 0 0;\n",
              "      width: 32px;\n",
              "    }\n",
              "\n",
              "    .colab-df-convert:hover {\n",
              "      background-color: #E2EBFA;\n",
              "      box-shadow: 0px 1px 2px rgba(60, 64, 67, 0.3), 0px 1px 3px 1px rgba(60, 64, 67, 0.15);\n",
              "      fill: #174EA6;\n",
              "    }\n",
              "\n",
              "    [theme=dark] .colab-df-convert {\n",
              "      background-color: #3B4455;\n",
              "      fill: #D2E3FC;\n",
              "    }\n",
              "\n",
              "    [theme=dark] .colab-df-convert:hover {\n",
              "      background-color: #434B5C;\n",
              "      box-shadow: 0px 1px 3px 1px rgba(0, 0, 0, 0.15);\n",
              "      filter: drop-shadow(0px 1px 2px rgba(0, 0, 0, 0.3));\n",
              "      fill: #FFFFFF;\n",
              "    }\n",
              "  </style>\n",
              "\n",
              "      <script>\n",
              "        const buttonEl =\n",
              "          document.querySelector('#df-29d2675d-570d-49c8-9b79-ae3642f35919 button.colab-df-convert');\n",
              "        buttonEl.style.display =\n",
              "          google.colab.kernel.accessAllowed ? 'block' : 'none';\n",
              "\n",
              "        async function convertToInteractive(key) {\n",
              "          const element = document.querySelector('#df-29d2675d-570d-49c8-9b79-ae3642f35919');\n",
              "          const dataTable =\n",
              "            await google.colab.kernel.invokeFunction('convertToInteractive',\n",
              "                                                     [key], {});\n",
              "          if (!dataTable) return;\n",
              "\n",
              "          const docLinkHtml = 'Like what you see? Visit the ' +\n",
              "            '<a target=\"_blank\" href=https://colab.research.google.com/notebooks/data_table.ipynb>data table notebook</a>'\n",
              "            + ' to learn more about interactive tables.';\n",
              "          element.innerHTML = '';\n",
              "          dataTable['output_type'] = 'display_data';\n",
              "          await google.colab.output.renderOutput(dataTable, element);\n",
              "          const docLink = document.createElement('div');\n",
              "          docLink.innerHTML = docLinkHtml;\n",
              "          element.appendChild(docLink);\n",
              "        }\n",
              "      </script>\n",
              "    </div>\n",
              "  </div>\n",
              "  "
            ]
          },
          "metadata": {},
          "execution_count": 38
        }
      ]
    },
    {
      "cell_type": "code",
      "source": [
        "labels.info()"
      ],
      "metadata": {
        "colab": {
          "base_uri": "https://localhost:8080/"
        },
        "id": "h-s8gNNzF0Df",
        "outputId": "77e9d6fe-6f97-4b0a-fd58-2c818ef45e44"
      },
      "execution_count": 39,
      "outputs": [
        {
          "output_type": "stream",
          "name": "stdout",
          "text": [
            "<class 'pandas.core.frame.DataFrame'>\n",
            "Int64Index: 28133 entries, 0 to 4196\n",
            "Data columns (total 4 columns):\n",
            " #   Column       Non-Null Count  Dtype         \n",
            "---  ------       --------------  -----         \n",
            " 0   CustomerID   28133 non-null  float64       \n",
            " 1   cutoff_time  28133 non-null  datetime64[ns]\n",
            " 2   total        28133 non-null  float64       \n",
            " 3   label        28133 non-null  int64         \n",
            "dtypes: datetime64[ns](1), float64(2), int64(1)\n",
            "memory usage: 1.1 MB\n"
          ]
        }
      ]
    },
    {
      "cell_type": "code",
      "source": [
        "labels.rename(columns={'cutoff_time':'time'}, inplace =True)"
      ],
      "metadata": {
        "id": "zHy0G2t3F8_e"
      },
      "execution_count": 40,
      "outputs": []
    },
    {
      "cell_type": "code",
      "source": [
        "es"
      ],
      "metadata": {
        "colab": {
          "base_uri": "https://localhost:8080/"
        },
        "id": "eecANr7BGIZd",
        "outputId": "968405ff-25d5-4d73-e6af-cf81a42fdf67"
      },
      "execution_count": 41,
      "outputs": [
        {
          "output_type": "execute_result",
          "data": {
            "text/plain": [
              "Entityset: Online Retail Logs\n",
              "  Entities:\n",
              "    purchases [Rows: 375250, Columns: 8]\n",
              "    products [Rows: 3612, Columns: 3]\n",
              "    customers [Rows: 4244, Columns: 2]\n",
              "    orders [Rows: 20482, Columns: 4]\n",
              "  Relationships:\n",
              "    purchases.StockCode -> products.StockCode\n",
              "    purchases.CustomerID -> customers.CustomerID\n",
              "    purchases.InvoiceNo -> orders.InvoiceNo"
            ]
          },
          "metadata": {},
          "execution_count": 41
        }
      ]
    },
    {
      "cell_type": "code",
      "source": [
        "feature_matrix, feature_names = ft.dfs(entityset = es, target_entity = 'customers', cutoff_time = labels,\n",
        "                                       verbose = 2, cutoff_time_in_index= True, chunk_size = len(labels), n_jobs = -1,max_depth = 1)\n",
        "\n",
        "feature_matrix.head()"
      ],
      "metadata": {
        "colab": {
          "base_uri": "https://localhost:8080/",
          "height": 472
        },
        "id": "3tAYfW28GJr6",
        "outputId": "0cc81d00-42c6-44b0-adcd-2f21aca5fb28"
      },
      "execution_count": 42,
      "outputs": [
        {
          "output_type": "stream",
          "name": "stdout",
          "text": [
            "Built 27 features\n",
            "EntitySet scattered to 2 workers in 10 seconds\n",
            "Elapsed: 00:29 | Progress: 100%|██████████\n"
          ]
        },
        {
          "output_type": "execute_result",
          "data": {
            "text/plain": [
              "                       COUNT(purchases)  MAX(purchases.Quantity)  \\\n",
              "CustomerID time                                                    \n",
              "13313.0    2011-03-01                17                       25   \n",
              "18097.0    2011-03-01                 9                       60   \n",
              "16656.0    2011-03-01                14                      216   \n",
              "16875.0    2011-03-01                52                       24   \n",
              "13094.0    2011-03-01                 3                       72   \n",
              "\n",
              "                       MAX(purchases.UnitPrice)  MAX(purchases.total)  \\\n",
              "CustomerID time                                                         \n",
              "13313.0    2011-03-01                    7.0125                58.410   \n",
              "18097.0    2011-03-01                   16.4175               143.550   \n",
              "16656.0    2011-03-01                   14.0250               498.960   \n",
              "16875.0    2011-03-01                   27.9675                65.670   \n",
              "13094.0    2011-03-01                    1.7490               125.928   \n",
              "\n",
              "                       MEAN(purchases.Quantity)  MEAN(purchases.UnitPrice)  \\\n",
              "CustomerID time                                                              \n",
              "13313.0    2011-03-01                 10.058824                   3.692118   \n",
              "18097.0    2011-03-01                 30.000000                   4.882167   \n",
              "16656.0    2011-03-01                 56.285714                   5.079643   \n",
              "16875.0    2011-03-01                  7.250000                   7.433250   \n",
              "13094.0    2011-03-01                 72.000000                   1.749000   \n",
              "\n",
              "                       MEAN(purchases.total)  MIN(purchases.Quantity)  \\\n",
              "CustomerID time                                                         \n",
              "13313.0    2011-03-01              29.826176                        4   \n",
              "18097.0    2011-03-01              87.021000                        6   \n",
              "16656.0    2011-03-01             109.184036                      -12   \n",
              "16875.0    2011-03-01              24.218192                       -8   \n",
              "13094.0    2011-03-01             125.928000                       72   \n",
              "\n",
              "                       MIN(purchases.UnitPrice)  MIN(purchases.total)  ...  \\\n",
              "CustomerID time                                                        ...   \n",
              "13313.0    2011-03-01                    0.6930               17.3250  ...   \n",
              "18097.0    2011-03-01                    0.6930               33.2640  ...   \n",
              "16656.0    2011-03-01                    0.6930              -32.6700  ...   \n",
              "16875.0    2011-03-01                    0.4785              -16.4175  ...   \n",
              "13094.0    2011-03-01                    1.7490              125.9280  ...   \n",
              "\n",
              "                      STD(purchases.total) SUM(purchases.Quantity)  \\\n",
              "CustomerID time                                                      \n",
              "13313.0    2011-03-01            11.998083                     171   \n",
              "18097.0    2011-03-01            41.359375                     270   \n",
              "16656.0    2011-03-01           144.361356                     788   \n",
              "16875.0    2011-03-01            17.671397                     377   \n",
              "13094.0    2011-03-01             0.000000                     216   \n",
              "\n",
              "                       SUM(purchases.UnitPrice)  SUM(purchases.total)  \\\n",
              "CustomerID time                                                         \n",
              "13313.0    2011-03-01                   62.7660              507.0450   \n",
              "18097.0    2011-03-01                   43.9395              783.1890   \n",
              "16656.0    2011-03-01                   71.1150             1528.5765   \n",
              "16875.0    2011-03-01                  386.5290             1259.3460   \n",
              "13094.0    2011-03-01                    5.2470              377.7840   \n",
              "\n",
              "                       DAY(first_purchases_time)  MONTH(first_purchases_time)  \\\n",
              "CustomerID time                                                                 \n",
              "13313.0    2011-03-01                          4                            1   \n",
              "18097.0    2011-03-01                          4                            1   \n",
              "16656.0    2011-03-01                          4                            1   \n",
              "16875.0    2011-03-01                          4                            1   \n",
              "13094.0    2011-03-01                          4                            1   \n",
              "\n",
              "                       WEEKDAY(first_purchases_time)  \\\n",
              "CustomerID time                                        \n",
              "13313.0    2011-03-01                              1   \n",
              "18097.0    2011-03-01                              1   \n",
              "16656.0    2011-03-01                              1   \n",
              "16875.0    2011-03-01                              1   \n",
              "13094.0    2011-03-01                              1   \n",
              "\n",
              "                       YEAR(first_purchases_time)    total  label  \n",
              "CustomerID time                                                    \n",
              "13313.0    2011-03-01                        2011    0.000      0  \n",
              "18097.0    2011-03-01                        2011    0.000      0  \n",
              "16656.0    2011-03-01                        2011  589.248      1  \n",
              "16875.0    2011-03-01                        2011    0.000      0  \n",
              "13094.0    2011-03-01                        2011  115.434      0  \n",
              "\n",
              "[5 rows x 29 columns]"
            ],
            "text/html": [
              "\n",
              "  <div id=\"df-25307193-e9ed-4e1d-a801-12fec2b25c3c\">\n",
              "    <div class=\"colab-df-container\">\n",
              "      <div>\n",
              "<style scoped>\n",
              "    .dataframe tbody tr th:only-of-type {\n",
              "        vertical-align: middle;\n",
              "    }\n",
              "\n",
              "    .dataframe tbody tr th {\n",
              "        vertical-align: top;\n",
              "    }\n",
              "\n",
              "    .dataframe thead th {\n",
              "        text-align: right;\n",
              "    }\n",
              "</style>\n",
              "<table border=\"1\" class=\"dataframe\">\n",
              "  <thead>\n",
              "    <tr style=\"text-align: right;\">\n",
              "      <th></th>\n",
              "      <th></th>\n",
              "      <th>COUNT(purchases)</th>\n",
              "      <th>MAX(purchases.Quantity)</th>\n",
              "      <th>MAX(purchases.UnitPrice)</th>\n",
              "      <th>MAX(purchases.total)</th>\n",
              "      <th>MEAN(purchases.Quantity)</th>\n",
              "      <th>MEAN(purchases.UnitPrice)</th>\n",
              "      <th>MEAN(purchases.total)</th>\n",
              "      <th>MIN(purchases.Quantity)</th>\n",
              "      <th>MIN(purchases.UnitPrice)</th>\n",
              "      <th>MIN(purchases.total)</th>\n",
              "      <th>...</th>\n",
              "      <th>STD(purchases.total)</th>\n",
              "      <th>SUM(purchases.Quantity)</th>\n",
              "      <th>SUM(purchases.UnitPrice)</th>\n",
              "      <th>SUM(purchases.total)</th>\n",
              "      <th>DAY(first_purchases_time)</th>\n",
              "      <th>MONTH(first_purchases_time)</th>\n",
              "      <th>WEEKDAY(first_purchases_time)</th>\n",
              "      <th>YEAR(first_purchases_time)</th>\n",
              "      <th>total</th>\n",
              "      <th>label</th>\n",
              "    </tr>\n",
              "    <tr>\n",
              "      <th>CustomerID</th>\n",
              "      <th>time</th>\n",
              "      <th></th>\n",
              "      <th></th>\n",
              "      <th></th>\n",
              "      <th></th>\n",
              "      <th></th>\n",
              "      <th></th>\n",
              "      <th></th>\n",
              "      <th></th>\n",
              "      <th></th>\n",
              "      <th></th>\n",
              "      <th></th>\n",
              "      <th></th>\n",
              "      <th></th>\n",
              "      <th></th>\n",
              "      <th></th>\n",
              "      <th></th>\n",
              "      <th></th>\n",
              "      <th></th>\n",
              "      <th></th>\n",
              "      <th></th>\n",
              "      <th></th>\n",
              "    </tr>\n",
              "  </thead>\n",
              "  <tbody>\n",
              "    <tr>\n",
              "      <th>13313.0</th>\n",
              "      <th>2011-03-01</th>\n",
              "      <td>17</td>\n",
              "      <td>25</td>\n",
              "      <td>7.0125</td>\n",
              "      <td>58.410</td>\n",
              "      <td>10.058824</td>\n",
              "      <td>3.692118</td>\n",
              "      <td>29.826176</td>\n",
              "      <td>4</td>\n",
              "      <td>0.6930</td>\n",
              "      <td>17.3250</td>\n",
              "      <td>...</td>\n",
              "      <td>11.998083</td>\n",
              "      <td>171</td>\n",
              "      <td>62.7660</td>\n",
              "      <td>507.0450</td>\n",
              "      <td>4</td>\n",
              "      <td>1</td>\n",
              "      <td>1</td>\n",
              "      <td>2011</td>\n",
              "      <td>0.000</td>\n",
              "      <td>0</td>\n",
              "    </tr>\n",
              "    <tr>\n",
              "      <th>18097.0</th>\n",
              "      <th>2011-03-01</th>\n",
              "      <td>9</td>\n",
              "      <td>60</td>\n",
              "      <td>16.4175</td>\n",
              "      <td>143.550</td>\n",
              "      <td>30.000000</td>\n",
              "      <td>4.882167</td>\n",
              "      <td>87.021000</td>\n",
              "      <td>6</td>\n",
              "      <td>0.6930</td>\n",
              "      <td>33.2640</td>\n",
              "      <td>...</td>\n",
              "      <td>41.359375</td>\n",
              "      <td>270</td>\n",
              "      <td>43.9395</td>\n",
              "      <td>783.1890</td>\n",
              "      <td>4</td>\n",
              "      <td>1</td>\n",
              "      <td>1</td>\n",
              "      <td>2011</td>\n",
              "      <td>0.000</td>\n",
              "      <td>0</td>\n",
              "    </tr>\n",
              "    <tr>\n",
              "      <th>16656.0</th>\n",
              "      <th>2011-03-01</th>\n",
              "      <td>14</td>\n",
              "      <td>216</td>\n",
              "      <td>14.0250</td>\n",
              "      <td>498.960</td>\n",
              "      <td>56.285714</td>\n",
              "      <td>5.079643</td>\n",
              "      <td>109.184036</td>\n",
              "      <td>-12</td>\n",
              "      <td>0.6930</td>\n",
              "      <td>-32.6700</td>\n",
              "      <td>...</td>\n",
              "      <td>144.361356</td>\n",
              "      <td>788</td>\n",
              "      <td>71.1150</td>\n",
              "      <td>1528.5765</td>\n",
              "      <td>4</td>\n",
              "      <td>1</td>\n",
              "      <td>1</td>\n",
              "      <td>2011</td>\n",
              "      <td>589.248</td>\n",
              "      <td>1</td>\n",
              "    </tr>\n",
              "    <tr>\n",
              "      <th>16875.0</th>\n",
              "      <th>2011-03-01</th>\n",
              "      <td>52</td>\n",
              "      <td>24</td>\n",
              "      <td>27.9675</td>\n",
              "      <td>65.670</td>\n",
              "      <td>7.250000</td>\n",
              "      <td>7.433250</td>\n",
              "      <td>24.218192</td>\n",
              "      <td>-8</td>\n",
              "      <td>0.4785</td>\n",
              "      <td>-16.4175</td>\n",
              "      <td>...</td>\n",
              "      <td>17.671397</td>\n",
              "      <td>377</td>\n",
              "      <td>386.5290</td>\n",
              "      <td>1259.3460</td>\n",
              "      <td>4</td>\n",
              "      <td>1</td>\n",
              "      <td>1</td>\n",
              "      <td>2011</td>\n",
              "      <td>0.000</td>\n",
              "      <td>0</td>\n",
              "    </tr>\n",
              "    <tr>\n",
              "      <th>13094.0</th>\n",
              "      <th>2011-03-01</th>\n",
              "      <td>3</td>\n",
              "      <td>72</td>\n",
              "      <td>1.7490</td>\n",
              "      <td>125.928</td>\n",
              "      <td>72.000000</td>\n",
              "      <td>1.749000</td>\n",
              "      <td>125.928000</td>\n",
              "      <td>72</td>\n",
              "      <td>1.7490</td>\n",
              "      <td>125.9280</td>\n",
              "      <td>...</td>\n",
              "      <td>0.000000</td>\n",
              "      <td>216</td>\n",
              "      <td>5.2470</td>\n",
              "      <td>377.7840</td>\n",
              "      <td>4</td>\n",
              "      <td>1</td>\n",
              "      <td>1</td>\n",
              "      <td>2011</td>\n",
              "      <td>115.434</td>\n",
              "      <td>0</td>\n",
              "    </tr>\n",
              "  </tbody>\n",
              "</table>\n",
              "<p>5 rows × 29 columns</p>\n",
              "</div>\n",
              "      <button class=\"colab-df-convert\" onclick=\"convertToInteractive('df-25307193-e9ed-4e1d-a801-12fec2b25c3c')\"\n",
              "              title=\"Convert this dataframe to an interactive table.\"\n",
              "              style=\"display:none;\">\n",
              "        \n",
              "  <svg xmlns=\"http://www.w3.org/2000/svg\" height=\"24px\"viewBox=\"0 0 24 24\"\n",
              "       width=\"24px\">\n",
              "    <path d=\"M0 0h24v24H0V0z\" fill=\"none\"/>\n",
              "    <path d=\"M18.56 5.44l.94 2.06.94-2.06 2.06-.94-2.06-.94-.94-2.06-.94 2.06-2.06.94zm-11 1L8.5 8.5l.94-2.06 2.06-.94-2.06-.94L8.5 2.5l-.94 2.06-2.06.94zm10 10l.94 2.06.94-2.06 2.06-.94-2.06-.94-.94-2.06-.94 2.06-2.06.94z\"/><path d=\"M17.41 7.96l-1.37-1.37c-.4-.4-.92-.59-1.43-.59-.52 0-1.04.2-1.43.59L10.3 9.45l-7.72 7.72c-.78.78-.78 2.05 0 2.83L4 21.41c.39.39.9.59 1.41.59.51 0 1.02-.2 1.41-.59l7.78-7.78 2.81-2.81c.8-.78.8-2.07 0-2.86zM5.41 20L4 18.59l7.72-7.72 1.47 1.35L5.41 20z\"/>\n",
              "  </svg>\n",
              "      </button>\n",
              "      \n",
              "  <style>\n",
              "    .colab-df-container {\n",
              "      display:flex;\n",
              "      flex-wrap:wrap;\n",
              "      gap: 12px;\n",
              "    }\n",
              "\n",
              "    .colab-df-convert {\n",
              "      background-color: #E8F0FE;\n",
              "      border: none;\n",
              "      border-radius: 50%;\n",
              "      cursor: pointer;\n",
              "      display: none;\n",
              "      fill: #1967D2;\n",
              "      height: 32px;\n",
              "      padding: 0 0 0 0;\n",
              "      width: 32px;\n",
              "    }\n",
              "\n",
              "    .colab-df-convert:hover {\n",
              "      background-color: #E2EBFA;\n",
              "      box-shadow: 0px 1px 2px rgba(60, 64, 67, 0.3), 0px 1px 3px 1px rgba(60, 64, 67, 0.15);\n",
              "      fill: #174EA6;\n",
              "    }\n",
              "\n",
              "    [theme=dark] .colab-df-convert {\n",
              "      background-color: #3B4455;\n",
              "      fill: #D2E3FC;\n",
              "    }\n",
              "\n",
              "    [theme=dark] .colab-df-convert:hover {\n",
              "      background-color: #434B5C;\n",
              "      box-shadow: 0px 1px 3px 1px rgba(0, 0, 0, 0.15);\n",
              "      filter: drop-shadow(0px 1px 2px rgba(0, 0, 0, 0.3));\n",
              "      fill: #FFFFFF;\n",
              "    }\n",
              "  </style>\n",
              "\n",
              "      <script>\n",
              "        const buttonEl =\n",
              "          document.querySelector('#df-25307193-e9ed-4e1d-a801-12fec2b25c3c button.colab-df-convert');\n",
              "        buttonEl.style.display =\n",
              "          google.colab.kernel.accessAllowed ? 'block' : 'none';\n",
              "\n",
              "        async function convertToInteractive(key) {\n",
              "          const element = document.querySelector('#df-25307193-e9ed-4e1d-a801-12fec2b25c3c');\n",
              "          const dataTable =\n",
              "            await google.colab.kernel.invokeFunction('convertToInteractive',\n",
              "                                                     [key], {});\n",
              "          if (!dataTable) return;\n",
              "\n",
              "          const docLinkHtml = 'Like what you see? Visit the ' +\n",
              "            '<a target=\"_blank\" href=https://colab.research.google.com/notebooks/data_table.ipynb>data table notebook</a>'\n",
              "            + ' to learn more about interactive tables.';\n",
              "          element.innerHTML = '';\n",
              "          dataTable['output_type'] = 'display_data';\n",
              "          await google.colab.output.renderOutput(dataTable, element);\n",
              "          const docLink = document.createElement('div');\n",
              "          docLink.innerHTML = docLinkHtml;\n",
              "          element.appendChild(docLink);\n",
              "        }\n",
              "      </script>\n",
              "    </div>\n",
              "  </div>\n",
              "  "
            ]
          },
          "metadata": {},
          "execution_count": 42
        }
      ]
    },
    {
      "cell_type": "markdown",
      "source": [
        "- We dropthe total and labels columns before training as they were passed through from cutoff time data. Also drop Mode of the stock code and invoice number as it will not be usedfor creating features since they are index variables."
      ],
      "metadata": {
        "id": "NcB5h0JuHOUR"
      }
    },
    {
      "cell_type": "code",
      "source": [
        "feature_matrix = feature_matrix.drop(columns = ['MODE(purchases.StockCode)','MODE(purchases.InvoiceNo)'])\n",
        "feature_matrix.shape"
      ],
      "metadata": {
        "colab": {
          "base_uri": "https://localhost:8080/"
        },
        "id": "rwrcatD1GnpP",
        "outputId": "52ec1eee-14ad-42f3-f70a-356ed21c3d89"
      },
      "execution_count": 43,
      "outputs": [
        {
          "output_type": "execute_result",
          "data": {
            "text/plain": [
              "(28133, 27)"
            ]
          },
          "metadata": {},
          "execution_count": 43
        }
      ]
    },
    {
      "cell_type": "code",
      "source": [
        "feature_matrix.loc[12347,:].sample(10, axis = 1)"
      ],
      "metadata": {
        "colab": {
          "base_uri": "https://localhost:8080/",
          "height": 632
        },
        "id": "UYlEIv92H_sz",
        "outputId": "4aa268f3-1574-41c7-d886-4b9c61da24c5"
      },
      "execution_count": 44,
      "outputs": [
        {
          "output_type": "execute_result",
          "data": {
            "text/plain": [
              "            NUM_UNIQUE(purchases.StockCode)  STD(purchases.UnitPrice)  \\\n",
              "time                                                                    \n",
              "2011-03-01                               29                  4.015815   \n",
              "2011-04-01                               29                  4.015815   \n",
              "2011-05-01                               46                  4.088012   \n",
              "2011-06-01                               46                  4.088012   \n",
              "2011-07-01                               58                  3.954557   \n",
              "2011-08-01                               58                  3.954557   \n",
              "2011-09-01                               65                  4.128061   \n",
              "2011-10-01                               65                  4.128061   \n",
              "2011-11-01                               83                  4.019489   \n",
              "2011-12-01                               83                  4.019489   \n",
              "\n",
              "            DAY(first_purchases_time)  SKEW(purchases.total)  \\\n",
              "time                                                           \n",
              "2011-03-01                         26               1.643541   \n",
              "2011-04-01                         26               1.643541   \n",
              "2011-05-01                         26               6.796760   \n",
              "2011-06-01                         26               6.796760   \n",
              "2011-07-01                         26               7.450736   \n",
              "2011-08-01                         26               7.450736   \n",
              "2011-09-01                         26               6.472880   \n",
              "2011-10-01                         26               6.472880   \n",
              "2011-11-01                         26               5.781226   \n",
              "2011-12-01                         26               5.781226   \n",
              "\n",
              "            STD(purchases.Quantity)  SUM(purchases.Quantity)  \\\n",
              "time                                                           \n",
              "2011-03-01                 7.510584                      315   \n",
              "2011-04-01                 7.510584                      315   \n",
              "2011-05-01                32.387922                      798   \n",
              "2011-06-01                32.387922                      798   \n",
              "2011-07-01                28.279725                      994   \n",
              "2011-08-01                28.279725                      994   \n",
              "2011-09-01                25.078283                     1271   \n",
              "2011-10-01                25.078283                     1271   \n",
              "2011-11-01                21.064101                     1947   \n",
              "2011-12-01                21.064101                     1947   \n",
              "\n",
              "            MAX(purchases.total)  MIN(purchases.UnitPrice)  \\\n",
              "time                                                         \n",
              "2011-03-01               63.1125                    0.6930   \n",
              "2011-04-01               63.1125                    0.6930   \n",
              "2011-05-01              411.8400                    0.4125   \n",
              "2011-06-01              411.8400                    0.4125   \n",
              "2011-07-01              411.8400                    0.4125   \n",
              "2011-08-01              411.8400                    0.4125   \n",
              "2011-09-01              411.8400                    0.4125   \n",
              "2011-10-01              411.8400                    0.4125   \n",
              "2011-11-01              411.8400                    0.4125   \n",
              "2011-12-01              411.8400                    0.4125   \n",
              "\n",
              "            SKEW(purchases.UnitPrice)  NUM_UNIQUE(purchases.InvoiceNo)  \n",
              "time                                                                    \n",
              "2011-03-01                   2.731972                                1  \n",
              "2011-04-01                   2.731972                                1  \n",
              "2011-05-01                   2.677160                                2  \n",
              "2011-06-01                   2.677160                                2  \n",
              "2011-07-01                   2.462034                                3  \n",
              "2011-08-01                   2.462034                                3  \n",
              "2011-09-01                   2.331698                                4  \n",
              "2011-10-01                   2.331698                                4  \n",
              "2011-11-01                   2.384943                                5  \n",
              "2011-12-01                   2.384943                                5  "
            ],
            "text/html": [
              "\n",
              "  <div id=\"df-18dd2948-bafb-4720-bc78-45356e293253\">\n",
              "    <div class=\"colab-df-container\">\n",
              "      <div>\n",
              "<style scoped>\n",
              "    .dataframe tbody tr th:only-of-type {\n",
              "        vertical-align: middle;\n",
              "    }\n",
              "\n",
              "    .dataframe tbody tr th {\n",
              "        vertical-align: top;\n",
              "    }\n",
              "\n",
              "    .dataframe thead th {\n",
              "        text-align: right;\n",
              "    }\n",
              "</style>\n",
              "<table border=\"1\" class=\"dataframe\">\n",
              "  <thead>\n",
              "    <tr style=\"text-align: right;\">\n",
              "      <th></th>\n",
              "      <th>NUM_UNIQUE(purchases.StockCode)</th>\n",
              "      <th>STD(purchases.UnitPrice)</th>\n",
              "      <th>DAY(first_purchases_time)</th>\n",
              "      <th>SKEW(purchases.total)</th>\n",
              "      <th>STD(purchases.Quantity)</th>\n",
              "      <th>SUM(purchases.Quantity)</th>\n",
              "      <th>MAX(purchases.total)</th>\n",
              "      <th>MIN(purchases.UnitPrice)</th>\n",
              "      <th>SKEW(purchases.UnitPrice)</th>\n",
              "      <th>NUM_UNIQUE(purchases.InvoiceNo)</th>\n",
              "    </tr>\n",
              "    <tr>\n",
              "      <th>time</th>\n",
              "      <th></th>\n",
              "      <th></th>\n",
              "      <th></th>\n",
              "      <th></th>\n",
              "      <th></th>\n",
              "      <th></th>\n",
              "      <th></th>\n",
              "      <th></th>\n",
              "      <th></th>\n",
              "      <th></th>\n",
              "    </tr>\n",
              "  </thead>\n",
              "  <tbody>\n",
              "    <tr>\n",
              "      <th>2011-03-01</th>\n",
              "      <td>29</td>\n",
              "      <td>4.015815</td>\n",
              "      <td>26</td>\n",
              "      <td>1.643541</td>\n",
              "      <td>7.510584</td>\n",
              "      <td>315</td>\n",
              "      <td>63.1125</td>\n",
              "      <td>0.6930</td>\n",
              "      <td>2.731972</td>\n",
              "      <td>1</td>\n",
              "    </tr>\n",
              "    <tr>\n",
              "      <th>2011-04-01</th>\n",
              "      <td>29</td>\n",
              "      <td>4.015815</td>\n",
              "      <td>26</td>\n",
              "      <td>1.643541</td>\n",
              "      <td>7.510584</td>\n",
              "      <td>315</td>\n",
              "      <td>63.1125</td>\n",
              "      <td>0.6930</td>\n",
              "      <td>2.731972</td>\n",
              "      <td>1</td>\n",
              "    </tr>\n",
              "    <tr>\n",
              "      <th>2011-05-01</th>\n",
              "      <td>46</td>\n",
              "      <td>4.088012</td>\n",
              "      <td>26</td>\n",
              "      <td>6.796760</td>\n",
              "      <td>32.387922</td>\n",
              "      <td>798</td>\n",
              "      <td>411.8400</td>\n",
              "      <td>0.4125</td>\n",
              "      <td>2.677160</td>\n",
              "      <td>2</td>\n",
              "    </tr>\n",
              "    <tr>\n",
              "      <th>2011-06-01</th>\n",
              "      <td>46</td>\n",
              "      <td>4.088012</td>\n",
              "      <td>26</td>\n",
              "      <td>6.796760</td>\n",
              "      <td>32.387922</td>\n",
              "      <td>798</td>\n",
              "      <td>411.8400</td>\n",
              "      <td>0.4125</td>\n",
              "      <td>2.677160</td>\n",
              "      <td>2</td>\n",
              "    </tr>\n",
              "    <tr>\n",
              "      <th>2011-07-01</th>\n",
              "      <td>58</td>\n",
              "      <td>3.954557</td>\n",
              "      <td>26</td>\n",
              "      <td>7.450736</td>\n",
              "      <td>28.279725</td>\n",
              "      <td>994</td>\n",
              "      <td>411.8400</td>\n",
              "      <td>0.4125</td>\n",
              "      <td>2.462034</td>\n",
              "      <td>3</td>\n",
              "    </tr>\n",
              "    <tr>\n",
              "      <th>2011-08-01</th>\n",
              "      <td>58</td>\n",
              "      <td>3.954557</td>\n",
              "      <td>26</td>\n",
              "      <td>7.450736</td>\n",
              "      <td>28.279725</td>\n",
              "      <td>994</td>\n",
              "      <td>411.8400</td>\n",
              "      <td>0.4125</td>\n",
              "      <td>2.462034</td>\n",
              "      <td>3</td>\n",
              "    </tr>\n",
              "    <tr>\n",
              "      <th>2011-09-01</th>\n",
              "      <td>65</td>\n",
              "      <td>4.128061</td>\n",
              "      <td>26</td>\n",
              "      <td>6.472880</td>\n",
              "      <td>25.078283</td>\n",
              "      <td>1271</td>\n",
              "      <td>411.8400</td>\n",
              "      <td>0.4125</td>\n",
              "      <td>2.331698</td>\n",
              "      <td>4</td>\n",
              "    </tr>\n",
              "    <tr>\n",
              "      <th>2011-10-01</th>\n",
              "      <td>65</td>\n",
              "      <td>4.128061</td>\n",
              "      <td>26</td>\n",
              "      <td>6.472880</td>\n",
              "      <td>25.078283</td>\n",
              "      <td>1271</td>\n",
              "      <td>411.8400</td>\n",
              "      <td>0.4125</td>\n",
              "      <td>2.331698</td>\n",
              "      <td>4</td>\n",
              "    </tr>\n",
              "    <tr>\n",
              "      <th>2011-11-01</th>\n",
              "      <td>83</td>\n",
              "      <td>4.019489</td>\n",
              "      <td>26</td>\n",
              "      <td>5.781226</td>\n",
              "      <td>21.064101</td>\n",
              "      <td>1947</td>\n",
              "      <td>411.8400</td>\n",
              "      <td>0.4125</td>\n",
              "      <td>2.384943</td>\n",
              "      <td>5</td>\n",
              "    </tr>\n",
              "    <tr>\n",
              "      <th>2011-12-01</th>\n",
              "      <td>83</td>\n",
              "      <td>4.019489</td>\n",
              "      <td>26</td>\n",
              "      <td>5.781226</td>\n",
              "      <td>21.064101</td>\n",
              "      <td>1947</td>\n",
              "      <td>411.8400</td>\n",
              "      <td>0.4125</td>\n",
              "      <td>2.384943</td>\n",
              "      <td>5</td>\n",
              "    </tr>\n",
              "  </tbody>\n",
              "</table>\n",
              "</div>\n",
              "      <button class=\"colab-df-convert\" onclick=\"convertToInteractive('df-18dd2948-bafb-4720-bc78-45356e293253')\"\n",
              "              title=\"Convert this dataframe to an interactive table.\"\n",
              "              style=\"display:none;\">\n",
              "        \n",
              "  <svg xmlns=\"http://www.w3.org/2000/svg\" height=\"24px\"viewBox=\"0 0 24 24\"\n",
              "       width=\"24px\">\n",
              "    <path d=\"M0 0h24v24H0V0z\" fill=\"none\"/>\n",
              "    <path d=\"M18.56 5.44l.94 2.06.94-2.06 2.06-.94-2.06-.94-.94-2.06-.94 2.06-2.06.94zm-11 1L8.5 8.5l.94-2.06 2.06-.94-2.06-.94L8.5 2.5l-.94 2.06-2.06.94zm10 10l.94 2.06.94-2.06 2.06-.94-2.06-.94-.94-2.06-.94 2.06-2.06.94z\"/><path d=\"M17.41 7.96l-1.37-1.37c-.4-.4-.92-.59-1.43-.59-.52 0-1.04.2-1.43.59L10.3 9.45l-7.72 7.72c-.78.78-.78 2.05 0 2.83L4 21.41c.39.39.9.59 1.41.59.51 0 1.02-.2 1.41-.59l7.78-7.78 2.81-2.81c.8-.78.8-2.07 0-2.86zM5.41 20L4 18.59l7.72-7.72 1.47 1.35L5.41 20z\"/>\n",
              "  </svg>\n",
              "      </button>\n",
              "      \n",
              "  <style>\n",
              "    .colab-df-container {\n",
              "      display:flex;\n",
              "      flex-wrap:wrap;\n",
              "      gap: 12px;\n",
              "    }\n",
              "\n",
              "    .colab-df-convert {\n",
              "      background-color: #E8F0FE;\n",
              "      border: none;\n",
              "      border-radius: 50%;\n",
              "      cursor: pointer;\n",
              "      display: none;\n",
              "      fill: #1967D2;\n",
              "      height: 32px;\n",
              "      padding: 0 0 0 0;\n",
              "      width: 32px;\n",
              "    }\n",
              "\n",
              "    .colab-df-convert:hover {\n",
              "      background-color: #E2EBFA;\n",
              "      box-shadow: 0px 1px 2px rgba(60, 64, 67, 0.3), 0px 1px 3px 1px rgba(60, 64, 67, 0.15);\n",
              "      fill: #174EA6;\n",
              "    }\n",
              "\n",
              "    [theme=dark] .colab-df-convert {\n",
              "      background-color: #3B4455;\n",
              "      fill: #D2E3FC;\n",
              "    }\n",
              "\n",
              "    [theme=dark] .colab-df-convert:hover {\n",
              "      background-color: #434B5C;\n",
              "      box-shadow: 0px 1px 3px 1px rgba(0, 0, 0, 0.15);\n",
              "      filter: drop-shadow(0px 1px 2px rgba(0, 0, 0, 0.3));\n",
              "      fill: #FFFFFF;\n",
              "    }\n",
              "  </style>\n",
              "\n",
              "      <script>\n",
              "        const buttonEl =\n",
              "          document.querySelector('#df-18dd2948-bafb-4720-bc78-45356e293253 button.colab-df-convert');\n",
              "        buttonEl.style.display =\n",
              "          google.colab.kernel.accessAllowed ? 'block' : 'none';\n",
              "\n",
              "        async function convertToInteractive(key) {\n",
              "          const element = document.querySelector('#df-18dd2948-bafb-4720-bc78-45356e293253');\n",
              "          const dataTable =\n",
              "            await google.colab.kernel.invokeFunction('convertToInteractive',\n",
              "                                                     [key], {});\n",
              "          if (!dataTable) return;\n",
              "\n",
              "          const docLinkHtml = 'Like what you see? Visit the ' +\n",
              "            '<a target=\"_blank\" href=https://colab.research.google.com/notebooks/data_table.ipynb>data table notebook</a>'\n",
              "            + ' to learn more about interactive tables.';\n",
              "          element.innerHTML = '';\n",
              "          dataTable['output_type'] = 'display_data';\n",
              "          await google.colab.output.renderOutput(dataTable, element);\n",
              "          const docLink = document.createElement('div');\n",
              "          docLink.innerHTML = docLinkHtml;\n",
              "          element.appendChild(docLink);\n",
              "        }\n",
              "      </script>\n",
              "    </div>\n",
              "  </div>\n",
              "  "
            ]
          },
          "metadata": {},
          "execution_count": 44
        }
      ]
    },
    {
      "cell_type": "code",
      "source": [
        "feature_matrix.groupby('time')['COUNT(purchases)'].mean().plot()\n",
        "plt.title('Average Monthly Count of Purchases')\n",
        "plt.ylabel('Purchases Per Customer')"
      ],
      "metadata": {
        "colab": {
          "base_uri": "https://localhost:8080/",
          "height": 325
        },
        "id": "mo7LWcw_Nzy-",
        "outputId": "d675a702-5842-4349-8a54-bc87a47e0961"
      },
      "execution_count": 45,
      "outputs": [
        {
          "output_type": "execute_result",
          "data": {
            "text/plain": [
              "Text(0, 0.5, 'Purchases Per Customer')"
            ]
          },
          "metadata": {},
          "execution_count": 45
        },
        {
          "output_type": "display_data",
          "data": {
            "text/plain": [
              "<Figure size 432x288 with 1 Axes>"
            ],
            "image/png": "[encoded data removed]"
          },
          "metadata": {
            "needs_background": "light"
          }
        }
      ]
    },
    {
      "cell_type": "markdown",
      "source": [
        "- As we progress through time, we have more purchases per customer to use for prediction"
      ],
      "metadata": {
        "id": "QANkPHqsO7hz"
      }
    },
    {
      "cell_type": "code",
      "source": [
        "feature_matrix.groupby('time')['SUM(purchases.Quantity)'].mean().plot()\n",
        "plt.title('Average Monthly Sum of Purchased Products')\n",
        "plt.ylabel('Total Purchased Products Per Customer')"
      ],
      "metadata": {
        "colab": {
          "base_uri": "https://localhost:8080/",
          "height": 325
        },
        "id": "fvToufwQO2Ru",
        "outputId": "63654709-cea3-4911-9ecc-e10f72dca4ad"
      },
      "execution_count": 46,
      "outputs": [
        {
          "output_type": "execute_result",
          "data": {
            "text/plain": [
              "Text(0, 0.5, 'Total Purchased Products Per Customer')"
            ]
          },
          "metadata": {},
          "execution_count": 46
        },
        {
          "output_type": "display_data",
          "data": {
            "text/plain": [
              "<Figure size 432x288 with 1 Axes>"
            ],
            "image/png": "[encoded data removed]"
          },
          "metadata": {
            "needs_background": "light"
          }
        }
      ]
    },
    {
      "cell_type": "markdown",
      "source": [
        "- As we include moe information, our forecasts should improve in accuracy."
      ],
      "metadata": {
        "id": "UkUYGIeqPVIc"
      }
    },
    {
      "cell_type": "markdown",
      "source": [
        "## **Correlations**"
      ],
      "metadata": {
        "id": "iJvKmG4VPecQ"
      }
    },
    {
      "cell_type": "code",
      "source": [
        "feature_matrix = pd.get_dummies(feature_matrix).reset_index()\n",
        "feature_matrix.shape"
      ],
      "metadata": {
        "colab": {
          "base_uri": "https://localhost:8080/"
        },
        "id": "oNK-JD_NPQPn",
        "outputId": "8acb3b2e-5b14-41ab-c168-3fb9acf03b94"
      },
      "execution_count": 47,
      "outputs": [
        {
          "output_type": "execute_result",
          "data": {
            "text/plain": [
              "(28133, 29)"
            ]
          },
          "metadata": {},
          "execution_count": 47
        }
      ]
    },
    {
      "cell_type": "code",
      "source": [
        "corrs = feature_matrix.corr().sort_values('total')\n",
        "corrs['total'].head()"
      ],
      "metadata": {
        "colab": {
          "base_uri": "https://localhost:8080/"
        },
        "id": "5FLc0W9YP6B2",
        "outputId": "e296ac53-b955-4cba-81a2-12b6de495a91"
      },
      "execution_count": 48,
      "outputs": [
        {
          "output_type": "execute_result",
          "data": {
            "text/plain": [
              "MONTH(first_purchases_time)     -0.083372\n",
              "DAY(first_purchases_time)       -0.050790\n",
              "MIN(purchases.total)            -0.026663\n",
              "WEEKDAY(first_purchases_time)   -0.009223\n",
              "MIN(purchases.UnitPrice)        -0.006407\n",
              "Name: total, dtype: float64"
            ]
          },
          "metadata": {},
          "execution_count": 48
        }
      ]
    },
    {
      "cell_type": "code",
      "source": [
        "corrs['total'].dropna().tail()"
      ],
      "metadata": {
        "colab": {
          "base_uri": "https://localhost:8080/"
        },
        "id": "qul-ObERQIj-",
        "outputId": "5e477f32-c4e9-41e4-9891-5e5df4097169"
      },
      "execution_count": 49,
      "outputs": [
        {
          "output_type": "execute_result",
          "data": {
            "text/plain": [
              "label                              0.343661\n",
              "NUM_UNIQUE(purchases.InvoiceNo)    0.351811\n",
              "SUM(purchases.Quantity)            0.566804\n",
              "SUM(purchases.total)               0.630549\n",
              "total                              1.000000\n",
              "Name: total, dtype: float64"
            ]
          },
          "metadata": {},
          "execution_count": 49
        }
      ]
    },
    {
      "cell_type": "code",
      "source": [
        "g = sns.FacetGrid(feature_matrix[(feature_matrix['SUM(purchases.total)']>0)&(feature_matrix['SUM(purchases.total)']<1000)],\n",
        "                  hue = 'label', size = 4, aspect= 3)\n",
        "g.map(sns.kdeplot, 'SUM(purchases.total)')\n",
        "g.add_legend()\n",
        "plt.title('Distribution of Purchases Total by Label')\n",
        "plt.show()"
      ],
      "metadata": {
        "colab": {
          "base_uri": "https://localhost:8080/",
          "height": 314
        },
        "id": "uLKe0K00QSQT",
        "outputId": "08f7b8dd-73ec-46e8-b5c2-05cf1f532937"
      },
      "execution_count": 50,
      "outputs": [
        {
          "output_type": "display_data",
          "data": {
            "text/plain": [
              "<Figure size 906.375x288 with 1 Axes>"
            ],
            "image/png": "[encoded data removed]"
          },
          "metadata": {
            "needs_background": "light"
          }
        }
      ]
    },
    {
      "cell_type": "code",
      "source": [
        "feature_matrix['month'] = feature_matrix['time'].dt.month\n",
        "sns.violinplot(x = 'month', y = 'NUM_UNIQUE(purchases.StockCode)', hue = 'label', figsize=(24,6),\n",
        "               data = feature_matrix[(feature_matrix['SUM(purchases.total)']>0) &(feature_matrix['SUM(purchases.total)']<1000)])\n",
        "plt.title('Number of Unique Purchases by Label')\n",
        "plt.show()"
      ],
      "metadata": {
        "colab": {
          "base_uri": "https://localhost:8080/",
          "height": 296
        },
        "id": "3P7Vw4WYRtgy",
        "outputId": "5fe08e4b-512b-45f3-e22b-19e69da85fe2"
      },
      "execution_count": 51,
      "outputs": [
        {
          "output_type": "display_data",
          "data": {
            "text/plain": [
              "<Figure size 432x288 with 1 Axes>"
            ],
            "image/png": "[encoded data removed]"
          },
          "metadata": {
            "needs_background": "light"
          }
        }
      ]
    },
    {
      "cell_type": "markdown",
      "source": [
        "## **Preliminary Modelling**"
      ],
      "metadata": {
        "id": "2wpojqKGUYmc"
      }
    },
    {
      "cell_type": "markdown",
      "source": [
        "- We will use Random forest for modelling, we will increase the number of trees to 1000 and keep other hyperparameters at default."
      ],
      "metadata": {
        "id": "e82C-CbMUnmX"
      }
    },
    {
      "cell_type": "code",
      "source": [
        "model = RandomForestClassifier(n_estimators = 1000,\n",
        "                               random_state = 50,\n",
        "                               n_jobs = -1)"
      ],
      "metadata": {
        "id": "FFbX9ABqUVz7"
      },
      "execution_count": 52,
      "outputs": []
    },
    {
      "cell_type": "code",
      "source": [
        "from sklearn.pipeline import Pipeline"
      ],
      "metadata": {
        "id": "orPwmN26BUv7"
      },
      "execution_count": 53,
      "outputs": []
    },
    {
      "cell_type": "code",
      "source": [
        "def predict_month(month, feature_matrix, return_probs = False):\n",
        "  \"\"\"Train and test a machine learning model using a feature set for one month.\n",
        "  Testing labesl are from the month\"\"\"\n",
        "\n",
        "  feature_matrix ['month']= feature_matrix['time'].dt.month\n",
        "\n",
        "  #subset labels\n",
        "  test_labels =feature_matrix.loc[feature_matrix['month'] == month,'label'] \n",
        "  train_labels =feature_matrix.loc[feature_matrix['month'] < month,'label'] \n",
        "\n",
        "  #features\n",
        "  X_train = feature_matrix[feature_matrix['time'].dt.month < month].drop(columns = ['CustomerID','time','month','label','total'])\n",
        "  X_test = feature_matrix[feature_matrix['time'].dt.month == month].drop(columns = ['CustomerID','time','month','label','total'])\n",
        "\n",
        "  feature_names = list(X_train.columns)\n",
        "\n",
        "  #Impute and scale features\n",
        "  pipeline = Pipeline([('imputer', SimpleImputer(strategy = 'median')),('scaler', MinMaxScaler())])\n",
        "\n",
        "  #fit and transform training data\n",
        "  X_train = pipeline.fit_transform(X_train)\n",
        "  X_test = pipeline.transform(X_test)\n",
        "\n",
        "  #labels\n",
        "  y_train = np.array(train_labels).reshape((-1,))\n",
        "  y_test = np.array(test_labels).reshape((-1,))\n",
        "\n",
        "  print('Training on {} observations'.format(len(X_train)))\n",
        "  print('Testing on {} observations.\\n'.format(len(X_test)))\n",
        "\n",
        "  #Train\n",
        "  model.fit(X_train, y_train)\n",
        "\n",
        "  #Make Predictions\n",
        "  predictions  =model.predict(X_test)\n",
        "  probs = model.predict_proba(X_test)[:,1]\n",
        "\n",
        "  #Calculate metrics\n",
        "  p = precision_score(y_test, predictions)\n",
        "  r = recall_score(y_test, predictions)\n",
        "  f = f1_score(y_test, predictions)\n",
        "  auc = roc_auc_score(y_test, probs)\n",
        "\n",
        "  print(f'Precision: {round(p,5)}')\n",
        "  print(f'Recall: {round(r,5)}')\n",
        "  print(f'F1 Score: {round(f,5)}')\n",
        "  print(f'ROC AUC: {round(auc,5)}')\n",
        "\n",
        "  #feature importance\n",
        "  fi = pd.DataFrame({'feature': feature_names, 'importance': model.feature_importances_})\n",
        "\n",
        "  if return_probs:\n",
        "    return fi, probs\n",
        "\n",
        "  return fi\n"
      ],
      "metadata": {
        "id": "LPmagWHzBmbC"
      },
      "execution_count": 55,
      "outputs": []
    },
    {
      "cell_type": "code",
      "source": [
        "june_fi = predict_month(6, feature_matrix)"
      ],
      "metadata": {
        "colab": {
          "base_uri": "https://localhost:8080/"
        },
        "id": "LLPapoGSIlWJ",
        "outputId": "a8d01b95-7358-45e2-b945-c705e9d7d58d"
      },
      "execution_count": 56,
      "outputs": [
        {
          "output_type": "stream",
          "name": "stdout",
          "text": [
            "Training on 5266 observations\n",
            "Testing on 2489 observations.\n",
            "\n",
            "Precision: 0.55519\n",
            "Recall: 0.40141\n",
            "F1 Score: 0.46594\n",
            "ROC AUC: 0.7488\n"
          ]
        }
      ]
    },
    {
      "cell_type": "code",
      "source": [
        "def plot_feature_importances(df, n=15, threshold = None):\n",
        "  \"Plots n most important features\"\n",
        "  'Sort feature with most important at the head'\n",
        "  df= df.sort_values('importance', ascending = False).reset_index(drop = True)\n",
        "\n",
        "  #Normalize the feature importance to ass up to one and calculate cumulative importance\n",
        "  df['importance_normalized'] = df['importance'] / df['importance'].sum()\n",
        "  df['cumulative_importance'] = np.cumsum(df['importance_normalized'])\n",
        "\n",
        "  plt.rcParams['font.size'] = 12\n",
        "\n",
        "  #Bar plot of n most important features\n",
        "  df.loc[:n, :].plot.barh(y = 'importance_normalized',\n",
        "                          x = 'feature', color = 'blue',\n",
        "                          edgecolor = 'k', figsize=(12,8),\n",
        "                          legend = False)\n",
        "  plt.xlabel('Normalized Importance', size  =18); plt.ylabel('');\n",
        "  plt.title(f'Top{n} Most Important Features',size = 18)\n",
        "  plt.gca().invert_yaxis()\n",
        "\n",
        "  if threshold:\n",
        "    #Cummulative importance plot\n",
        "    plt.figure(figsize= (8,6))\n",
        "    plt.plot(list(range(len(df))), df['cumulative_mportance'], 'b-')\n",
        "    plt.xlabel('Number of Features', size= 16)\n",
        "    plt.ylabel('Cumulative Importance', size= 16)\n",
        "    plt.title('Cumulative Feature Importance', size = 18)\n",
        "\n",
        "    importance_index = np.min(np.where(df['cumulative_importance'] > threshold))\n",
        "\n",
        "    #Add vertical line to plot\n",
        "    plt.vlines(importance_index + 1, ymin = 0, ymax = 1.05, linestyles = '--', colors = 'red')\n",
        "    print('{} features required for {:.0f}% of cumulative importance'.format(importance_index + 1, 100*threshold))\n",
        "  return df"
      ],
      "metadata": {
        "id": "Tyet869QItxZ"
      },
      "execution_count": 59,
      "outputs": []
    },
    {
      "cell_type": "code",
      "source": [
        "#Plot feature importance using this function\n",
        "norm_june_fi = plot_feature_importances(june_fi)"
      ],
      "metadata": {
        "colab": {
          "base_uri": "https://localhost:8080/",
          "height": 524
        },
        "id": "HtNfFn78etbC",
        "outputId": "62b7760a-fd89-4115-e6b1-2b30a3e1fad5"
      },
      "execution_count": 60,
      "outputs": [
        {
          "output_type": "display_data",
          "data": {
            "text/plain": [
              "<Figure size 864x576 with 1 Axes>"
            ],
            "image/png": "[encoded data removed]"
          },
          "metadata": {
            "needs_background": "light"
          }
        }
      ]
    },
    {
      "cell_type": "markdown",
      "source": [
        "## **Comparison to Baseline**"
      ],
      "metadata": {
        "id": "LadSrXuMfT-q"
      }
    },
    {
      "cell_type": "markdown",
      "source": [
        "How is our model perfoming as compared to the baseline model (to the guesswork)?\n",
        "We will use the amount spent by the customer in the last to predict whether he will spend more than the threshold of 500 usd or not in the coming month."
      ],
      "metadata": {
        "id": "S6Sk2TGSgXE5"
      }
    },
    {
      "cell_type": "code",
      "source": [
        "labels.head()"
      ],
      "metadata": {
        "colab": {
          "base_uri": "https://localhost:8080/",
          "height": 206
        },
        "id": "TG6MFnuofIJn",
        "outputId": "0a8a36fd-82ec-4fa9-f45c-3323afba90a6"
      },
      "execution_count": 61,
      "outputs": [
        {
          "output_type": "execute_result",
          "data": {
            "text/plain": [
              "   CustomerID       time    total  label\n",
              "0     13313.0 2011-03-01    0.000      0\n",
              "1     18097.0 2011-03-01    0.000      0\n",
              "2     16656.0 2011-03-01  589.248      1\n",
              "3     16875.0 2011-03-01    0.000      0\n",
              "4     13094.0 2011-03-01  115.434      0"
            ],
            "text/html": [
              "\n",
              "  <div id=\"df-2a8a1f1a-fada-4ac6-8e4b-f38e44b8c0f4\">\n",
              "    <div class=\"colab-df-container\">\n",
              "      <div>\n",
              "<style scoped>\n",
              "    .dataframe tbody tr th:only-of-type {\n",
              "        vertical-align: middle;\n",
              "    }\n",
              "\n",
              "    .dataframe tbody tr th {\n",
              "        vertical-align: top;\n",
              "    }\n",
              "\n",
              "    .dataframe thead th {\n",
              "        text-align: right;\n",
              "    }\n",
              "</style>\n",
              "<table border=\"1\" class=\"dataframe\">\n",
              "  <thead>\n",
              "    <tr style=\"text-align: right;\">\n",
              "      <th></th>\n",
              "      <th>CustomerID</th>\n",
              "      <th>time</th>\n",
              "      <th>total</th>\n",
              "      <th>label</th>\n",
              "    </tr>\n",
              "  </thead>\n",
              "  <tbody>\n",
              "    <tr>\n",
              "      <th>0</th>\n",
              "      <td>13313.0</td>\n",
              "      <td>2011-03-01</td>\n",
              "      <td>0.000</td>\n",
              "      <td>0</td>\n",
              "    </tr>\n",
              "    <tr>\n",
              "      <th>1</th>\n",
              "      <td>18097.0</td>\n",
              "      <td>2011-03-01</td>\n",
              "      <td>0.000</td>\n",
              "      <td>0</td>\n",
              "    </tr>\n",
              "    <tr>\n",
              "      <th>2</th>\n",
              "      <td>16656.0</td>\n",
              "      <td>2011-03-01</td>\n",
              "      <td>589.248</td>\n",
              "      <td>1</td>\n",
              "    </tr>\n",
              "    <tr>\n",
              "      <th>3</th>\n",
              "      <td>16875.0</td>\n",
              "      <td>2011-03-01</td>\n",
              "      <td>0.000</td>\n",
              "      <td>0</td>\n",
              "    </tr>\n",
              "    <tr>\n",
              "      <th>4</th>\n",
              "      <td>13094.0</td>\n",
              "      <td>2011-03-01</td>\n",
              "      <td>115.434</td>\n",
              "      <td>0</td>\n",
              "    </tr>\n",
              "  </tbody>\n",
              "</table>\n",
              "</div>\n",
              "      <button class=\"colab-df-convert\" onclick=\"convertToInteractive('df-2a8a1f1a-fada-4ac6-8e4b-f38e44b8c0f4')\"\n",
              "              title=\"Convert this dataframe to an interactive table.\"\n",
              "              style=\"display:none;\">\n",
              "        \n",
              "  <svg xmlns=\"http://www.w3.org/2000/svg\" height=\"24px\"viewBox=\"0 0 24 24\"\n",
              "       width=\"24px\">\n",
              "    <path d=\"M0 0h24v24H0V0z\" fill=\"none\"/>\n",
              "    <path d=\"M18.56 5.44l.94 2.06.94-2.06 2.06-.94-2.06-.94-.94-2.06-.94 2.06-2.06.94zm-11 1L8.5 8.5l.94-2.06 2.06-.94-2.06-.94L8.5 2.5l-.94 2.06-2.06.94zm10 10l.94 2.06.94-2.06 2.06-.94-2.06-.94-.94-2.06-.94 2.06-2.06.94z\"/><path d=\"M17.41 7.96l-1.37-1.37c-.4-.4-.92-.59-1.43-.59-.52 0-1.04.2-1.43.59L10.3 9.45l-7.72 7.72c-.78.78-.78 2.05 0 2.83L4 21.41c.39.39.9.59 1.41.59.51 0 1.02-.2 1.41-.59l7.78-7.78 2.81-2.81c.8-.78.8-2.07 0-2.86zM5.41 20L4 18.59l7.72-7.72 1.47 1.35L5.41 20z\"/>\n",
              "  </svg>\n",
              "      </button>\n",
              "      \n",
              "  <style>\n",
              "    .colab-df-container {\n",
              "      display:flex;\n",
              "      flex-wrap:wrap;\n",
              "      gap: 12px;\n",
              "    }\n",
              "\n",
              "    .colab-df-convert {\n",
              "      background-color: #E8F0FE;\n",
              "      border: none;\n",
              "      border-radius: 50%;\n",
              "      cursor: pointer;\n",
              "      display: none;\n",
              "      fill: #1967D2;\n",
              "      height: 32px;\n",
              "      padding: 0 0 0 0;\n",
              "      width: 32px;\n",
              "    }\n",
              "\n",
              "    .colab-df-convert:hover {\n",
              "      background-color: #E2EBFA;\n",
              "      box-shadow: 0px 1px 2px rgba(60, 64, 67, 0.3), 0px 1px 3px 1px rgba(60, 64, 67, 0.15);\n",
              "      fill: #174EA6;\n",
              "    }\n",
              "\n",
              "    [theme=dark] .colab-df-convert {\n",
              "      background-color: #3B4455;\n",
              "      fill: #D2E3FC;\n",
              "    }\n",
              "\n",
              "    [theme=dark] .colab-df-convert:hover {\n",
              "      background-color: #434B5C;\n",
              "      box-shadow: 0px 1px 3px 1px rgba(0, 0, 0, 0.15);\n",
              "      filter: drop-shadow(0px 1px 2px rgba(0, 0, 0, 0.3));\n",
              "      fill: #FFFFFF;\n",
              "    }\n",
              "  </style>\n",
              "\n",
              "      <script>\n",
              "        const buttonEl =\n",
              "          document.querySelector('#df-2a8a1f1a-fada-4ac6-8e4b-f38e44b8c0f4 button.colab-df-convert');\n",
              "        buttonEl.style.display =\n",
              "          google.colab.kernel.accessAllowed ? 'block' : 'none';\n",
              "\n",
              "        async function convertToInteractive(key) {\n",
              "          const element = document.querySelector('#df-2a8a1f1a-fada-4ac6-8e4b-f38e44b8c0f4');\n",
              "          const dataTable =\n",
              "            await google.colab.kernel.invokeFunction('convertToInteractive',\n",
              "                                                     [key], {});\n",
              "          if (!dataTable) return;\n",
              "\n",
              "          const docLinkHtml = 'Like what you see? Visit the ' +\n",
              "            '<a target=\"_blank\" href=https://colab.research.google.com/notebooks/data_table.ipynb>data table notebook</a>'\n",
              "            + ' to learn more about interactive tables.';\n",
              "          element.innerHTML = '';\n",
              "          dataTable['output_type'] = 'display_data';\n",
              "          await google.colab.output.renderOutput(dataTable, element);\n",
              "          const docLink = document.createElement('div');\n",
              "          docLink.innerHTML = docLinkHtml;\n",
              "          element.appendChild(docLink);\n",
              "        }\n",
              "      </script>\n",
              "    </div>\n",
              "  </div>\n",
              "  "
            ]
          },
          "metadata": {},
          "execution_count": 61
        }
      ]
    },
    {
      "cell_type": "code",
      "source": [
        "#Try this with the month of July\n",
        "labels['month'] = labels['time'].dt.month\n",
        "july_labels = labels[labels['month'] == 7]\n",
        "june_labels = labels[labels['month'] == 6]\n",
        "\n",
        "july_labels = july_labels.rename(columns = {'total':'july_total'})\n",
        "june_labels = june_labels.rename(columns = {'total':'june_total'})\n",
        "\n",
        "#Merge the current month with the previous month\n",
        "july_labels = july_labels.merge(june_labels[['CustomerID', 'june_total']], on = 'CustomerID', how = 'left')\n",
        "july_labels['june_total'] = july_labels['june_total'].fillna(0)\n",
        "july_labels['predicted_label'] = (july_labels['june_total']> 500).astype(int)\n",
        "\n",
        "july_labels['probability'] = july_labels['june_total']/500\n",
        "\n",
        "#Set the probabilities that are greater than 1 to be equal to 1\n",
        "\n",
        "july_labels.loc[july_labels['probability'] > 1,'probability'] = 1\n",
        "\n",
        "july_labels.sample(10, random_state = 50)\n",
        "\n"
      ],
      "metadata": {
        "colab": {
          "base_uri": "https://localhost:8080/",
          "height": 363
        },
        "id": "Soyf5URDgp7y",
        "outputId": "0158297e-e547-4314-d4b6-53672dcd7512"
      },
      "execution_count": 67,
      "outputs": [
        {
          "output_type": "execute_result",
          "data": {
            "text/plain": [
              "      CustomerID       time  july_total  label  month  june_total  \\\n",
              "1647     14711.0 2011-07-01      0.0000      0      7    778.8165   \n",
              "627      14849.0 2011-07-01   1342.9185      1      7   1624.8210   \n",
              "2434     13213.0 2011-07-01      0.0000      0      7    221.2650   \n",
              "2236     15258.0 2011-07-01      0.0000      0      7    507.3750   \n",
              "1852     14747.0 2011-07-01      0.0000      0      7      0.0000   \n",
              "1547     13946.0 2011-07-01      0.0000      0      7      0.0000   \n",
              "241      13004.0 2011-07-01    508.9260      1      7   1121.6040   \n",
              "437      13982.0 2011-07-01      0.0000      0      7    520.8060   \n",
              "2043     14323.0 2011-07-01      0.0000      0      7    -29.2050   \n",
              "1972     17827.0 2011-07-01      0.0000      0      7      0.0000   \n",
              "\n",
              "      predicted_label  probability  \n",
              "1647                1      1.00000  \n",
              "627                 1      1.00000  \n",
              "2434                0      0.44253  \n",
              "2236                1      1.00000  \n",
              "1852                0      0.00000  \n",
              "1547                0      0.00000  \n",
              "241                 1      1.00000  \n",
              "437                 1      1.00000  \n",
              "2043                0     -0.05841  \n",
              "1972                0      0.00000  "
            ],
            "text/html": [
              "\n",
              "  <div id=\"df-cb93e830-e3ad-4fe6-883f-54c4f753b9ff\">\n",
              "    <div class=\"colab-df-container\">\n",
              "      <div>\n",
              "<style scoped>\n",
              "    .dataframe tbody tr th:only-of-type {\n",
              "        vertical-align: middle;\n",
              "    }\n",
              "\n",
              "    .dataframe tbody tr th {\n",
              "        vertical-align: top;\n",
              "    }\n",
              "\n",
              "    .dataframe thead th {\n",
              "        text-align: right;\n",
              "    }\n",
              "</style>\n",
              "<table border=\"1\" class=\"dataframe\">\n",
              "  <thead>\n",
              "    <tr style=\"text-align: right;\">\n",
              "      <th></th>\n",
              "      <th>CustomerID</th>\n",
              "      <th>time</th>\n",
              "      <th>july_total</th>\n",
              "      <th>label</th>\n",
              "      <th>month</th>\n",
              "      <th>june_total</th>\n",
              "      <th>predicted_label</th>\n",
              "      <th>probability</th>\n",
              "    </tr>\n",
              "  </thead>\n",
              "  <tbody>\n",
              "    <tr>\n",
              "      <th>1647</th>\n",
              "      <td>14711.0</td>\n",
              "      <td>2011-07-01</td>\n",
              "      <td>0.0000</td>\n",
              "      <td>0</td>\n",
              "      <td>7</td>\n",
              "      <td>778.8165</td>\n",
              "      <td>1</td>\n",
              "      <td>1.00000</td>\n",
              "    </tr>\n",
              "    <tr>\n",
              "      <th>627</th>\n",
              "      <td>14849.0</td>\n",
              "      <td>2011-07-01</td>\n",
              "      <td>1342.9185</td>\n",
              "      <td>1</td>\n",
              "      <td>7</td>\n",
              "      <td>1624.8210</td>\n",
              "      <td>1</td>\n",
              "      <td>1.00000</td>\n",
              "    </tr>\n",
              "    <tr>\n",
              "      <th>2434</th>\n",
              "      <td>13213.0</td>\n",
              "      <td>2011-07-01</td>\n",
              "      <td>0.0000</td>\n",
              "      <td>0</td>\n",
              "      <td>7</td>\n",
              "      <td>221.2650</td>\n",
              "      <td>0</td>\n",
              "      <td>0.44253</td>\n",
              "    </tr>\n",
              "    <tr>\n",
              "      <th>2236</th>\n",
              "      <td>15258.0</td>\n",
              "      <td>2011-07-01</td>\n",
              "      <td>0.0000</td>\n",
              "      <td>0</td>\n",
              "      <td>7</td>\n",
              "      <td>507.3750</td>\n",
              "      <td>1</td>\n",
              "      <td>1.00000</td>\n",
              "    </tr>\n",
              "    <tr>\n",
              "      <th>1852</th>\n",
              "      <td>14747.0</td>\n",
              "      <td>2011-07-01</td>\n",
              "      <td>0.0000</td>\n",
              "      <td>0</td>\n",
              "      <td>7</td>\n",
              "      <td>0.0000</td>\n",
              "      <td>0</td>\n",
              "      <td>0.00000</td>\n",
              "    </tr>\n",
              "    <tr>\n",
              "      <th>1547</th>\n",
              "      <td>13946.0</td>\n",
              "      <td>2011-07-01</td>\n",
              "      <td>0.0000</td>\n",
              "      <td>0</td>\n",
              "      <td>7</td>\n",
              "      <td>0.0000</td>\n",
              "      <td>0</td>\n",
              "      <td>0.00000</td>\n",
              "    </tr>\n",
              "    <tr>\n",
              "      <th>241</th>\n",
              "      <td>13004.0</td>\n",
              "      <td>2011-07-01</td>\n",
              "      <td>508.9260</td>\n",
              "      <td>1</td>\n",
              "      <td>7</td>\n",
              "      <td>1121.6040</td>\n",
              "      <td>1</td>\n",
              "      <td>1.00000</td>\n",
              "    </tr>\n",
              "    <tr>\n",
              "      <th>437</th>\n",
              "      <td>13982.0</td>\n",
              "      <td>2011-07-01</td>\n",
              "      <td>0.0000</td>\n",
              "      <td>0</td>\n",
              "      <td>7</td>\n",
              "      <td>520.8060</td>\n",
              "      <td>1</td>\n",
              "      <td>1.00000</td>\n",
              "    </tr>\n",
              "    <tr>\n",
              "      <th>2043</th>\n",
              "      <td>14323.0</td>\n",
              "      <td>2011-07-01</td>\n",
              "      <td>0.0000</td>\n",
              "      <td>0</td>\n",
              "      <td>7</td>\n",
              "      <td>-29.2050</td>\n",
              "      <td>0</td>\n",
              "      <td>-0.05841</td>\n",
              "    </tr>\n",
              "    <tr>\n",
              "      <th>1972</th>\n",
              "      <td>17827.0</td>\n",
              "      <td>2011-07-01</td>\n",
              "      <td>0.0000</td>\n",
              "      <td>0</td>\n",
              "      <td>7</td>\n",
              "      <td>0.0000</td>\n",
              "      <td>0</td>\n",
              "      <td>0.00000</td>\n",
              "    </tr>\n",
              "  </tbody>\n",
              "</table>\n",
              "</div>\n",
              "      <button class=\"colab-df-convert\" onclick=\"convertToInteractive('df-cb93e830-e3ad-4fe6-883f-54c4f753b9ff')\"\n",
              "              title=\"Convert this dataframe to an interactive table.\"\n",
              "              style=\"display:none;\">\n",
              "        \n",
              "  <svg xmlns=\"http://www.w3.org/2000/svg\" height=\"24px\"viewBox=\"0 0 24 24\"\n",
              "       width=\"24px\">\n",
              "    <path d=\"M0 0h24v24H0V0z\" fill=\"none\"/>\n",
              "    <path d=\"M18.56 5.44l.94 2.06.94-2.06 2.06-.94-2.06-.94-.94-2.06-.94 2.06-2.06.94zm-11 1L8.5 8.5l.94-2.06 2.06-.94-2.06-.94L8.5 2.5l-.94 2.06-2.06.94zm10 10l.94 2.06.94-2.06 2.06-.94-2.06-.94-.94-2.06-.94 2.06-2.06.94z\"/><path d=\"M17.41 7.96l-1.37-1.37c-.4-.4-.92-.59-1.43-.59-.52 0-1.04.2-1.43.59L10.3 9.45l-7.72 7.72c-.78.78-.78 2.05 0 2.83L4 21.41c.39.39.9.59 1.41.59.51 0 1.02-.2 1.41-.59l7.78-7.78 2.81-2.81c.8-.78.8-2.07 0-2.86zM5.41 20L4 18.59l7.72-7.72 1.47 1.35L5.41 20z\"/>\n",
              "  </svg>\n",
              "      </button>\n",
              "      \n",
              "  <style>\n",
              "    .colab-df-container {\n",
              "      display:flex;\n",
              "      flex-wrap:wrap;\n",
              "      gap: 12px;\n",
              "    }\n",
              "\n",
              "    .colab-df-convert {\n",
              "      background-color: #E8F0FE;\n",
              "      border: none;\n",
              "      border-radius: 50%;\n",
              "      cursor: pointer;\n",
              "      display: none;\n",
              "      fill: #1967D2;\n",
              "      height: 32px;\n",
              "      padding: 0 0 0 0;\n",
              "      width: 32px;\n",
              "    }\n",
              "\n",
              "    .colab-df-convert:hover {\n",
              "      background-color: #E2EBFA;\n",
              "      box-shadow: 0px 1px 2px rgba(60, 64, 67, 0.3), 0px 1px 3px 1px rgba(60, 64, 67, 0.15);\n",
              "      fill: #174EA6;\n",
              "    }\n",
              "\n",
              "    [theme=dark] .colab-df-convert {\n",
              "      background-color: #3B4455;\n",
              "      fill: #D2E3FC;\n",
              "    }\n",
              "\n",
              "    [theme=dark] .colab-df-convert:hover {\n",
              "      background-color: #434B5C;\n",
              "      box-shadow: 0px 1px 3px 1px rgba(0, 0, 0, 0.15);\n",
              "      filter: drop-shadow(0px 1px 2px rgba(0, 0, 0, 0.3));\n",
              "      fill: #FFFFFF;\n",
              "    }\n",
              "  </style>\n",
              "\n",
              "      <script>\n",
              "        const buttonEl =\n",
              "          document.querySelector('#df-cb93e830-e3ad-4fe6-883f-54c4f753b9ff button.colab-df-convert');\n",
              "        buttonEl.style.display =\n",
              "          google.colab.kernel.accessAllowed ? 'block' : 'none';\n",
              "\n",
              "        async function convertToInteractive(key) {\n",
              "          const element = document.querySelector('#df-cb93e830-e3ad-4fe6-883f-54c4f753b9ff');\n",
              "          const dataTable =\n",
              "            await google.colab.kernel.invokeFunction('convertToInteractive',\n",
              "                                                     [key], {});\n",
              "          if (!dataTable) return;\n",
              "\n",
              "          const docLinkHtml = 'Like what you see? Visit the ' +\n",
              "            '<a target=\"_blank\" href=https://colab.research.google.com/notebooks/data_table.ipynb>data table notebook</a>'\n",
              "            + ' to learn more about interactive tables.';\n",
              "          element.innerHTML = '';\n",
              "          dataTable['output_type'] = 'display_data';\n",
              "          await google.colab.output.renderOutput(dataTable, element);\n",
              "          const docLink = document.createElement('div');\n",
              "          docLink.innerHTML = docLinkHtml;\n",
              "          element.appendChild(docLink);\n",
              "        }\n",
              "      </script>\n",
              "    </div>\n",
              "  </div>\n",
              "  "
            ]
          },
          "metadata": {},
          "execution_count": 67
        }
      ]
    },
    {
      "cell_type": "code",
      "source": [
        "#Test correlation between spending in last month and current month\n",
        "july_labels['july_total'].corr(july_labels['june_total'])"
      ],
      "metadata": {
        "colab": {
          "base_uri": "https://localhost:8080/"
        },
        "id": "Z4KbckPFjW3f",
        "outputId": "a1ec528c-4bf0-4855-c059-e25ea96478fe"
      },
      "execution_count": 68,
      "outputs": [
        {
          "output_type": "execute_result",
          "data": {
            "text/plain": [
              "0.6212795006643788"
            ]
          },
          "metadata": {},
          "execution_count": 68
        }
      ]
    },
    {
      "cell_type": "markdown",
      "source": [
        "There is moderate correlation between spending form one month to the next"
      ],
      "metadata": {
        "id": "X8UC6KpHj8zf"
      }
    },
    {
      "cell_type": "code",
      "source": [
        "sns.lmplot('june_total', 'july_total', data = july_labels, fit_reg = False)\n",
        "plt.title('July vs June Spending')"
      ],
      "metadata": {
        "colab": {
          "base_uri": "https://localhost:8080/",
          "height": 403
        },
        "id": "Fy6S7eupj7UV",
        "outputId": "2985941e-f493-4b96-d5ed-67d1ddef0cab"
      },
      "execution_count": 69,
      "outputs": [
        {
          "output_type": "execute_result",
          "data": {
            "text/plain": [
              "Text(0.5, 1.0, 'July vs June Spending')"
            ]
          },
          "metadata": {},
          "execution_count": 69
        },
        {
          "output_type": "display_data",
          "data": {
            "text/plain": [
              "<Figure size 360x360 with 1 Axes>"
            ],
            "image/png": "[encoded data removed]"
          },
          "metadata": {
            "needs_background": "light"
          }
        }
      ]
    },
    {
      "cell_type": "code",
      "source": [
        "print('Precision:{:.5f}.'.format(precision_score(july_labels['label'],july_labels['predicted_label'])))\n",
        "print('Recall:{:.5f}.'.format(recall_score(july_labels['label'],july_labels['predicted_label'])))\n",
        "print('F1 Score:{:.5f}.'.format(f1_score(july_labels['label'],july_labels['predicted_label'])))\n",
        "print('ROC AUC Score:{:.5f}.'.format(roc_auc_score(july_labels['label'],july_labels['probability'])))"
      ],
      "metadata": {
        "colab": {
          "base_uri": "https://localhost:8080/"
        },
        "id": "lz0Twdsmke_B",
        "outputId": "69fb5c9f-e9a1-4411-fa15-8210ed5ded6d"
      },
      "execution_count": 70,
      "outputs": [
        {
          "output_type": "stream",
          "name": "stdout",
          "text": [
            "Precision:0.41784.\n",
            "Recall:0.39644.\n",
            "F1 Score:0.40686.\n",
            "ROC AUC Score:0.64355.\n"
          ]
        }
      ]
    },
    {
      "cell_type": "markdown",
      "source": [
        "We can now compare this perfomance to that from the model"
      ],
      "metadata": {
        "id": "4y9IIQEWlOLa"
      }
    },
    {
      "cell_type": "code",
      "source": [
        "july_fi, july_probs = predict_month(7, feature_matrix, True)"
      ],
      "metadata": {
        "colab": {
          "base_uri": "https://localhost:8080/"
        },
        "id": "kXq8wxrVlLSy",
        "outputId": "727e7dc4-785c-4347-fd73-87ade2fb8aab"
      },
      "execution_count": 71,
      "outputs": [
        {
          "output_type": "stream",
          "name": "stdout",
          "text": [
            "Training on 7755 observations\n",
            "Testing on 2752 observations.\n",
            "\n",
            "Precision: 0.53191\n",
            "Recall: 0.33408\n",
            "F1 Score: 0.4104\n",
            "ROC AUC: 0.75889\n"
          ]
        }
      ]
    },
    {
      "cell_type": "markdown",
      "source": [
        "For a classifier, the most important parameter is the ROC AUC. To ensure our model is outperfoming the baseline, we can plt the ROC curves for the two outputs"
      ],
      "metadata": {
        "id": "RbvJW8oblzIi"
      }
    },
    {
      "cell_type": "code",
      "source": [
        "#Calculate false positive rates and true positive rates\n",
        "base_fpr, base_tpr, _ = roc_curve(july_labels['label'], july_labels['probability'])\n",
        "model_fpr, model_tpr, _ = roc_curve(feature_matrix[feature_matrix['month'] == 7]['label'],july_probs)\n",
        "\n",
        "plt.figure(figsize=(8,6))\n",
        "plt.rcParams['font.size'] = 16\n",
        "\n",
        "#Plot both curves\n",
        "plt.plot(base_fpr, base_tpr, 'b', label = 'baseline')\n",
        "plt.plot(model_fpr, model_tpr, 'r', label = 'model')\n",
        "plt.legend()\n",
        "plt.xlabel('False Positive Rate')\n",
        "plt.ylabel('True Positive Rate')\n",
        "plt.title('ROC Curves')\n"
      ],
      "metadata": {
        "colab": {
          "base_uri": "https://localhost:8080/",
          "height": 441
        },
        "id": "TcLDaeS_lh0b",
        "outputId": "3d873cae-d759-4435-ceaf-a1d44f344c7d"
      },
      "execution_count": 72,
      "outputs": [
        {
          "output_type": "execute_result",
          "data": {
            "text/plain": [
              "Text(0.5, 1.0, 'ROC Curves')"
            ]
          },
          "metadata": {},
          "execution_count": 72
        },
        {
          "output_type": "display_data",
          "data": {
            "text/plain": [
              "<Figure size 576x432 with 1 Axes>"
            ],
            "image/png": "[encoded data removed]"
          },
          "metadata": {
            "needs_background": "light"
          }
        }
      ]
    },
    {
      "cell_type": "markdown",
      "source": [
        "- Based on this curves output, we can confirm that our machine learning model yield a better predicition than our baseline model."
      ],
      "metadata": {
        "id": "BHm-eJKMpu20"
      }
    },
    {
      "cell_type": "code",
      "source": [
        "def informed_baseline(month_number, threshold = 500):\n",
        "    \"\"\"Calculate an informed baseline for a given month. \n",
        "    The informed baseline is guessing the previous month's spending\n",
        "    for the next month. The probability is assessed by dividing\n",
        "    the previous month's total by the threshold and setting\n",
        "    any values greater than 1 to 1.\"\"\"\n",
        "    \n",
        "    # Subset to the months\n",
        "    month = labels[labels['month'] == month_number]\n",
        "    previous_month = labels[labels['month'] == (month_number - 1)]\n",
        "    previous_month = previous_month.rename(columns = {'total': 'previous_total'})\n",
        "\n",
        "    # Merge the current month with the previous month\n",
        "    month = month.merge(previous_month[['CustomerID', 'previous_total']], on = 'CustomerID', how = 'left')\n",
        "    \n",
        "    # For customers who had no spending in the previous month, set their spending to 0\n",
        "    month['previous_total'] = month['previous_total'].fillna(0)\n",
        "    \n",
        "    # Calculate a probability based on the previous months spending and the threshold\n",
        "    month['probability'] = month['previous_total'] / threshold\n",
        "    \n",
        "    # Set probabilities greater than 1 equal to 1\n",
        "    month.loc[month['probability'] > 1, 'probability'] = 1\n",
        "    \n",
        "    # Make the predicted label\n",
        "    month['prediction'] = (month['previous_total'] > threshold).astype(int)\n",
        "    \n",
        "    # Calculate metrics\n",
        "    print('Precision: {:.5f}.'.format(precision_score(month['label'], month['prediction'])))\n",
        "    print('Recall: {:.5f}.'.format(recall_score(month['label'], month['prediction'])))\n",
        "    print('F1 Score: {:.5f}.'.format(f1_score(month['label'], month['prediction'])))\n",
        "    print('ROC AUC Score: {:.5f}.'.format(roc_auc_score(month['label'], month['probability'])))\n",
        "    \n",
        "    return month"
      ],
      "metadata": {
        "id": "rm2noxeupmzJ"
      },
      "execution_count": 80,
      "outputs": []
    },
    {
      "cell_type": "code",
      "source": [
        "#Compare a machine learning model trained on a set of features to the informaed baseline\n",
        "\n",
        "def compare(month, feature_matrix):\n",
        "  print('Baseline Perfomance')\n",
        "  baseline = informed_baseline(month)\n",
        "\n",
        "  print('\\nModel Perfomance')\n",
        "  fi, probs = predict_month(month, feature_matrix, return_probs= True)\n",
        "\n",
        "  #Calculate false postive rates and true positive rates\n",
        "  base_fpr, base_tpr, _ = roc_curve(baseline['label'], baseline['probability'])\n",
        "  model_fpr, model_tpr, _ = roc_curve(feature_matrix[feature_matrix['month'] == month]['label'],probs)\n",
        "\n",
        "  plt.figure(figsize=(8,6))\n",
        "  plt.rcParams['font.size'] = 16\n",
        "\n",
        "  #Plot both curves\n",
        "  plt.plot(base_fpr, base_tpr, 'b', label = 'baseline')\n",
        "  plt.plot(model_fpr, model_tpr, 'r', label = 'model')\n",
        "  plt.legend()\n",
        "  plt.xlabel('False Positive Rate')\n",
        "  plt.ylabel('True Positive Rate')\n",
        "  plt.title('ROC Curves')"
      ],
      "metadata": {
        "id": "aLsvG6lGtFZ5"
      },
      "execution_count": 81,
      "outputs": []
    },
    {
      "cell_type": "code",
      "source": [
        "compare(6, feature_matrix)"
      ],
      "metadata": {
        "colab": {
          "base_uri": "https://localhost:8080/",
          "height": 678
        },
        "id": "2jbn7FifucPP",
        "outputId": "12b4dd51-c479-4bc9-c9b3-62efe42c8613"
      },
      "execution_count": 82,
      "outputs": [
        {
          "output_type": "stream",
          "name": "stdout",
          "text": [
            "Baseline Perfomance\n",
            "Precision: 0.41201.\n",
            "Recall: 0.46714.\n",
            "F1 Score: 0.43784.\n",
            "ROC AUC Score: 0.67322.\n",
            "\n",
            "Model Perfomance\n",
            "Training on 5266 observations\n",
            "Testing on 2489 observations.\n",
            "\n",
            "Precision: 0.55519\n",
            "Recall: 0.40141\n",
            "F1 Score: 0.46594\n",
            "ROC AUC: 0.7488\n"
          ]
        },
        {
          "output_type": "display_data",
          "data": {
            "text/plain": [
              "<Figure size 576x432 with 1 Axes>"
            ],
            "image/png": "[encoded data removed]"
          },
          "metadata": {
            "needs_background": "light"
          }
        }
      ]
    },
    {
      "cell_type": "markdown",
      "source": [
        "We can now test for December, where we expect the best results because the model has trained on the most data"
      ],
      "metadata": {
        "id": "K0ubxyprw5Cl"
      }
    },
    {
      "cell_type": "code",
      "source": [
        "compare(12, feature_matrix)"
      ],
      "metadata": {
        "colab": {
          "base_uri": "https://localhost:8080/",
          "height": 678
        },
        "id": "PECrII-5ugaf",
        "outputId": "55c7acbd-df13-42c4-dd4f-46c8d327631f"
      },
      "execution_count": 83,
      "outputs": [
        {
          "output_type": "stream",
          "name": "stdout",
          "text": [
            "Baseline Perfomance\n",
            "Precision: 0.21606.\n",
            "Recall: 0.57547.\n",
            "F1 Score: 0.31416.\n",
            "ROC AUC Score: 0.69498.\n",
            "\n",
            "Model Perfomance\n",
            "Training on 23936 observations\n",
            "Testing on 4197 observations.\n",
            "\n",
            "Precision: 0.30977\n",
            "Recall: 0.46855\n",
            "F1 Score: 0.37297\n",
            "ROC AUC: 0.79344\n"
          ]
        },
        {
          "output_type": "display_data",
          "data": {
            "text/plain": [
              "<Figure size 576x432 with 1 Axes>"
            ],
            "image/png": "[encoded data removed]"
          },
          "metadata": {
            "needs_background": "light"
          }
        }
      ]
    },
    {
      "cell_type": "markdown",
      "source": [
        "- We get a slightly better ROC. Probably because of inconsistency in the data caused by seasonality in consumer behaviour."
      ],
      "metadata": {
        "id": "XWC8mb0mxefr"
      }
    },
    {
      "cell_type": "markdown",
      "source": [
        "## **Precision Recall Curve**"
      ],
      "metadata": {
        "id": "fP-seEhExTij"
      }
    },
    {
      "cell_type": "markdown",
      "source": [
        "- Our model was running on a default threshold of 0.5.\n",
        "- We can use the precision recall curve to identify the ideal threshold for our model. This is beacuase we may care more for accuracy than precision and vice versa."
      ],
      "metadata": {
        "id": "r0g0CZDsyAUM"
      }
    },
    {
      "cell_type": "code",
      "source": [
        "def precision_recall(month, feature_matrix):\n",
        "  'Show the precision vs recall curve for a month'\n",
        "\n",
        "  #Find the probability\n",
        "  fi, probs = predict_month(month, feature_matrix, return_probs = True)\n",
        "\n",
        "  #Calculate metrics across thresholds\n",
        "  precision, recall,t = precision_recall_curve(labels.loc[labels['time'].dt.month == month, 'label'], probs)\n",
        "\n",
        "  #Plot the curve\n",
        "  plt.step(recall, precision, color = 'b', alpha = 0.5, where ='post')\n",
        "\n",
        "  #Fill in the curve\n",
        "  plt.fill_between(recall, precision, step = 'post', alpha = 0.5, color = 'b')\n",
        "\n",
        "  plt.xlabel('Recall')\n",
        "  plt.ylabel('Precision')\n",
        "  plt.ylim([0.0, 1.05])\n",
        "  plt.xlim([0.0, 1.05])\n",
        "  plt.title('Precision vs. Recall Curve')\n",
        "  plt.show()\n"
      ],
      "metadata": {
        "id": "3UV-sKjOxGSi"
      },
      "execution_count": 88,
      "outputs": []
    },
    {
      "cell_type": "code",
      "source": [
        "precision_recall(12, feature_matrix)"
      ],
      "metadata": {
        "colab": {
          "base_uri": "https://localhost:8080/",
          "height": 441
        },
        "id": "-x5n63wj0nrc",
        "outputId": "87e8aecb-32d3-46fd-b83e-51eacc629c61"
      },
      "execution_count": 89,
      "outputs": [
        {
          "output_type": "stream",
          "name": "stdout",
          "text": [
            "Training on 23936 observations\n",
            "Testing on 4197 observations.\n",
            "\n",
            "Precision: 0.30977\n",
            "Recall: 0.46855\n",
            "F1 Score: 0.37297\n",
            "ROC AUC: 0.79344\n"
          ]
        },
        {
          "output_type": "display_data",
          "data": {
            "text/plain": [
              "<Figure size 432x288 with 1 Axes>"
            ],
            "image/png": "[encoded data removed]"
          },
          "metadata": {
            "needs_background": "light"
          }
        }
      ]
    },
    {
      "cell_type": "code",
      "source": [
        "precision_recall(10, feature_matrix)"
      ],
      "metadata": {
        "colab": {
          "base_uri": "https://localhost:8080/",
          "height": 441
        },
        "id": "8bx3OgZp0tko",
        "outputId": "b48b0b5e-5feb-495b-91b1-b67bfba905a2"
      },
      "execution_count": 90,
      "outputs": [
        {
          "output_type": "stream",
          "name": "stdout",
          "text": [
            "Training on 16631 observations\n",
            "Testing on 3467 observations.\n",
            "\n",
            "Precision: 0.50833\n",
            "Recall: 0.29048\n",
            "F1 Score: 0.3697\n",
            "ROC AUC: 0.72216\n"
          ]
        },
        {
          "output_type": "display_data",
          "data": {
            "text/plain": [
              "<Figure size 432x288 with 1 Axes>"
            ],
            "image/png": "[encoded data removed]"
          },
          "metadata": {
            "needs_background": "light"
          }
        }
      ]
    },
    {
      "cell_type": "code",
      "source": [
        "%%capture\n",
        "\n",
        "#Record probabilities for each month\n",
        "for month in range(4,13):\n",
        "  _, probs = predict_month(month, feature_matrix, return_probs = True)\n",
        "  temp_df = pd.DataFrame({'Automated':probs, 'month':month})\n",
        "\n",
        "  if month == 4:\n",
        "    probs_df = temp_df.copy()\n",
        "\n",
        "  else:\n",
        "    probs_df = probs_df.append(temp_df)"
      ],
      "metadata": {
        "id": "FomncAtv1R8I"
      },
      "execution_count": 91,
      "outputs": []
    },
    {
      "cell_type": "code",
      "source": [
        "probs_df.head()"
      ],
      "metadata": {
        "colab": {
          "base_uri": "https://localhost:8080/",
          "height": 206
        },
        "id": "2r0INyFu2QYM",
        "outputId": "7fdc46ee-d542-4da8-8a0b-61356b88d009"
      },
      "execution_count": 92,
      "outputs": [
        {
          "output_type": "execute_result",
          "data": {
            "text/plain": [
              "   Automated  month\n",
              "0      0.029      4\n",
              "1      0.104      4\n",
              "2      0.943      4\n",
              "3      0.184      4\n",
              "4      0.297      4"
            ],
            "text/html": [
              "\n",
              "  <div id=\"df-fc56453a-654c-474d-b624-f0bdc4aff52f\">\n",
              "    <div class=\"colab-df-container\">\n",
              "      <div>\n",
              "<style scoped>\n",
              "    .dataframe tbody tr th:only-of-type {\n",
              "        vertical-align: middle;\n",
              "    }\n",
              "\n",
              "    .dataframe tbody tr th {\n",
              "        vertical-align: top;\n",
              "    }\n",
              "\n",
              "    .dataframe thead th {\n",
              "        text-align: right;\n",
              "    }\n",
              "</style>\n",
              "<table border=\"1\" class=\"dataframe\">\n",
              "  <thead>\n",
              "    <tr style=\"text-align: right;\">\n",
              "      <th></th>\n",
              "      <th>Automated</th>\n",
              "      <th>month</th>\n",
              "    </tr>\n",
              "  </thead>\n",
              "  <tbody>\n",
              "    <tr>\n",
              "      <th>0</th>\n",
              "      <td>0.029</td>\n",
              "      <td>4</td>\n",
              "    </tr>\n",
              "    <tr>\n",
              "      <th>1</th>\n",
              "      <td>0.104</td>\n",
              "      <td>4</td>\n",
              "    </tr>\n",
              "    <tr>\n",
              "      <th>2</th>\n",
              "      <td>0.943</td>\n",
              "      <td>4</td>\n",
              "    </tr>\n",
              "    <tr>\n",
              "      <th>3</th>\n",
              "      <td>0.184</td>\n",
              "      <td>4</td>\n",
              "    </tr>\n",
              "    <tr>\n",
              "      <th>4</th>\n",
              "      <td>0.297</td>\n",
              "      <td>4</td>\n",
              "    </tr>\n",
              "  </tbody>\n",
              "</table>\n",
              "</div>\n",
              "      <button class=\"colab-df-convert\" onclick=\"convertToInteractive('df-fc56453a-654c-474d-b624-f0bdc4aff52f')\"\n",
              "              title=\"Convert this dataframe to an interactive table.\"\n",
              "              style=\"display:none;\">\n",
              "        \n",
              "  <svg xmlns=\"http://www.w3.org/2000/svg\" height=\"24px\"viewBox=\"0 0 24 24\"\n",
              "       width=\"24px\">\n",
              "    <path d=\"M0 0h24v24H0V0z\" fill=\"none\"/>\n",
              "    <path d=\"M18.56 5.44l.94 2.06.94-2.06 2.06-.94-2.06-.94-.94-2.06-.94 2.06-2.06.94zm-11 1L8.5 8.5l.94-2.06 2.06-.94-2.06-.94L8.5 2.5l-.94 2.06-2.06.94zm10 10l.94 2.06.94-2.06 2.06-.94-2.06-.94-.94-2.06-.94 2.06-2.06.94z\"/><path d=\"M17.41 7.96l-1.37-1.37c-.4-.4-.92-.59-1.43-.59-.52 0-1.04.2-1.43.59L10.3 9.45l-7.72 7.72c-.78.78-.78 2.05 0 2.83L4 21.41c.39.39.9.59 1.41.59.51 0 1.02-.2 1.41-.59l7.78-7.78 2.81-2.81c.8-.78.8-2.07 0-2.86zM5.41 20L4 18.59l7.72-7.72 1.47 1.35L5.41 20z\"/>\n",
              "  </svg>\n",
              "      </button>\n",
              "      \n",
              "  <style>\n",
              "    .colab-df-container {\n",
              "      display:flex;\n",
              "      flex-wrap:wrap;\n",
              "      gap: 12px;\n",
              "    }\n",
              "\n",
              "    .colab-df-convert {\n",
              "      background-color: #E8F0FE;\n",
              "      border: none;\n",
              "      border-radius: 50%;\n",
              "      cursor: pointer;\n",
              "      display: none;\n",
              "      fill: #1967D2;\n",
              "      height: 32px;\n",
              "      padding: 0 0 0 0;\n",
              "      width: 32px;\n",
              "    }\n",
              "\n",
              "    .colab-df-convert:hover {\n",
              "      background-color: #E2EBFA;\n",
              "      box-shadow: 0px 1px 2px rgba(60, 64, 67, 0.3), 0px 1px 3px 1px rgba(60, 64, 67, 0.15);\n",
              "      fill: #174EA6;\n",
              "    }\n",
              "\n",
              "    [theme=dark] .colab-df-convert {\n",
              "      background-color: #3B4455;\n",
              "      fill: #D2E3FC;\n",
              "    }\n",
              "\n",
              "    [theme=dark] .colab-df-convert:hover {\n",
              "      background-color: #434B5C;\n",
              "      box-shadow: 0px 1px 3px 1px rgba(0, 0, 0, 0.15);\n",
              "      filter: drop-shadow(0px 1px 2px rgba(0, 0, 0, 0.3));\n",
              "      fill: #FFFFFF;\n",
              "    }\n",
              "  </style>\n",
              "\n",
              "      <script>\n",
              "        const buttonEl =\n",
              "          document.querySelector('#df-fc56453a-654c-474d-b624-f0bdc4aff52f button.colab-df-convert');\n",
              "        buttonEl.style.display =\n",
              "          google.colab.kernel.accessAllowed ? 'block' : 'none';\n",
              "\n",
              "        async function convertToInteractive(key) {\n",
              "          const element = document.querySelector('#df-fc56453a-654c-474d-b624-f0bdc4aff52f');\n",
              "          const dataTable =\n",
              "            await google.colab.kernel.invokeFunction('convertToInteractive',\n",
              "                                                     [key], {});\n",
              "          if (!dataTable) return;\n",
              "\n",
              "          const docLinkHtml = 'Like what you see? Visit the ' +\n",
              "            '<a target=\"_blank\" href=https://colab.research.google.com/notebooks/data_table.ipynb>data table notebook</a>'\n",
              "            + ' to learn more about interactive tables.';\n",
              "          element.innerHTML = '';\n",
              "          dataTable['output_type'] = 'display_data';\n",
              "          await google.colab.output.renderOutput(dataTable, element);\n",
              "          const docLink = document.createElement('div');\n",
              "          docLink.innerHTML = docLinkHtml;\n",
              "          element.appendChild(docLink);\n",
              "        }\n",
              "      </script>\n",
              "    </div>\n",
              "  </div>\n",
              "  "
            ]
          },
          "metadata": {},
          "execution_count": 92
        }
      ]
    },
    {
      "cell_type": "code",
      "source": [
        "probs_df.shape"
      ],
      "metadata": {
        "colab": {
          "base_uri": "https://localhost:8080/"
        },
        "id": "C4LumFcH2Wvm",
        "outputId": "56076ea8-07d1-46e8-a488-30c078b1c3f1"
      },
      "execution_count": 93,
      "outputs": [
        {
          "output_type": "execute_result",
          "data": {
            "text/plain": [
              "(26851, 2)"
            ]
          },
          "metadata": {},
          "execution_count": 93
        }
      ]
    },
    {
      "cell_type": "code",
      "source": [
        "probs_df['month'].unique()"
      ],
      "metadata": {
        "colab": {
          "base_uri": "https://localhost:8080/"
        },
        "id": "aBUoQXaC2Yvv",
        "outputId": "2eb555cf-51a7-46cf-a087-2f5cfdbe86d6"
      },
      "execution_count": 94,
      "outputs": [
        {
          "output_type": "execute_result",
          "data": {
            "text/plain": [
              "array([ 4,  5,  6,  7,  8,  9, 10, 11, 12])"
            ]
          },
          "metadata": {},
          "execution_count": 94
        }
      ]
    },
    {
      "cell_type": "markdown",
      "source": [
        "## **Conclusions**"
      ],
      "metadata": {
        "id": "gEC3VgCM2dSJ"
      }
    },
    {
      "cell_type": "markdown",
      "source": [
        "- Feature tools automated feature engineering in an ML pipeline results in better prediction of future customer behavior than an informed baseline model.\n",
        "- Feature tools helps to handle the issue of filtering data in a time series problem."
      ],
      "metadata": {
        "id": "ct4aipld3nK9"
      }
    },
    {
      "cell_type": "code",
      "source": [],
      "metadata": {
        "id": "nSVAh4fe4MuZ"
      },
      "execution_count": null,
      "outputs": []
    }
  ]
}