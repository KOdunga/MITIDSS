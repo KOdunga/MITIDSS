{
  "nbformat": 4,
  "nbformat_minor": 0,
  "metadata": {
    "colab": {
      "provenance": [],
      "collapsed_sections": [],
      "authorship_tag": "ABX9TyM4ZA2hxtMP6Qn3i1smsHuC",
      "include_colab_link": true
    },
    "kernelspec": {
      "name": "python3",
      "display_name": "Python 3"
    },
    "language_info": {
      "name": "python"
    }
  },
  "cells": [
    {
      "cell_type": "markdown",
      "metadata": {
        "id": "view-in-github",
        "colab_type": "text"
      },
      "source": [
        "<a href=\"https://colab.research.google.com/github/KOdunga/MITIDSS/blob/main/streetviewhousingnumber.ipynb\" target=\"_parent\"><img src=\"https://colab.research.google.com/assets/colab-badge.svg\" alt=\"Open In Colab\"/></a>"
      ]
    },
    {
      "cell_type": "markdown",
      "source": [
        "## Street View Housing Number Digit Recognition"
      ],
      "metadata": {
        "id": "Ro8jXy_TJ7MM"
      }
    },
    {
      "cell_type": "markdown",
      "source": [
        "**Objective:** To build a feed forward neural network that can recognize the digits in a street view image"
      ],
      "metadata": {
        "id": "sVV4iLmfKGaM"
      }
    },
    {
      "cell_type": "code",
      "source": [
        "from google.colab import drive\n",
        "drive.mount('/content/drive')"
      ],
      "metadata": {
        "id": "J0fS9D9NRVe6",
        "colab": {
          "base_uri": "https://localhost:8080/"
        },
        "outputId": "61cf5e2f-b131-4404-940a-37c5dfa904bc"
      },
      "execution_count": 1,
      "outputs": [
        {
          "output_type": "stream",
          "name": "stdout",
          "text": [
            "Mounted at /content/drive\n"
          ]
        }
      ]
    },
    {
      "cell_type": "code",
      "execution_count": 2,
      "metadata": {
        "id": "FHm0pCk5Jx-9"
      },
      "outputs": [],
      "source": [
        "import pandas as pd\n",
        "import numpy as np\n",
        "import matplotlib.pyplot as plt\n",
        "import seaborn as sns\n",
        "\n",
        "from sklearn.model_selection import train_test_split\n",
        "from sklearn.preprocessing import MinMaxScaler\n",
        "\n",
        "import tensorflow as tf\n",
        "from tensorflow.keras.models import Sequential\n",
        "from tensorflow.keras.layers import Dense,Activation, Dropout, BatchNormalization\n",
        "from tensorflow.keras.utils import to_categorical"
      ]
    },
    {
      "cell_type": "code",
      "source": [
        "#Check the version of the tensor flow\n",
        "print(tf.__version__)"
      ],
      "metadata": {
        "id": "YfXW2PD6gYtx",
        "colab": {
          "base_uri": "https://localhost:8080/"
        },
        "outputId": "89fd2a26-5eee-42ff-94cd-5d2487c116e8"
      },
      "execution_count": 3,
      "outputs": [
        {
          "output_type": "stream",
          "name": "stdout",
          "text": [
            "2.8.2\n"
          ]
        }
      ]
    },
    {
      "cell_type": "code",
      "source": [
        "#Load and Split the dataset\n",
        "import h5py\n",
        "#Open the file as read only\n",
        "h5f = h5py.File('/content/drive/MyDrive/DSML/SVHN_single_grey1.h5','r')\n",
        "\n",
        "#Load the training and the test set\n",
        "X_train = h5f['X_train'][:]\n",
        "y_train = h5f['y_train'][:]\n",
        "X_test = h5f['X_test'][:]\n",
        "y_test = h5f['y_test'][:]\n",
        "\n",
        "#Close the file\n",
        "h5f.close()\n"
      ],
      "metadata": {
        "id": "evQQr5ilt9UT"
      },
      "execution_count": 4,
      "outputs": []
    },
    {
      "cell_type": "code",
      "source": [
        "#Check the number of images in the training and the testing dataset\n",
        "len(X_train), len(X_test)"
      ],
      "metadata": {
        "colab": {
          "base_uri": "https://localhost:8080/"
        },
        "id": "2PSkLJfZvRcC",
        "outputId": "234f0807-6a29-4d1c-c5ed-a45d4f5714f0"
      },
      "execution_count": 5,
      "outputs": [
        {
          "output_type": "execute_result",
          "data": {
            "text/plain": [
              "(42000, 18000)"
            ]
          },
          "metadata": {},
          "execution_count": 5
        }
      ]
    },
    {
      "cell_type": "markdown",
      "source": [
        "- There are 42,000 images in the training set and 18,000 images in the testing set"
      ],
      "metadata": {
        "id": "2oUj1t70vdFz"
      }
    },
    {
      "cell_type": "markdown",
      "source": [
        "##Visualizing Images"
      ],
      "metadata": {
        "id": "MO50511OvqhT"
      }
    },
    {
      "cell_type": "markdown",
      "source": [
        "Use Xtrain to visualize the first 10 images and Ytrain to visualize the first 10 labels"
      ],
      "metadata": {
        "id": "mdmKnv_lvu9U"
      }
    },
    {
      "cell_type": "code",
      "source": [
        "plt.figure(figsize=(10,1))\n",
        "\n",
        "for i in range(10):\n",
        "  plt.subplot(1,10,i+1)\n",
        "  plt.imshow(X_train[i], cmap='gray')\n",
        "  plt.axis('off')\n",
        "plt.show()\n",
        "print('label for each of the above image: %s' %(y_train[0:10]))"
      ],
      "metadata": {
        "colab": {
          "base_uri": "https://localhost:8080/",
          "height": 95
        },
        "id": "JWcHpN6_vaf8",
        "outputId": "044deb84-1330-4235-f23b-e1ac992cf02d"
      },
      "execution_count": 6,
      "outputs": [
        {
          "output_type": "display_data",
          "data": {
            "text/plain": [
              "<Figure size 720x72 with 10 Axes>"
            ],
            "image/png": "[encoded data removed]"
          },
          "metadata": {
            "needs_background": "light"
          }
        },
        {
          "output_type": "stream",
          "name": "stdout",
          "text": [
            "label for each of the above image: [2 6 7 4 4 0 3 0 7 3]\n"
          ]
        }
      ]
    },
    {
      "cell_type": "markdown",
      "source": [
        "### Data Preparation"
      ],
      "metadata": {
        "id": "VfwSZHl4xUKT"
      }
    },
    {
      "cell_type": "markdown",
      "source": [
        "- Print the shape and the array of pixels for the first image in the training dataset\n",
        "- Reshape the train and test data set because we always have to give 4D array as input to CNNs\n",
        "- Normalize the train and the test dataset by dividing by 255\n",
        "- Print the new shapes of the train and the test dataset\n",
        "- One hot encode the target variable"
      ],
      "metadata": {
        "id": "cNOXp7GdxecZ"
      }
    },
    {
      "cell_type": "code",
      "source": [
        "print('Shape: ', X_train[0].shape)\n",
        "print()\n",
        "print('First image:\\n', X_train[0])"
      ],
      "metadata": {
        "colab": {
          "base_uri": "https://localhost:8080/"
        },
        "id": "gx9kcBEVxNdy",
        "outputId": "4cc28882-03a6-40d8-cc7a-06775fffd7cd"
      },
      "execution_count": 7,
      "outputs": [
        {
          "output_type": "stream",
          "name": "stdout",
          "text": [
            "Shape:  (32, 32)\n",
            "\n",
            "First image:\n",
            " [[ 33.0704  30.2601  26.852  ...  71.4471  58.2204  42.9939]\n",
            " [ 25.2283  25.5533  29.9765 ... 113.0209 103.3639  84.2949]\n",
            " [ 26.2775  22.6137  40.4763 ... 113.3028 121.775  115.4228]\n",
            " ...\n",
            " [ 28.5502  36.212   45.0801 ...  24.1359  25.0927  26.0603]\n",
            " [ 38.4352  26.4733  23.2717 ...  28.1094  29.4683  30.0661]\n",
            " [ 50.2984  26.0773  24.0389 ...  49.6682  50.853   53.0377]]\n"
          ]
        }
      ]
    },
    {
      "cell_type": "code",
      "source": [
        "#reshaping the dataset to flatten them. We are reshaping the 2D image into 1D array\n",
        "X_train = X_train.reshape(X_train.shape[0], 1024)\n",
        "X_test = X_test.reshape(X_test.shape[0],1024)"
      ],
      "metadata": {
        "id": "Vct48TgZyIBX"
      },
      "execution_count": 8,
      "outputs": []
    },
    {
      "cell_type": "code",
      "source": [
        "#Normalize inputs from 0-255 to 0-1\n",
        "X_train = X_train/255.0\n",
        "X_test = X_test/255.0"
      ],
      "metadata": {
        "id": "4mYcCcWbzujK"
      },
      "execution_count": 9,
      "outputs": []
    },
    {
      "cell_type": "code",
      "source": [
        "#New shape\n",
        "print('Training set: ', X_train.shape, y_train.shape)\n",
        "print('Test set:', X_test.shape, y_test.shape)"
      ],
      "metadata": {
        "colab": {
          "base_uri": "https://localhost:8080/"
        },
        "id": "fIYsx5IOz4RF",
        "outputId": "967f558e-a39a-4fdd-f745-f0bc17c9cd2f"
      },
      "execution_count": 10,
      "outputs": [
        {
          "output_type": "stream",
          "name": "stdout",
          "text": [
            "Training set:  (42000, 1024) (42000,)\n",
            "Test set: (18000, 1024) (18000,)\n"
          ]
        }
      ]
    },
    {
      "cell_type": "code",
      "source": [
        "#One hot encode output\n",
        "y_train = to_categorical(y_train)\n",
        "y_test = to_categorical(y_test)\n",
        "\n",
        "y_test #no of classes"
      ],
      "metadata": {
        "colab": {
          "base_uri": "https://localhost:8080/"
        },
        "id": "cwiFLxXL0IoI",
        "outputId": "3edb6285-230f-4831-af5c-eb321d255fc1"
      },
      "execution_count": 11,
      "outputs": [
        {
          "output_type": "execute_result",
          "data": {
            "text/plain": [
              "array([[0., 1., 0., ..., 0., 0., 0.],\n",
              "       [0., 0., 0., ..., 1., 0., 0.],\n",
              "       [0., 0., 1., ..., 0., 0., 0.],\n",
              "       ...,\n",
              "       [0., 0., 0., ..., 1., 0., 0.],\n",
              "       [0., 0., 0., ..., 0., 0., 1.],\n",
              "       [0., 0., 1., ..., 0., 0., 0.]], dtype=float32)"
            ]
          },
          "metadata": {},
          "execution_count": 11
        }
      ]
    },
    {
      "cell_type": "markdown",
      "source": [
        "Notice that each entry of the target variable is a one-hot encoded vector instead of a single label"
      ],
      "metadata": {
        "id": "Yir1MS675j8g"
      }
    },
    {
      "cell_type": "markdown",
      "source": [
        "## Model Building"
      ],
      "metadata": {
        "id": "D-TqeS0_6ftm"
      }
    },
    {
      "cell_type": "markdown",
      "source": [
        "We now need to build an ANN model"
      ],
      "metadata": {
        "id": "0_DkWc2E6jO2"
      }
    },
    {
      "cell_type": "code",
      "source": [
        "np.random.seed(42)\n",
        "import random\n",
        "random.seed(42)\n",
        "tf.random.set_seed(42)"
      ],
      "metadata": {
        "id": "Z8qz0EaM5gJz"
      },
      "execution_count": 13,
      "outputs": []
    },
    {
      "cell_type": "markdown",
      "source": [
        "**Model Architecture**\n",
        "- Build A model with\n",
        "  - First hidden layer with 64 nodes and the relu activation and the input shape = (1024)\n",
        "  - Second hidden layer with 32 nodes and the relu activation\n",
        "  - Output layer with activation as 'softmax'and number of nodes equal to the number of classes 1.e 10\n",
        "  - Compile the model with the loss equal to categorical_cross_entropy, optimizer equal to Adam (learning rate= 0.001) and metric equal to accuracy\n",
        "- Fit to the train data with a validationsplit of 0.2, batch size = 128, verbose = 1 and epochs=20. Store the model building history to use later for visualization"
      ],
      "metadata": {
        "id": "XbH0DDuA67bt"
      }
    },
    {
      "cell_type": "code",
      "source": [
        "from tensorflow.keras import losses\n",
        "from tensorflow.keras import  optimizers\n",
        "\n",
        "#Create model\n",
        "model1 = Sequential()\n",
        "model1.add(Dense(64, activation='relu', input_shape = (1024,)))\n",
        "model1.add(Dense(32, activation = 'relu'))\n",
        "model1.add(Dense(10, activation = 'softmax'))\n",
        "\n",
        "#Compile the model\n",
        "adam = optimizers.Adam(learning_rate = 0.001)\n",
        "model1.compile(loss = losses.categorical_crossentropy, optimizer = adam, metrics = ['accuracy'])"
      ],
      "metadata": {
        "id": "asahVCx-6wVX"
      },
      "execution_count": 15,
      "outputs": []
    },
    {
      "cell_type": "code",
      "source": [
        "model1.summary()"
      ],
      "metadata": {
        "colab": {
          "base_uri": "https://localhost:8080/"
        },
        "id": "6aAkzVcH89hl",
        "outputId": "a0f03ac9-4c58-4510-e01b-8da16064000f"
      },
      "execution_count": 17,
      "outputs": [
        {
          "output_type": "stream",
          "name": "stdout",
          "text": [
            "Model: \"sequential_1\"\n",
            "_________________________________________________________________\n",
            " Layer (type)                Output Shape              Param #   \n",
            "=================================================================\n",
            " dense (Dense)               (None, 64)                65600     \n",
            "                                                                 \n",
            " dense_1 (Dense)             (None, 32)                2080      \n",
            "                                                                 \n",
            " dense_2 (Dense)             (None, 10)                330       \n",
            "                                                                 \n",
            "=================================================================\n",
            "Total params: 68,010\n",
            "Trainable params: 68,010\n",
            "Non-trainable params: 0\n",
            "_________________________________________________________________\n"
          ]
        }
      ]
    },
    {
      "cell_type": "markdown",
      "source": [
        "**Observations**\n",
        "- The model has 68,010 parameters\n",
        "- All parameters are trainable"
      ],
      "metadata": {
        "id": "c_9Ouo2_9laE"
      }
    },
    {
      "cell_type": "code",
      "source": [
        "history_model_1 = model1.fit(X_train,y_train, validation_split= 0.2,epochs = 20, batch_size= 128, verbose= 1)"
      ],
      "metadata": {
        "colab": {
          "base_uri": "https://localhost:8080/"
        },
        "id": "2mvvrhll9Gfd",
        "outputId": "f3b69ebf-e4c4-4947-f0c6-dd4bcb75c1c1"
      },
      "execution_count": 18,
      "outputs": [
        {
          "output_type": "stream",
          "name": "stdout",
          "text": [
            "Epoch 1/20\n",
            "263/263 [==============================] - 3s 7ms/step - loss: 2.2993 - accuracy: 0.1179 - val_loss: 2.2594 - val_accuracy: 0.1463\n",
            "Epoch 2/20\n",
            "263/263 [==============================] - 1s 5ms/step - loss: 2.1130 - accuracy: 0.2276 - val_loss: 1.9376 - val_accuracy: 0.3279\n",
            "Epoch 3/20\n",
            "263/263 [==============================] - 2s 6ms/step - loss: 1.7953 - accuracy: 0.3824 - val_loss: 1.6499 - val_accuracy: 0.4551\n",
            "Epoch 4/20\n",
            "263/263 [==============================] - 1s 6ms/step - loss: 1.5726 - accuracy: 0.4828 - val_loss: 1.4957 - val_accuracy: 0.5094\n",
            "Epoch 5/20\n",
            "263/263 [==============================] - 1s 5ms/step - loss: 1.4604 - accuracy: 0.5268 - val_loss: 1.4267 - val_accuracy: 0.5357\n",
            "Epoch 6/20\n",
            "263/263 [==============================] - 1s 5ms/step - loss: 1.4008 - accuracy: 0.5503 - val_loss: 1.3652 - val_accuracy: 0.5613\n",
            "Epoch 7/20\n",
            "263/263 [==============================] - 1s 5ms/step - loss: 1.3588 - accuracy: 0.5682 - val_loss: 1.3282 - val_accuracy: 0.5799\n",
            "Epoch 8/20\n",
            "263/263 [==============================] - 2s 6ms/step - loss: 1.3239 - accuracy: 0.5810 - val_loss: 1.2951 - val_accuracy: 0.5931\n",
            "Epoch 9/20\n",
            "263/263 [==============================] - 2s 6ms/step - loss: 1.2967 - accuracy: 0.5946 - val_loss: 1.2838 - val_accuracy: 0.5963\n",
            "Epoch 10/20\n",
            "263/263 [==============================] - 1s 5ms/step - loss: 1.2779 - accuracy: 0.5994 - val_loss: 1.2624 - val_accuracy: 0.6029\n",
            "Epoch 11/20\n",
            "263/263 [==============================] - 1s 5ms/step - loss: 1.2604 - accuracy: 0.6049 - val_loss: 1.2670 - val_accuracy: 0.5923\n",
            "Epoch 12/20\n",
            "263/263 [==============================] - 1s 5ms/step - loss: 1.2382 - accuracy: 0.6123 - val_loss: 1.2291 - val_accuracy: 0.6170\n",
            "Epoch 13/20\n",
            "263/263 [==============================] - 2s 6ms/step - loss: 1.2287 - accuracy: 0.6166 - val_loss: 1.2327 - val_accuracy: 0.6144\n",
            "Epoch 14/20\n",
            "263/263 [==============================] - 1s 6ms/step - loss: 1.2176 - accuracy: 0.6197 - val_loss: 1.1992 - val_accuracy: 0.6255\n",
            "Epoch 15/20\n",
            "263/263 [==============================] - 1s 5ms/step - loss: 1.2087 - accuracy: 0.6244 - val_loss: 1.2110 - val_accuracy: 0.6237\n",
            "Epoch 16/20\n",
            "263/263 [==============================] - 2s 6ms/step - loss: 1.2027 - accuracy: 0.6259 - val_loss: 1.2247 - val_accuracy: 0.6152\n",
            "Epoch 17/20\n",
            "263/263 [==============================] - 1s 5ms/step - loss: 1.1894 - accuracy: 0.6296 - val_loss: 1.1941 - val_accuracy: 0.6274\n",
            "Epoch 18/20\n",
            "263/263 [==============================] - 1s 5ms/step - loss: 1.1865 - accuracy: 0.6305 - val_loss: 1.1803 - val_accuracy: 0.6310\n",
            "Epoch 19/20\n",
            "263/263 [==============================] - 2s 6ms/step - loss: 1.1783 - accuracy: 0.6338 - val_loss: 1.1853 - val_accuracy: 0.6289\n",
            "Epoch 20/20\n",
            "263/263 [==============================] - 3s 10ms/step - loss: 1.1752 - accuracy: 0.6346 - val_loss: 1.1880 - val_accuracy: 0.6277\n"
          ]
        }
      ]
    },
    {
      "cell_type": "code",
      "source": [
        "#Plotting the accuracies\n",
        "dict_hist = history_model_1.history\n",
        "list_ep = [i for i in range(1,21)]\n",
        "\n",
        "plt.figure(figsize = (8,8))\n",
        "plt.plot(list_ep, dict_hist['accuracy'], ls = '--', label = 'accuracy')\n",
        "plt.plot(list_ep, dict_hist['val_accuracy'], ls = '--', label = 'val_accuracy')\n",
        "plt.ylabel('Accuracy')\n",
        "plt.xlabel('Epochs')\n",
        "plt.legend()\n",
        "plt.show()         \n"
      ],
      "metadata": {
        "colab": {
          "base_uri": "https://localhost:8080/",
          "height": 497
        },
        "id": "F-dSxoCT974H",
        "outputId": "caa907b7-63e2-4568-f23e-dceaa981408b"
      },
      "execution_count": 20,
      "outputs": [
        {
          "output_type": "display_data",
          "data": {
            "text/plain": [
              "<Figure size 576x576 with 1 Axes>"
            ],
            "image/png": "[encoded data removed]"
          },
          "metadata": {
            "needs_background": "light"
          }
        }
      ]
    },
    {
      "cell_type": "markdown",
      "source": [
        "- As the accuracy of the train and validation sets are almost similar, we can say that the model is giving a generalized perfomance\n",
        "- Validation accuracy has started to flactuate after 10 epochs, while training accuracy is increasing with the number of epochs."
      ],
      "metadata": {
        "id": "mM5qs8Y1_Nrj"
      }
    },
    {
      "cell_type": "markdown",
      "source": [
        "**We build one more model with higher complexity and see if we can improve the perfomance of the model**"
      ],
      "metadata": {
        "id": "NZmspV25_na1"
      }
    },
    {
      "cell_type": "code",
      "source": [
        "from tensorflow.keras import backend\n",
        "backend.clear_session()"
      ],
      "metadata": {
        "id": "8ZMxT9ZN--M4"
      },
      "execution_count": 21,
      "outputs": []
    },
    {
      "cell_type": "code",
      "source": [
        "np.random.seed(42)\n",
        "import random\n",
        "random.seed(42)\n",
        "tf.random.set_seed(42)"
      ],
      "metadata": {
        "id": "KXGDAyUSAIjH"
      },
      "execution_count": 22,
      "outputs": []
    },
    {
      "cell_type": "markdown",
      "source": [
        "**Model Architecture**\n",
        "- Building  A sequential model with the following architecture\n",
        "  - First hidden layer with 256 nodes and the relu activation and the input shape = (1024,)\n",
        "  - Second hidden layer with 128 nodes and the relu activation\n",
        "  - Add the dropout layer with the rate equal to 0.2\n",
        "  - Third hidden layer with 64 nodes and the relu activation\n",
        "  - Fourth hidden layer with 32 nodes and the relu activation\n",
        "  - Add the batch normalization layer\n",
        "  - Output layer with activation as 'softmax'and number of nodes equal to the number of classes 1.e 10\n",
        "  - Compile the model with the loss equal to categorical_cross_entropy, optimizer equal to Adam (learning rate= 0.0005) and metric equal to accuracy\n",
        "- Fit to the train data with a validationsplit of 0.2, batch size = 128, verbose = 1 and epochs=30. Store the model building history to use later for visualization"
      ],
      "metadata": {
        "id": "YAUBOZz3BW5x"
      }
    },
    {
      "cell_type": "code",
      "source": [
        "from tensorflow.keras import losses\n",
        "from tensorflow.keras import  optimizers\n",
        "\n",
        "#Create model\n",
        "model2 = Sequential()\n",
        "model2.add(Dense(256, activation='relu', input_shape = (1024,)))\n",
        "model2.add(Dense(128, activation = 'relu'))\n",
        "model2.add(Dropout(0.2))\n",
        "model2.add(Dense(64, activation = 'relu'))\n",
        "model2.add(Dense(64, activation = 'relu'))\n",
        "model2.add(Dense(32, activation = 'relu'))\n",
        "model2.add(BatchNormalization())\n",
        "model2.add(Dense(10, activation = 'softmax'))\n",
        "\n",
        "#Compile the model\n",
        "adam = optimizers.Adam(learning_rate = 0.0005)\n",
        "model2.compile(loss = losses.categorical_crossentropy, optimizer = adam, metrics = ['accuracy'])"
      ],
      "metadata": {
        "id": "m3Fzh3kgASql"
      },
      "execution_count": 25,
      "outputs": []
    },
    {
      "cell_type": "code",
      "source": [
        "model2.summary()"
      ],
      "metadata": {
        "colab": {
          "base_uri": "https://localhost:8080/"
        },
        "id": "CcUZdDKFB7kw",
        "outputId": "de8cffd1-b08c-4ce0-c3dc-2a0c7ab2c867"
      },
      "execution_count": 26,
      "outputs": [
        {
          "output_type": "stream",
          "name": "stdout",
          "text": [
            "Model: \"sequential_1\"\n",
            "_________________________________________________________________\n",
            " Layer (type)                Output Shape              Param #   \n",
            "=================================================================\n",
            " dense_5 (Dense)             (None, 256)               262400    \n",
            "                                                                 \n",
            " dense_6 (Dense)             (None, 128)               32896     \n",
            "                                                                 \n",
            " dropout_1 (Dropout)         (None, 128)               0         \n",
            "                                                                 \n",
            " dense_7 (Dense)             (None, 64)                8256      \n",
            "                                                                 \n",
            " dense_8 (Dense)             (None, 64)                4160      \n",
            "                                                                 \n",
            " dense_9 (Dense)             (None, 32)                2080      \n",
            "                                                                 \n",
            " batch_normalization (BatchN  (None, 32)               128       \n",
            " ormalization)                                                   \n",
            "                                                                 \n",
            " dense_10 (Dense)            (None, 10)                330       \n",
            "                                                                 \n",
            "=================================================================\n",
            "Total params: 310,250\n",
            "Trainable params: 310,186\n",
            "Non-trainable params: 64\n",
            "_________________________________________________________________\n"
          ]
        }
      ]
    },
    {
      "cell_type": "markdown",
      "source": [
        "**Observations**\n",
        "- The total number of parameters has increased by about 4.5 times the previous model. This model is much more complex.\n",
        "- There are 64 non-trainable parameters. They belong to the batch normalization layer"
      ],
      "metadata": {
        "id": "vvZxuYrOCM4L"
      }
    },
    {
      "cell_type": "code",
      "source": [
        "history_model_2 = model2.fit(X_train,y_train, validation_split= 0.2,epochs = 30, batch_size= 128, verbose= 1)"
      ],
      "metadata": {
        "colab": {
          "base_uri": "https://localhost:8080/"
        },
        "id": "3hf8GeWRCHF0",
        "outputId": "1f66c87f-74a3-4d71-c762-98a99b85222c"
      },
      "execution_count": 27,
      "outputs": [
        {
          "output_type": "stream",
          "name": "stdout",
          "text": [
            "Epoch 1/30\n",
            "263/263 [==============================] - 4s 11ms/step - loss: 2.3457 - accuracy: 0.1037 - val_loss: 2.3102 - val_accuracy: 0.1010\n",
            "Epoch 2/30\n",
            "263/263 [==============================] - 3s 11ms/step - loss: 2.2069 - accuracy: 0.1650 - val_loss: 2.0666 - val_accuracy: 0.2689\n",
            "Epoch 3/30\n",
            "263/263 [==============================] - 3s 11ms/step - loss: 1.7101 - accuracy: 0.4050 - val_loss: 1.5476 - val_accuracy: 0.4961\n",
            "Epoch 4/30\n",
            "263/263 [==============================] - 3s 11ms/step - loss: 1.4177 - accuracy: 0.5277 - val_loss: 1.2909 - val_accuracy: 0.5774\n",
            "Epoch 5/30\n",
            "263/263 [==============================] - 4s 13ms/step - loss: 1.2512 - accuracy: 0.5927 - val_loss: 1.1351 - val_accuracy: 0.6310\n",
            "Epoch 6/30\n",
            "263/263 [==============================] - 3s 11ms/step - loss: 1.1604 - accuracy: 0.6267 - val_loss: 1.0348 - val_accuracy: 0.6730\n",
            "Epoch 7/30\n",
            "263/263 [==============================] - 4s 15ms/step - loss: 1.0899 - accuracy: 0.6501 - val_loss: 1.0580 - val_accuracy: 0.6530\n",
            "Epoch 8/30\n",
            "263/263 [==============================] - 5s 18ms/step - loss: 1.0414 - accuracy: 0.6702 - val_loss: 0.9762 - val_accuracy: 0.6913\n",
            "Epoch 9/30\n",
            "263/263 [==============================] - 3s 12ms/step - loss: 1.0057 - accuracy: 0.6810 - val_loss: 0.9564 - val_accuracy: 0.6954\n",
            "Epoch 10/30\n",
            "263/263 [==============================] - 3s 13ms/step - loss: 0.9634 - accuracy: 0.6930 - val_loss: 0.9051 - val_accuracy: 0.7104\n",
            "Epoch 11/30\n",
            "263/263 [==============================] - 3s 13ms/step - loss: 0.9472 - accuracy: 0.6972 - val_loss: 0.8898 - val_accuracy: 0.7142\n",
            "Epoch 12/30\n",
            "263/263 [==============================] - 4s 13ms/step - loss: 0.9050 - accuracy: 0.7140 - val_loss: 0.8839 - val_accuracy: 0.7217\n",
            "Epoch 13/30\n",
            "263/263 [==============================] - 4s 13ms/step - loss: 0.8901 - accuracy: 0.7195 - val_loss: 0.8922 - val_accuracy: 0.7200\n",
            "Epoch 14/30\n",
            "263/263 [==============================] - 3s 11ms/step - loss: 0.8755 - accuracy: 0.7231 - val_loss: 0.8095 - val_accuracy: 0.7465\n",
            "Epoch 15/30\n",
            "263/263 [==============================] - 4s 14ms/step - loss: 0.8489 - accuracy: 0.7321 - val_loss: 0.8849 - val_accuracy: 0.7224\n",
            "Epoch 16/30\n",
            "263/263 [==============================] - 4s 15ms/step - loss: 0.8381 - accuracy: 0.7359 - val_loss: 0.8539 - val_accuracy: 0.7345\n",
            "Epoch 17/30\n",
            "263/263 [==============================] - 3s 13ms/step - loss: 0.8194 - accuracy: 0.7404 - val_loss: 0.8511 - val_accuracy: 0.7319\n",
            "Epoch 18/30\n",
            "263/263 [==============================] - 3s 13ms/step - loss: 0.8048 - accuracy: 0.7474 - val_loss: 0.7913 - val_accuracy: 0.7530\n",
            "Epoch 19/30\n",
            "263/263 [==============================] - 3s 13ms/step - loss: 0.7901 - accuracy: 0.7490 - val_loss: 0.8218 - val_accuracy: 0.7433\n",
            "Epoch 20/30\n",
            "263/263 [==============================] - 3s 13ms/step - loss: 0.7795 - accuracy: 0.7554 - val_loss: 0.8000 - val_accuracy: 0.7469\n",
            "Epoch 21/30\n",
            "263/263 [==============================] - 3s 13ms/step - loss: 0.7680 - accuracy: 0.7574 - val_loss: 0.7592 - val_accuracy: 0.7667\n",
            "Epoch 22/30\n",
            "263/263 [==============================] - 4s 14ms/step - loss: 0.7641 - accuracy: 0.7593 - val_loss: 0.7499 - val_accuracy: 0.7635\n",
            "Epoch 23/30\n",
            "263/263 [==============================] - 4s 16ms/step - loss: 0.7459 - accuracy: 0.7665 - val_loss: 0.7826 - val_accuracy: 0.7535\n",
            "Epoch 24/30\n",
            "263/263 [==============================] - 4s 14ms/step - loss: 0.7476 - accuracy: 0.7642 - val_loss: 0.7583 - val_accuracy: 0.7611\n",
            "Epoch 25/30\n",
            "263/263 [==============================] - 3s 11ms/step - loss: 0.7349 - accuracy: 0.7655 - val_loss: 0.7313 - val_accuracy: 0.7710\n",
            "Epoch 26/30\n",
            "263/263 [==============================] - 3s 10ms/step - loss: 0.7178 - accuracy: 0.7743 - val_loss: 0.7405 - val_accuracy: 0.7681\n",
            "Epoch 27/30\n",
            "263/263 [==============================] - 3s 11ms/step - loss: 0.7216 - accuracy: 0.7707 - val_loss: 0.7487 - val_accuracy: 0.7626\n",
            "Epoch 28/30\n",
            "263/263 [==============================] - 3s 11ms/step - loss: 0.7217 - accuracy: 0.7704 - val_loss: 0.7894 - val_accuracy: 0.7487\n",
            "Epoch 29/30\n",
            "263/263 [==============================] - 3s 10ms/step - loss: 0.7200 - accuracy: 0.7728 - val_loss: 0.7721 - val_accuracy: 0.7585\n",
            "Epoch 30/30\n",
            "263/263 [==============================] - 3s 11ms/step - loss: 0.7101 - accuracy: 0.7743 - val_loss: 0.7174 - val_accuracy: 0.7756\n"
          ]
        }
      ]
    },
    {
      "cell_type": "code",
      "source": [
        "#Plotting the accuracies\n",
        "dict_hist = history_model_2.history\n",
        "list_ep = [i for i in range(1,31)]\n",
        "\n",
        "plt.figure(figsize = (8,8))\n",
        "plt.plot(list_ep, dict_hist['accuracy'], ls = '--', label = 'accuracy')\n",
        "plt.plot(list_ep, dict_hist['val_accuracy'], ls = '--', label = 'val_accuracy')\n",
        "plt.ylabel('Accuracy')\n",
        "plt.xlabel('Epochs')\n",
        "plt.legend()\n",
        "plt.show()  "
      ],
      "metadata": {
        "colab": {
          "base_uri": "https://localhost:8080/",
          "height": 497
        },
        "id": "JUe1oAdICw3l",
        "outputId": "e0e0861d-ba1e-4328-ad4e-effe9420b8b9"
      },
      "execution_count": 28,
      "outputs": [
        {
          "output_type": "display_data",
          "data": {
            "text/plain": [
              "<Figure size 576x576 with 1 Axes>"
            ],
            "image/png": "[encoded data removed]"
          },
          "metadata": {
            "needs_background": "light"
          }
        }
      ]
    },
    {
      "cell_type": "markdown",
      "source": [
        "**Observations**\n",
        "- Second more complex model is perfoming much better than the first model\n",
        "- Train and validation model has improved significantly\n",
        "- Validation accuracy is slightly higher than the training accuracy, which implies that the model complexity can be further increased."
      ],
      "metadata": {
        "id": "8TbamZkOC59t"
      }
    },
    {
      "cell_type": "markdown",
      "source": [
        "## **Predictions on the test data**"
      ],
      "metadata": {
        "id": "aq4m-B7wED9J"
      }
    },
    {
      "cell_type": "markdown",
      "source": [
        "- Make predictions on the test set using the second model\n",
        "- Print the obtained results using the classification report and the confusion matrix\n",
        "- Final observations on the obtained results"
      ],
      "metadata": {
        "id": "K-ozmvPZENL4"
      }
    },
    {
      "cell_type": "code",
      "source": [
        "test_pred = model2.predict(X_test)\n",
        "test_pred = np.argmax(test_pred, axis = -1)\n"
      ],
      "metadata": {
        "id": "-rKsu3gnEDRM"
      },
      "execution_count": 29,
      "outputs": []
    },
    {
      "cell_type": "code",
      "source": [
        "y_test = np.argmax(y_test, axis = -1)"
      ],
      "metadata": {
        "id": "WAmXng1oEqVa"
      },
      "execution_count": 30,
      "outputs": []
    },
    {
      "cell_type": "code",
      "source": [
        "from sklearn.metrics import classification_report\n",
        "from sklearn.metrics import confusion_matrix\n",
        "\n",
        "#Printing the classification report\n",
        "print(classification_report(y_test, test_pred))\n",
        "\n",
        "#plot the heatmap\n",
        "cm = confusion_matrix(y_test, test_pred)\n",
        "plt.figure(figsize=(8,5))\n",
        "sns.heatmap(cm,annot=True, fmt='.0f')\n",
        "plt.ylabel('Actual')\n",
        "plt.xlabel('Predicted')\n",
        "plt.show()"
      ],
      "metadata": {
        "colab": {
          "base_uri": "https://localhost:8080/",
          "height": 629
        },
        "id": "U93UeEjnE0MC",
        "outputId": "dd8bdaae-f15c-42cb-9fe5-32921a8d10f7"
      },
      "execution_count": 31,
      "outputs": [
        {
          "output_type": "stream",
          "name": "stdout",
          "text": [
            "              precision    recall  f1-score   support\n",
            "\n",
            "           0       0.88      0.75      0.81      1814\n",
            "           1       0.72      0.85      0.78      1828\n",
            "           2       0.77      0.81      0.79      1803\n",
            "           3       0.73      0.73      0.73      1719\n",
            "           4       0.74      0.86      0.80      1812\n",
            "           5       0.81      0.69      0.75      1768\n",
            "           6       0.82      0.75      0.78      1832\n",
            "           7       0.86      0.79      0.83      1808\n",
            "           8       0.70      0.77      0.73      1812\n",
            "           9       0.79      0.74      0.76      1804\n",
            "\n",
            "    accuracy                           0.78     18000\n",
            "   macro avg       0.78      0.78      0.78     18000\n",
            "weighted avg       0.78      0.78      0.78     18000\n",
            "\n"
          ]
        },
        {
          "output_type": "display_data",
          "data": {
            "text/plain": [
              "<Figure size 576x360 with 2 Axes>"
            ],
            "image/png": "[encoded data removed]"
          },
          "metadata": {
            "needs_background": "light"
          }
        }
      ]
    },
    {
      "cell_type": "markdown",
      "source": [
        "**Observations**\n",
        "- The accuracy is 78% on the test set. This is comparable with results on the train and validation sets which means the model is generalizing well\n",
        "- Recall values for all the digits are higher than 70% exceptdigit 5\n",
        "- Highest recall at 86% is for digit 4,i.e the model can identify 86% of images with digit 4\n",
        "- The least precision is for digit 1 and 8.\n",
        "- There is an indication that the model is not able to identify small variations among digits."
      ],
      "metadata": {
        "id": "d_817ZNKGATC"
      }
    }
  ]
}